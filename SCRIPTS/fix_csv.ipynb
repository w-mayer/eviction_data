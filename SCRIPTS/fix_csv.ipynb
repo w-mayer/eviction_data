{
 "cells": [
  {
   "cell_type": "code",
   "execution_count": 4,
   "id": "dbc35baf",
   "metadata": {},
   "outputs": [],
   "source": [
    "import csv\n",
    "\n",
    "# File paths (replace with your actual paths)\n",
    "original_file = '../DATA/LLC.csv'\n",
    "cleaned_file = '../DATA/LLC_clean.csv'\n",
    "\n",
    "with open(original_file, 'r', newline='') as infile, open(cleaned_file, 'w', newline='') as outfile:\n",
    "    reader = csv.reader(infile)\n",
    "    writer = csv.writer(outfile)\n",
    "    \n",
    "    # Write the header, skipping the leading empty field\n",
    "    header = next(reader)\n",
    "    writer.writerow(header[1:])  # e.g., ['EntityID', 'Name', 'Status', ...]\n",
    "    \n",
    "    # Process each data row\n",
    "    for row in reader:\n",
    "        cleaned_row = [field.strip() for field in row]  # Clean whitespace\n",
    "        if len(cleaned_row) == 32 and cleaned_row[0] == '':\n",
    "            cleaned_row = cleaned_row[1:]  # Remove leading empty field\n",
    "        elif len(cleaned_row) < 31:\n",
    "            cleaned_row += [''] * (31 - len(cleaned_row))  # Pad with empty strings\n",
    "        elif len(cleaned_row) > 31:\n",
    "            cleaned_row = cleaned_row[:31]  # Truncate extra fields\n",
    "        writer.writerow(cleaned_row)"
   ]
  },
  {
   "cell_type": "code",
   "execution_count": 5,
   "id": "0312c69c",
   "metadata": {},
   "outputs": [],
   "source": [
    "import pandas as pd\n",
    "df = pd.read_csv('../DATA/LLC_clean.csv',low_memory=False)\n",
    "df.to_parquet('../DATA/LLC_clean.parquet')"
   ]
  },
  {
   "cell_type": "code",
   "execution_count": 6,
   "id": "dc1e39b0",
   "metadata": {},
   "outputs": [
    {
     "name": "stderr",
     "output_type": "stream",
     "text": [
      "/var/folders/ll/gtcbtj4n6mjf4mwvq3711yw40000gn/T/ipykernel_2421/794206808.py:1: DtypeWarning: Columns (9) have mixed types. Specify dtype option on import or set low_memory=False.\n",
      "  df = pd.read_csv('../DATA/cases_residential_only.txt', quotechar='\"')\n"
     ]
    }
   ],
   "source": [
    "df = pd.read_csv('../DATA/cases_residential_only.txt', quotechar='\"')\n",
    "df.to_parquet('../DATA/evictions.parquet')"
   ]
  }
 ],
 "metadata": {
  "kernelspec": {
   "display_name": ".venv",
   "language": "python",
   "name": "python3"
  },
  "language_info": {
   "codemirror_mode": {
    "name": "ipython",
    "version": 3
   },
   "file_extension": ".py",
   "mimetype": "text/x-python",
   "name": "python",
   "nbconvert_exporter": "python",
   "pygments_lexer": "ipython3",
   "version": "undefined.undefined.undefined"
  }
 },
 "nbformat": 4,
 "nbformat_minor": 5
}
