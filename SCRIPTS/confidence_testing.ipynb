{
 "cells": [
  {
   "cell_type": "code",
   "execution_count": 1,
   "id": "250fb3fa-a56e-4917-b4d1-3bc7b4f28b85",
   "metadata": {
    "tags": []
   },
   "outputs": [],
   "source": [
    "import pandas as pd"
   ]
  },
  {
   "cell_type": "code",
   "execution_count": 2,
   "id": "01428507-c223-4309-8d56-8480b1f5397d",
   "metadata": {
    "tags": []
   },
   "outputs": [],
   "source": [
    "df = pd.read_parquet('../OUTPUT/evictions_matched.parquet')"
   ]
  },
  {
   "cell_type": "code",
   "execution_count": 3,
   "id": "f547dad9-ccec-4694-a855-cd0c7524de8f",
   "metadata": {
    "tags": []
   },
   "outputs": [
    {
     "name": "stdout",
     "output_type": "stream",
     "text": [
      "confidence_bucket\n",
      "<70            0\n",
      "70–80          0\n",
      "80–85          0\n",
      "85–90     206867\n",
      "90–95      79010\n",
      "95–100    260210\n",
      "Name: count, dtype: int64\n",
      "Total matches: 546089\n"
     ]
    }
   ],
   "source": [
    "df['confidence_bucket'] = pd.cut(\n",
    "    df['match_confidence'],\n",
    "    bins=[0, 70, 80, 85, 90, 95, 100],\n",
    "    labels=['<70', '70–80', '80–85', '85–90', '90–95', '95–100']\n",
    ")\n",
    "\n",
    "# Overview of distribution\n",
    "print(df['confidence_bucket'].value_counts().sort_index())\n",
    "print(f'Total matches: {df.shape[0]}')"
   ]
  },
  {
   "cell_type": "code",
   "execution_count": 5,
   "id": "e9d1d669-5571-4916-8527-f79d4ed72bd9",
   "metadata": {
    "tags": []
   },
   "outputs": [
    {
     "name": "stdout",
     "output_type": "stream",
     "text": [
      "\n",
      "--- Sample from Confidence Bucket: 90–95 ---\n"
     ]
    },
    {
     "data": {
      "application/vnd.microsoft.datawrangler.viewer.v0+json": {
       "columns": [
        {
         "name": "index",
         "rawType": "int64",
         "type": "integer"
        },
        {
         "name": "plaintiff_name",
         "rawType": "object",
         "type": "string"
        },
        {
         "name": "Name",
         "rawType": "object",
         "type": "string"
        }
       ],
       "conversionMethod": "pd.DataFrame",
       "ref": "38a41389-d239-40e8-9da1-277858790f4d",
       "rows": [
        [
         "513910",
         "VILLAGE AT STONEYBROOK LLC",
         "The Village at StoneyBrook, L.L.C."
        ],
        [
         "507590",
         "UNITED PROPERTY ASSOCIATES INC",
         "White Property Associates, L.L.C."
        ],
        [
         "271014",
         "JUDY BOONE REALTY INC",
         "Boone Realty LLC"
        ],
        [
         "351939",
         "NEWPORT LAKE APTS LLC",
         "LAKE NEWPORT, LLC"
        ],
        [
         "520904",
         "WASHINGTON AVENUE APTS LLC",
         "Washington Avenue, LLC"
        ]
       ],
       "shape": {
        "columns": 2,
        "rows": 5
       }
      },
      "text/html": [
       "<div>\n",
       "<style scoped>\n",
       "    .dataframe tbody tr th:only-of-type {\n",
       "        vertical-align: middle;\n",
       "    }\n",
       "\n",
       "    .dataframe tbody tr th {\n",
       "        vertical-align: top;\n",
       "    }\n",
       "\n",
       "    .dataframe thead th {\n",
       "        text-align: right;\n",
       "    }\n",
       "</style>\n",
       "<table border=\"1\" class=\"dataframe\">\n",
       "  <thead>\n",
       "    <tr style=\"text-align: right;\">\n",
       "      <th></th>\n",
       "      <th>plaintiff_name</th>\n",
       "      <th>Name</th>\n",
       "    </tr>\n",
       "  </thead>\n",
       "  <tbody>\n",
       "    <tr>\n",
       "      <th>513910</th>\n",
       "      <td>VILLAGE AT STONEYBROOK LLC</td>\n",
       "      <td>The Village at StoneyBrook, L.L.C.</td>\n",
       "    </tr>\n",
       "    <tr>\n",
       "      <th>507590</th>\n",
       "      <td>UNITED PROPERTY ASSOCIATES INC</td>\n",
       "      <td>White Property Associates, L.L.C.</td>\n",
       "    </tr>\n",
       "    <tr>\n",
       "      <th>271014</th>\n",
       "      <td>JUDY BOONE REALTY INC</td>\n",
       "      <td>Boone Realty LLC</td>\n",
       "    </tr>\n",
       "    <tr>\n",
       "      <th>351939</th>\n",
       "      <td>NEWPORT LAKE APTS LLC</td>\n",
       "      <td>LAKE NEWPORT, LLC</td>\n",
       "    </tr>\n",
       "    <tr>\n",
       "      <th>520904</th>\n",
       "      <td>WASHINGTON AVENUE APTS LLC</td>\n",
       "      <td>Washington Avenue, LLC</td>\n",
       "    </tr>\n",
       "  </tbody>\n",
       "</table>\n",
       "</div>"
      ],
      "text/plain": [
       "                        plaintiff_name                                Name\n",
       "513910      VILLAGE AT STONEYBROOK LLC  The Village at StoneyBrook, L.L.C.\n",
       "507590  UNITED PROPERTY ASSOCIATES INC   White Property Associates, L.L.C.\n",
       "271014           JUDY BOONE REALTY INC                    Boone Realty LLC\n",
       "351939           NEWPORT LAKE APTS LLC                   LAKE NEWPORT, LLC\n",
       "520904      WASHINGTON AVENUE APTS LLC              Washington Avenue, LLC"
      ]
     },
     "metadata": {},
     "output_type": "display_data"
    },
    {
     "name": "stdout",
     "output_type": "stream",
     "text": [
      "\n",
      "--- Sample from Confidence Bucket: 85–90 ---\n"
     ]
    },
    {
     "data": {
      "application/vnd.microsoft.datawrangler.viewer.v0+json": {
       "columns": [
        {
         "name": "index",
         "rawType": "int64",
         "type": "integer"
        },
        {
         "name": "plaintiff_name",
         "rawType": "object",
         "type": "string"
        },
        {
         "name": "Name",
         "rawType": "object",
         "type": "string"
        }
       ],
       "conversionMethod": "pd.DataFrame",
       "ref": "604fccbc-0ca7-43ce-8f31-43243ea14092",
       "rows": [
        [
         "457785",
         "SOUTHERN MGMT CORP",
         "MG LLC"
        ],
        [
         "102357",
         "BROOKVILLE APTS LP",
         "AP LLC"
        ],
        [
         "208873",
         "G E MATTHEWS INC",
         "TTL LLC"
        ],
        [
         "377205",
         "PC TGA RICHMOND JV LLC",
         "C & T, L.L.C."
        ],
        [
         "368436",
         "ORCHARD MILLS APTS LP",
         "ORCHARD LLC"
        ]
       ],
       "shape": {
        "columns": 2,
        "rows": 5
       }
      },
      "text/html": [
       "<div>\n",
       "<style scoped>\n",
       "    .dataframe tbody tr th:only-of-type {\n",
       "        vertical-align: middle;\n",
       "    }\n",
       "\n",
       "    .dataframe tbody tr th {\n",
       "        vertical-align: top;\n",
       "    }\n",
       "\n",
       "    .dataframe thead th {\n",
       "        text-align: right;\n",
       "    }\n",
       "</style>\n",
       "<table border=\"1\" class=\"dataframe\">\n",
       "  <thead>\n",
       "    <tr style=\"text-align: right;\">\n",
       "      <th></th>\n",
       "      <th>plaintiff_name</th>\n",
       "      <th>Name</th>\n",
       "    </tr>\n",
       "  </thead>\n",
       "  <tbody>\n",
       "    <tr>\n",
       "      <th>457785</th>\n",
       "      <td>SOUTHERN MGMT CORP</td>\n",
       "      <td>MG LLC</td>\n",
       "    </tr>\n",
       "    <tr>\n",
       "      <th>102357</th>\n",
       "      <td>BROOKVILLE APTS LP</td>\n",
       "      <td>AP LLC</td>\n",
       "    </tr>\n",
       "    <tr>\n",
       "      <th>208873</th>\n",
       "      <td>G E MATTHEWS INC</td>\n",
       "      <td>TTL LLC</td>\n",
       "    </tr>\n",
       "    <tr>\n",
       "      <th>377205</th>\n",
       "      <td>PC TGA RICHMOND JV LLC</td>\n",
       "      <td>C &amp; T, L.L.C.</td>\n",
       "    </tr>\n",
       "    <tr>\n",
       "      <th>368436</th>\n",
       "      <td>ORCHARD MILLS APTS LP</td>\n",
       "      <td>ORCHARD LLC</td>\n",
       "    </tr>\n",
       "  </tbody>\n",
       "</table>\n",
       "</div>"
      ],
      "text/plain": [
       "                plaintiff_name           Name\n",
       "457785      SOUTHERN MGMT CORP         MG LLC\n",
       "102357      BROOKVILLE APTS LP         AP LLC\n",
       "208873        G E MATTHEWS INC        TTL LLC\n",
       "377205  PC TGA RICHMOND JV LLC  C & T, L.L.C.\n",
       "368436   ORCHARD MILLS APTS LP    ORCHARD LLC"
      ]
     },
     "metadata": {},
     "output_type": "display_data"
    },
    {
     "name": "stdout",
     "output_type": "stream",
     "text": [
      "\n",
      "--- Sample from Confidence Bucket: 95–100 ---\n"
     ]
    },
    {
     "data": {
      "application/vnd.microsoft.datawrangler.viewer.v0+json": {
       "columns": [
        {
         "name": "index",
         "rawType": "int64",
         "type": "integer"
        },
        {
         "name": "plaintiff_name",
         "rawType": "object",
         "type": "string"
        },
        {
         "name": "Name",
         "rawType": "object",
         "type": "string"
        }
       ],
       "conversionMethod": "pd.DataFrame",
       "ref": "03b417df-b3ef-4061-87d6-677ff399d0a5",
       "rows": [
        [
         "62357",
         "ATLANTIC MULTI FAMILY 8 HILTON VILLAGE LLC",
         "Atlantic Multi Family 8--Hilton Village, LLC"
        ],
        [
         "472339",
         "STONEY RUN VILLAGE LLC",
         "Stoney Run Village, LLC"
        ],
        [
         "51402",
         "APEX GLENWOOD VA LLC",
         "Apex Glenwood VA LLC"
        ],
        [
         "3606",
         "140 SOUTH VAN DORN STREET VA OWNER LLC",
         "140 South Van Dorn Street (VA) Owner, LLC"
        ],
        [
         "331886",
         "MH ESTATES LLC",
         "MH Estates LLC"
        ]
       ],
       "shape": {
        "columns": 2,
        "rows": 5
       }
      },
      "text/html": [
       "<div>\n",
       "<style scoped>\n",
       "    .dataframe tbody tr th:only-of-type {\n",
       "        vertical-align: middle;\n",
       "    }\n",
       "\n",
       "    .dataframe tbody tr th {\n",
       "        vertical-align: top;\n",
       "    }\n",
       "\n",
       "    .dataframe thead th {\n",
       "        text-align: right;\n",
       "    }\n",
       "</style>\n",
       "<table border=\"1\" class=\"dataframe\">\n",
       "  <thead>\n",
       "    <tr style=\"text-align: right;\">\n",
       "      <th></th>\n",
       "      <th>plaintiff_name</th>\n",
       "      <th>Name</th>\n",
       "    </tr>\n",
       "  </thead>\n",
       "  <tbody>\n",
       "    <tr>\n",
       "      <th>62357</th>\n",
       "      <td>ATLANTIC MULTI FAMILY 8 HILTON VILLAGE LLC</td>\n",
       "      <td>Atlantic Multi Family 8--Hilton Village, LLC</td>\n",
       "    </tr>\n",
       "    <tr>\n",
       "      <th>472339</th>\n",
       "      <td>STONEY RUN VILLAGE LLC</td>\n",
       "      <td>Stoney Run Village, LLC</td>\n",
       "    </tr>\n",
       "    <tr>\n",
       "      <th>51402</th>\n",
       "      <td>APEX GLENWOOD VA LLC</td>\n",
       "      <td>Apex Glenwood VA LLC</td>\n",
       "    </tr>\n",
       "    <tr>\n",
       "      <th>3606</th>\n",
       "      <td>140 SOUTH VAN DORN STREET VA OWNER LLC</td>\n",
       "      <td>140 South Van Dorn Street (VA) Owner, LLC</td>\n",
       "    </tr>\n",
       "    <tr>\n",
       "      <th>331886</th>\n",
       "      <td>MH ESTATES LLC</td>\n",
       "      <td>MH Estates LLC</td>\n",
       "    </tr>\n",
       "  </tbody>\n",
       "</table>\n",
       "</div>"
      ],
      "text/plain": [
       "                                    plaintiff_name  \\\n",
       "62357   ATLANTIC MULTI FAMILY 8 HILTON VILLAGE LLC   \n",
       "472339                      STONEY RUN VILLAGE LLC   \n",
       "51402                         APEX GLENWOOD VA LLC   \n",
       "3606        140 SOUTH VAN DORN STREET VA OWNER LLC   \n",
       "331886                              MH ESTATES LLC   \n",
       "\n",
       "                                                Name  \n",
       "62357   Atlantic Multi Family 8--Hilton Village, LLC  \n",
       "472339                       Stoney Run Village, LLC  \n",
       "51402                           Apex Glenwood VA LLC  \n",
       "3606       140 South Van Dorn Street (VA) Owner, LLC  \n",
       "331886                                MH Estates LLC  "
      ]
     },
     "metadata": {},
     "output_type": "display_data"
    },
    {
     "name": "stdout",
     "output_type": "stream",
     "text": [
      "\n",
      "--- Sample from Confidence Bucket: nan ---\n"
     ]
    }
   ],
   "source": [
    "for bucket in df['confidence_bucket'].unique():\n",
    "    print(f\"\\n--- Sample from Confidence Bucket: {bucket} ---\")\n",
    "    bucket_df = df[df['confidence_bucket'] == bucket][['plaintiff_name', 'Name']]\n",
    "    if len(bucket_df) >= 5:\n",
    "        display(bucket_df.sample(5))"
   ]
  }
 ],
 "metadata": {
  "kernelspec": {
   "display_name": ".venv",
   "language": "python",
   "name": "python3"
  },
  "language_info": {
   "codemirror_mode": {
    "name": "ipython",
    "version": 3
   },
   "file_extension": ".py",
   "mimetype": "text/x-python",
   "name": "python",
   "nbconvert_exporter": "python",
   "pygments_lexer": "ipython3",
   "version": "3.13.3"
  }
 },
 "nbformat": 4,
 "nbformat_minor": 5
}
