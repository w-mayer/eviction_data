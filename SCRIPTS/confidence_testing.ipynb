{
 "cells": [
  {
   "cell_type": "code",
   "execution_count": 19,
   "id": "250fb3fa-a56e-4917-b4d1-3bc7b4f28b85",
   "metadata": {
    "tags": []
   },
   "outputs": [],
   "source": [
    "import pandas as pd"
   ]
  },
  {
   "cell_type": "code",
   "execution_count": 20,
   "id": "01428507-c223-4309-8d56-8480b1f5397d",
   "metadata": {
    "tags": []
   },
   "outputs": [],
   "source": [
    "df = pd.read_parquet('../OUTPUT/evictions_matched.parquet')"
   ]
  },
  {
   "cell_type": "code",
   "execution_count": 21,
   "id": "213bd223",
   "metadata": {},
   "outputs": [],
   "source": [
    "matches = df.copy()"
   ]
  },
  {
   "cell_type": "code",
   "execution_count": 22,
   "id": "8a76dedc",
   "metadata": {},
   "outputs": [],
   "source": [
    "matches = matches.sort_values(by='match_confidence', ascending=False)"
   ]
  },
  {
   "cell_type": "code",
   "execution_count": 23,
   "id": "3392fbe9",
   "metadata": {},
   "outputs": [],
   "source": [
    "matches = matches[['plaintiff_name', 'Name', 'match_confidence']]"
   ]
  },
  {
   "cell_type": "code",
   "execution_count": 24,
   "id": "2ded99bb",
   "metadata": {},
   "outputs": [],
   "source": [
    "matches = matches.drop_duplicates()"
   ]
  },
  {
   "cell_type": "code",
   "execution_count": 25,
   "id": "c7540f81",
   "metadata": {},
   "outputs": [],
   "source": [
    "matches.to_csv('../OUTPUT/full_matches.csv')"
   ]
  },
  {
   "cell_type": "code",
   "execution_count": 26,
   "id": "f547dad9-ccec-4694-a855-cd0c7524de8f",
   "metadata": {
    "tags": []
   },
   "outputs": [
    {
     "name": "stdout",
     "output_type": "stream",
     "text": [
      "confidence_bucket\n",
      "<70            0\n",
      "70–80          0\n",
      "80–85          0\n",
      "85–90     333660\n",
      "90–95      63719\n",
      "95–100    233010\n",
      "Name: count, dtype: int64\n"
     ]
    }
   ],
   "source": [
    "df['confidence_bucket'] = pd.cut(\n",
    "    df['match_confidence'],\n",
    "    bins=[0, 70, 80, 85, 90, 95, 100],\n",
    "    labels=['<70', '70–80', '80–85', '85–90', '90–95', '95–100']\n",
    ")\n",
    "\n",
    "# Overview of distribution\n",
    "print(df['confidence_bucket'].value_counts().sort_index())"
   ]
  },
  {
   "cell_type": "code",
   "execution_count": 27,
   "id": "e9d1d669-5571-4916-8527-f79d4ed72bd9",
   "metadata": {
    "tags": []
   },
   "outputs": [
    {
     "name": "stdout",
     "output_type": "stream",
     "text": [
      "\n",
      "--- Sample from Confidence Bucket: 85–90 ---\n"
     ]
    },
    {
     "data": {
      "application/vnd.microsoft.datawrangler.viewer.v0+json": {
       "columns": [
        {
         "name": "index",
         "rawType": "int64",
         "type": "integer"
        },
        {
         "name": "plaintiff_name",
         "rawType": "object",
         "type": "string"
        },
        {
         "name": "Name",
         "rawType": "object",
         "type": "string"
        }
       ],
       "conversionMethod": "pd.DataFrame",
       "ref": "b56ad3db-952e-46ad-8ce3-eba333bdbf96",
       "rows": [
        [
         "413450",
         "PANCO MGMT OF NJ LLC",
         "PCC LLC"
        ],
        [
         "41746",
         "AMGULF CORP",
         "F & L, L.L.C."
        ],
        [
         "556887",
         "TGM HONEY BROOK APTS LLC",
         "TLHP LLC"
        ],
        [
         "549137",
         "TACKETT APTS LLC",
         "TPBC, LLC"
        ],
        [
         "153270",
         "CORE PARK WEST END LLC",
         "PRC LLC"
        ]
       ],
       "shape": {
        "columns": 2,
        "rows": 5
       }
      },
      "text/html": [
       "<div>\n",
       "<style scoped>\n",
       "    .dataframe tbody tr th:only-of-type {\n",
       "        vertical-align: middle;\n",
       "    }\n",
       "\n",
       "    .dataframe tbody tr th {\n",
       "        vertical-align: top;\n",
       "    }\n",
       "\n",
       "    .dataframe thead th {\n",
       "        text-align: right;\n",
       "    }\n",
       "</style>\n",
       "<table border=\"1\" class=\"dataframe\">\n",
       "  <thead>\n",
       "    <tr style=\"text-align: right;\">\n",
       "      <th></th>\n",
       "      <th>plaintiff_name</th>\n",
       "      <th>Name</th>\n",
       "    </tr>\n",
       "  </thead>\n",
       "  <tbody>\n",
       "    <tr>\n",
       "      <th>413450</th>\n",
       "      <td>PANCO MGMT OF NJ LLC</td>\n",
       "      <td>PCC LLC</td>\n",
       "    </tr>\n",
       "    <tr>\n",
       "      <th>41746</th>\n",
       "      <td>AMGULF CORP</td>\n",
       "      <td>F &amp; L, L.L.C.</td>\n",
       "    </tr>\n",
       "    <tr>\n",
       "      <th>556887</th>\n",
       "      <td>TGM HONEY BROOK APTS LLC</td>\n",
       "      <td>TLHP LLC</td>\n",
       "    </tr>\n",
       "    <tr>\n",
       "      <th>549137</th>\n",
       "      <td>TACKETT APTS LLC</td>\n",
       "      <td>TPBC, LLC</td>\n",
       "    </tr>\n",
       "    <tr>\n",
       "      <th>153270</th>\n",
       "      <td>CORE PARK WEST END LLC</td>\n",
       "      <td>PRC LLC</td>\n",
       "    </tr>\n",
       "  </tbody>\n",
       "</table>\n",
       "</div>"
      ],
      "text/plain": [
       "                  plaintiff_name           Name\n",
       "413450      PANCO MGMT OF NJ LLC        PCC LLC\n",
       "41746                AMGULF CORP  F & L, L.L.C.\n",
       "556887  TGM HONEY BROOK APTS LLC       TLHP LLC\n",
       "549137          TACKETT APTS LLC      TPBC, LLC\n",
       "153270    CORE PARK WEST END LLC        PRC LLC"
      ]
     },
     "metadata": {},
     "output_type": "display_data"
    },
    {
     "name": "stdout",
     "output_type": "stream",
     "text": [
      "\n",
      "--- Sample from Confidence Bucket: 95–100 ---\n"
     ]
    },
    {
     "data": {
      "application/vnd.microsoft.datawrangler.viewer.v0+json": {
       "columns": [
        {
         "name": "index",
         "rawType": "int64",
         "type": "integer"
        },
        {
         "name": "plaintiff_name",
         "rawType": "object",
         "type": "string"
        },
        {
         "name": "Name",
         "rawType": "object",
         "type": "string"
        }
       ],
       "conversionMethod": "pd.DataFrame",
       "ref": "00d0c5f7-5d86-464d-b372-7c2a55e137ce",
       "rows": [
        [
         "216938",
         "FPACP4 BLVD 2801 LLC",
         "FPACP4 BLVD 2801, LLC"
        ],
        [
         "608984",
         "WESTOVER 305 LLC",
         "Westover 305, LLC"
        ],
        [
         "228806",
         "GATEWAY ASSOCIATES OF RICHMOND LLC",
         "Gateway Associates of Richmond, LLC"
        ],
        [
         "428123",
         "PENINSULA GROVE LLC",
         "Peninsula Grove, LLC"
        ],
        [
         "595171",
         "VIRGINIA COMMON RENTALS LLC",
         "Virginia Common Rentals LLC"
        ]
       ],
       "shape": {
        "columns": 2,
        "rows": 5
       }
      },
      "text/html": [
       "<div>\n",
       "<style scoped>\n",
       "    .dataframe tbody tr th:only-of-type {\n",
       "        vertical-align: middle;\n",
       "    }\n",
       "\n",
       "    .dataframe tbody tr th {\n",
       "        vertical-align: top;\n",
       "    }\n",
       "\n",
       "    .dataframe thead th {\n",
       "        text-align: right;\n",
       "    }\n",
       "</style>\n",
       "<table border=\"1\" class=\"dataframe\">\n",
       "  <thead>\n",
       "    <tr style=\"text-align: right;\">\n",
       "      <th></th>\n",
       "      <th>plaintiff_name</th>\n",
       "      <th>Name</th>\n",
       "    </tr>\n",
       "  </thead>\n",
       "  <tbody>\n",
       "    <tr>\n",
       "      <th>216938</th>\n",
       "      <td>FPACP4 BLVD 2801 LLC</td>\n",
       "      <td>FPACP4 BLVD 2801, LLC</td>\n",
       "    </tr>\n",
       "    <tr>\n",
       "      <th>608984</th>\n",
       "      <td>WESTOVER 305 LLC</td>\n",
       "      <td>Westover 305, LLC</td>\n",
       "    </tr>\n",
       "    <tr>\n",
       "      <th>228806</th>\n",
       "      <td>GATEWAY ASSOCIATES OF RICHMOND LLC</td>\n",
       "      <td>Gateway Associates of Richmond, LLC</td>\n",
       "    </tr>\n",
       "    <tr>\n",
       "      <th>428123</th>\n",
       "      <td>PENINSULA GROVE LLC</td>\n",
       "      <td>Peninsula Grove, LLC</td>\n",
       "    </tr>\n",
       "    <tr>\n",
       "      <th>595171</th>\n",
       "      <td>VIRGINIA COMMON RENTALS LLC</td>\n",
       "      <td>Virginia Common Rentals LLC</td>\n",
       "    </tr>\n",
       "  </tbody>\n",
       "</table>\n",
       "</div>"
      ],
      "text/plain": [
       "                            plaintiff_name  \\\n",
       "216938                FPACP4 BLVD 2801 LLC   \n",
       "608984                    WESTOVER 305 LLC   \n",
       "228806  GATEWAY ASSOCIATES OF RICHMOND LLC   \n",
       "428123                 PENINSULA GROVE LLC   \n",
       "595171         VIRGINIA COMMON RENTALS LLC   \n",
       "\n",
       "                                       Name  \n",
       "216938                FPACP4 BLVD 2801, LLC  \n",
       "608984                    Westover 305, LLC  \n",
       "228806  Gateway Associates of Richmond, LLC  \n",
       "428123                 Peninsula Grove, LLC  \n",
       "595171          Virginia Common Rentals LLC  "
      ]
     },
     "metadata": {},
     "output_type": "display_data"
    },
    {
     "name": "stdout",
     "output_type": "stream",
     "text": [
      "\n",
      "--- Sample from Confidence Bucket: 90–95 ---\n"
     ]
    },
    {
     "data": {
      "application/vnd.microsoft.datawrangler.viewer.v0+json": {
       "columns": [
        {
         "name": "index",
         "rawType": "int64",
         "type": "integer"
        },
        {
         "name": "plaintiff_name",
         "rawType": "object",
         "type": "string"
        },
        {
         "name": "Name",
         "rawType": "object",
         "type": "string"
        }
       ],
       "conversionMethod": "pd.DataFrame",
       "ref": "96c030e9-eb40-4be5-8ebc-bfba683db6e6",
       "rows": [
        [
         "562563",
         "TILDEN FUNDAMENTAL LIEUTENANTS RUN APTS LLC",
         "Tilden Fundamental Lieutenant's Run Apartments, LLC"
        ],
        [
         "348298",
         "MONTGOMERY SQ ACQUISITION LLC",
         "Montgomery Square Acquisition, LLC"
        ],
        [
         "351698",
         "MOUNT VERNON SQ LANTERN OWNER LLC",
         "Mount Vernon Square Lantern Owner LLC"
        ],
        [
         "106587",
         "CAMDEN DEVELOPMENT INC",
         "Camden Land Development, LLC"
        ],
        [
         "530080",
         "SOUTHGATE APTS LLC",
         "SOUTHGATE LLC"
        ]
       ],
       "shape": {
        "columns": 2,
        "rows": 5
       }
      },
      "text/html": [
       "<div>\n",
       "<style scoped>\n",
       "    .dataframe tbody tr th:only-of-type {\n",
       "        vertical-align: middle;\n",
       "    }\n",
       "\n",
       "    .dataframe tbody tr th {\n",
       "        vertical-align: top;\n",
       "    }\n",
       "\n",
       "    .dataframe thead th {\n",
       "        text-align: right;\n",
       "    }\n",
       "</style>\n",
       "<table border=\"1\" class=\"dataframe\">\n",
       "  <thead>\n",
       "    <tr style=\"text-align: right;\">\n",
       "      <th></th>\n",
       "      <th>plaintiff_name</th>\n",
       "      <th>Name</th>\n",
       "    </tr>\n",
       "  </thead>\n",
       "  <tbody>\n",
       "    <tr>\n",
       "      <th>562563</th>\n",
       "      <td>TILDEN FUNDAMENTAL LIEUTENANTS RUN APTS LLC</td>\n",
       "      <td>Tilden Fundamental Lieutenant's Run Apartments...</td>\n",
       "    </tr>\n",
       "    <tr>\n",
       "      <th>348298</th>\n",
       "      <td>MONTGOMERY SQ ACQUISITION LLC</td>\n",
       "      <td>Montgomery Square Acquisition, LLC</td>\n",
       "    </tr>\n",
       "    <tr>\n",
       "      <th>351698</th>\n",
       "      <td>MOUNT VERNON SQ LANTERN OWNER LLC</td>\n",
       "      <td>Mount Vernon Square Lantern Owner LLC</td>\n",
       "    </tr>\n",
       "    <tr>\n",
       "      <th>106587</th>\n",
       "      <td>CAMDEN DEVELOPMENT INC</td>\n",
       "      <td>Camden Land Development, LLC</td>\n",
       "    </tr>\n",
       "    <tr>\n",
       "      <th>530080</th>\n",
       "      <td>SOUTHGATE APTS LLC</td>\n",
       "      <td>SOUTHGATE LLC</td>\n",
       "    </tr>\n",
       "  </tbody>\n",
       "</table>\n",
       "</div>"
      ],
      "text/plain": [
       "                                     plaintiff_name  \\\n",
       "562563  TILDEN FUNDAMENTAL LIEUTENANTS RUN APTS LLC   \n",
       "348298                MONTGOMERY SQ ACQUISITION LLC   \n",
       "351698            MOUNT VERNON SQ LANTERN OWNER LLC   \n",
       "106587                       CAMDEN DEVELOPMENT INC   \n",
       "530080                           SOUTHGATE APTS LLC   \n",
       "\n",
       "                                                     Name  \n",
       "562563  Tilden Fundamental Lieutenant's Run Apartments...  \n",
       "348298                 Montgomery Square Acquisition, LLC  \n",
       "351698              Mount Vernon Square Lantern Owner LLC  \n",
       "106587                       Camden Land Development, LLC  \n",
       "530080                                      SOUTHGATE LLC  "
      ]
     },
     "metadata": {},
     "output_type": "display_data"
    },
    {
     "name": "stdout",
     "output_type": "stream",
     "text": [
      "\n",
      "--- Sample from Confidence Bucket: nan ---\n"
     ]
    },
    {
     "ename": "ValueError",
     "evalue": "a must be greater than 0 unless no samples are taken",
     "output_type": "error",
     "traceback": [
      "\u001b[31m---------------------------------------------------------------------------\u001b[39m",
      "\u001b[31mValueError\u001b[39m                                Traceback (most recent call last)",
      "\u001b[36mCell\u001b[39m\u001b[36m \u001b[39m\u001b[32mIn[27]\u001b[39m\u001b[32m, line 3\u001b[39m\n\u001b[32m      1\u001b[39m \u001b[38;5;28;01mfor\u001b[39;00m bucket \u001b[38;5;129;01min\u001b[39;00m df[\u001b[33m'\u001b[39m\u001b[33mconfidence_bucket\u001b[39m\u001b[33m'\u001b[39m].unique():\n\u001b[32m      2\u001b[39m     \u001b[38;5;28mprint\u001b[39m(\u001b[33mf\u001b[39m\u001b[33m\"\u001b[39m\u001b[38;5;130;01m\\n\u001b[39;00m\u001b[33m--- Sample from Confidence Bucket: \u001b[39m\u001b[38;5;132;01m{\u001b[39;00mbucket\u001b[38;5;132;01m}\u001b[39;00m\u001b[33m ---\u001b[39m\u001b[33m\"\u001b[39m)\n\u001b[32m----> \u001b[39m\u001b[32m3\u001b[39m     display(\u001b[43mdf\u001b[49m\u001b[43m[\u001b[49m\u001b[43mdf\u001b[49m\u001b[43m[\u001b[49m\u001b[33;43m'\u001b[39;49m\u001b[33;43mconfidence_bucket\u001b[39;49m\u001b[33;43m'\u001b[39;49m\u001b[43m]\u001b[49m\u001b[43m \u001b[49m\u001b[43m==\u001b[49m\u001b[43m \u001b[49m\u001b[43mbucket\u001b[49m\u001b[43m]\u001b[49m\u001b[43m[\u001b[49m\u001b[43m[\u001b[49m\u001b[33;43m'\u001b[39;49m\u001b[33;43mplaintiff_name\u001b[39;49m\u001b[33;43m'\u001b[39;49m\u001b[43m,\u001b[49m\u001b[33;43m'\u001b[39;49m\u001b[33;43mName\u001b[39;49m\u001b[33;43m'\u001b[39;49m\u001b[43m]\u001b[49m\u001b[43m]\u001b[49m\u001b[43m.\u001b[49m\u001b[43msample\u001b[49m\u001b[43m(\u001b[49m\u001b[32;43m5\u001b[39;49m\u001b[43m)\u001b[49m)\n",
      "\u001b[36mFile \u001b[39m\u001b[32m~/Desktop/desktop/eviction_data/.venv/lib/python3.13/site-packages/pandas/core/generic.py:6118\u001b[39m, in \u001b[36mNDFrame.sample\u001b[39m\u001b[34m(self, n, frac, replace, weights, random_state, axis, ignore_index)\u001b[39m\n\u001b[32m   6115\u001b[39m \u001b[38;5;28;01mif\u001b[39;00m weights \u001b[38;5;129;01mis\u001b[39;00m \u001b[38;5;129;01mnot\u001b[39;00m \u001b[38;5;28;01mNone\u001b[39;00m:\n\u001b[32m   6116\u001b[39m     weights = sample.preprocess_weights(\u001b[38;5;28mself\u001b[39m, weights, axis)\n\u001b[32m-> \u001b[39m\u001b[32m6118\u001b[39m sampled_indices = \u001b[43msample\u001b[49m\u001b[43m.\u001b[49m\u001b[43msample\u001b[49m\u001b[43m(\u001b[49m\u001b[43mobj_len\u001b[49m\u001b[43m,\u001b[49m\u001b[43m \u001b[49m\u001b[43msize\u001b[49m\u001b[43m,\u001b[49m\u001b[43m \u001b[49m\u001b[43mreplace\u001b[49m\u001b[43m,\u001b[49m\u001b[43m \u001b[49m\u001b[43mweights\u001b[49m\u001b[43m,\u001b[49m\u001b[43m \u001b[49m\u001b[43mrs\u001b[49m\u001b[43m)\u001b[49m\n\u001b[32m   6119\u001b[39m result = \u001b[38;5;28mself\u001b[39m.take(sampled_indices, axis=axis)\n\u001b[32m   6121\u001b[39m \u001b[38;5;28;01mif\u001b[39;00m ignore_index:\n",
      "\u001b[36mFile \u001b[39m\u001b[32m~/Desktop/desktop/eviction_data/.venv/lib/python3.13/site-packages/pandas/core/sample.py:152\u001b[39m, in \u001b[36msample\u001b[39m\u001b[34m(obj_len, size, replace, weights, random_state)\u001b[39m\n\u001b[32m    149\u001b[39m     \u001b[38;5;28;01melse\u001b[39;00m:\n\u001b[32m    150\u001b[39m         \u001b[38;5;28;01mraise\u001b[39;00m \u001b[38;5;167;01mValueError\u001b[39;00m(\u001b[33m\"\u001b[39m\u001b[33mInvalid weights: weights sum to zero\u001b[39m\u001b[33m\"\u001b[39m)\n\u001b[32m--> \u001b[39m\u001b[32m152\u001b[39m \u001b[38;5;28;01mreturn\u001b[39;00m \u001b[43mrandom_state\u001b[49m\u001b[43m.\u001b[49m\u001b[43mchoice\u001b[49m\u001b[43m(\u001b[49m\u001b[43mobj_len\u001b[49m\u001b[43m,\u001b[49m\u001b[43m \u001b[49m\u001b[43msize\u001b[49m\u001b[43m=\u001b[49m\u001b[43msize\u001b[49m\u001b[43m,\u001b[49m\u001b[43m \u001b[49m\u001b[43mreplace\u001b[49m\u001b[43m=\u001b[49m\u001b[43mreplace\u001b[49m\u001b[43m,\u001b[49m\u001b[43m \u001b[49m\u001b[43mp\u001b[49m\u001b[43m=\u001b[49m\u001b[43mweights\u001b[49m\u001b[43m)\u001b[49m.astype(\n\u001b[32m    153\u001b[39m     np.intp, copy=\u001b[38;5;28;01mFalse\u001b[39;00m\n\u001b[32m    154\u001b[39m )\n",
      "\u001b[36mFile \u001b[39m\u001b[32mnumpy/random/mtrand.pyx:964\u001b[39m, in \u001b[36mnumpy.random.mtrand.RandomState.choice\u001b[39m\u001b[34m()\u001b[39m\n",
      "\u001b[31mValueError\u001b[39m: a must be greater than 0 unless no samples are taken"
     ]
    }
   ],
   "source": [
    "for bucket in df['confidence_bucket'].unique():\n",
    "    print(f\"\\n--- Sample from Confidence Bucket: {bucket} ---\")\n",
    "    display(df[df['confidence_bucket'] == bucket][['plaintiff_name','Name']].sample(5))"
   ]
  }
 ],
 "metadata": {
  "kernelspec": {
   "display_name": ".venv",
   "language": "python",
   "name": "python3"
  },
  "language_info": {
   "codemirror_mode": {
    "name": "ipython",
    "version": 3
   },
   "file_extension": ".py",
   "mimetype": "text/x-python",
   "name": "python",
   "nbconvert_exporter": "python",
   "pygments_lexer": "ipython3",
   "version": "3.13.3"
  }
 },
 "nbformat": 4,
 "nbformat_minor": 5
}
