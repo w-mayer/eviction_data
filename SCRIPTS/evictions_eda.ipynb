{
 "cells": [
  {
   "cell_type": "code",
   "execution_count": 2,
   "id": "7421dda4",
   "metadata": {},
   "outputs": [],
   "source": [
    "import numpy as np\n",
    "import pandas as pd\n",
    "import matplotlib.pyplot as plt\n",
    "import seaborn as sns"
   ]
  },
  {
   "cell_type": "code",
   "execution_count": 3,
   "id": "3a6862a2",
   "metadata": {},
   "outputs": [],
   "source": [
    "df = pd.read_parquet('../OUTPUT/evictions_matched.parquet')"
   ]
  },
  {
   "cell_type": "code",
   "execution_count": 4,
   "id": "89dab56d",
   "metadata": {},
   "outputs": [
    {
     "data": {
      "text/plain": [
       "(630393, 81)"
      ]
     },
     "execution_count": 4,
     "metadata": {},
     "output_type": "execute_result"
    }
   ],
   "source": [
    "df.shape"
   ]
  },
  {
   "cell_type": "code",
   "execution_count": 5,
   "id": "99e855ee",
   "metadata": {},
   "outputs": [],
   "source": [
    "## Set your desired match confidence here\n",
    "confidence = 85\n",
    "df = df.loc[df['match_confidence'] >= confidence]"
   ]
  },
  {
   "cell_type": "code",
   "execution_count": 5,
   "id": "77d95457",
   "metadata": {},
   "outputs": [
    {
     "data": {
      "application/vnd.microsoft.datawrangler.viewer.v0+json": {
       "columns": [
        {
         "name": "index",
         "rawType": "int64",
         "type": "integer"
        },
        {
         "name": "plaintiff_name",
         "rawType": "object",
         "type": "string"
        },
        {
         "name": "defendant_name",
         "rawType": "object",
         "type": "string"
        },
        {
         "name": "defendant_zip",
         "rawType": "float64",
         "type": "float"
        },
        {
         "name": "c2dp_case_id",
         "rawType": "object",
         "type": "string"
        },
        {
         "name": "county",
         "rawType": "object",
         "type": "string"
        },
        {
         "name": "fips",
         "rawType": "int64",
         "type": "integer"
        },
        {
         "name": "case_number",
         "rawType": "object",
         "type": "string"
        },
        {
         "name": "filed_date",
         "rawType": "object",
         "type": "string"
        },
        {
         "name": "case_type",
         "rawType": "object",
         "type": "string"
        },
        {
         "name": "debt_type",
         "rawType": "object",
         "type": "unknown"
        },
        {
         "name": "defendant_attorney",
         "rawType": "object",
         "type": "string"
        },
        {
         "name": "defendant_dba_ta",
         "rawType": "object",
         "type": "unknown"
        },
        {
         "name": "defendant_address",
         "rawType": "object",
         "type": "string"
        },
        {
         "name": "defendant_count",
         "rawType": "int64",
         "type": "integer"
        },
        {
         "name": "all_defendant_names",
         "rawType": "object",
         "type": "string"
        },
        {
         "name": "all_defendant_addresses",
         "rawType": "object",
         "type": "string"
        },
        {
         "name": "defendant_order_validation",
         "rawType": "object",
         "type": "string"
        },
        {
         "name": "hearing_count",
         "rawType": "int64",
         "type": "integer"
        },
        {
         "name": "latest_hearing_date",
         "rawType": "object",
         "type": "string"
        },
        {
         "name": "latest_hearing_result",
         "rawType": "object",
         "type": "string"
        },
        {
         "name": "judgment",
         "rawType": "object",
         "type": "string"
        },
        {
         "name": "homestead_exemption_waived",
         "rawType": "object",
         "type": "unknown"
        },
        {
         "name": "is_judgment_satisfied",
         "rawType": "object",
         "type": "unknown"
        },
        {
         "name": "date_satisfaction_filed",
         "rawType": "object",
         "type": "unknown"
        },
        {
         "name": "further_case_information",
         "rawType": "object",
         "type": "unknown"
        },
        {
         "name": "costs",
         "rawType": "object",
         "type": "unknown"
        },
        {
         "name": "attorney_fees",
         "rawType": "object",
         "type": "unknown"
        },
        {
         "name": "principal_amount",
         "rawType": "object",
         "type": "unknown"
        },
        {
         "name": "interest_award",
         "rawType": "object",
         "type": "unknown"
        },
        {
         "name": "possession",
         "rawType": "object",
         "type": "string"
        },
        {
         "name": "writ_of_eviction_issued_date",
         "rawType": "object",
         "type": "unknown"
        },
        {
         "name": "other_amount",
         "rawType": "object",
         "type": "unknown"
        },
        {
         "name": "other_awarded",
         "rawType": "object",
         "type": "unknown"
        },
        {
         "name": "clean_party_name",
         "rawType": "object",
         "type": "string"
        },
        {
         "name": "plaintiff_attorney",
         "rawType": "object",
         "type": "string"
        },
        {
         "name": "plaintiff_dba_ta",
         "rawType": "object",
         "type": "string"
        },
        {
         "name": "plaintiff_address",
         "rawType": "object",
         "type": "string"
        },
        {
         "name": "plaintiff_count",
         "rawType": "int64",
         "type": "integer"
        },
        {
         "name": "all_plaintiff_names",
         "rawType": "object",
         "type": "string"
        },
        {
         "name": "all_plaintiff_addresses",
         "rawType": "object",
         "type": "string"
        },
        {
         "name": "plaintiff_order_validation",
         "rawType": "object",
         "type": "string"
        },
        {
         "name": "filed_year",
         "rawType": "int64",
         "type": "integer"
        },
        {
         "name": "filed_quarter",
         "rawType": "object",
         "type": "string"
        },
        {
         "name": "plaintiff_zip",
         "rawType": "float64",
         "type": "float"
        },
        {
         "name": "serial_filing",
         "rawType": "bool",
         "type": "boolean"
        },
        {
         "name": "latest_filing_in_serial_window",
         "rawType": "bool",
         "type": "boolean"
        },
        {
         "name": "defendant_non_residential",
         "rawType": "bool",
         "type": "boolean"
        },
        {
         "name": "plaintiff_name_normalized",
         "rawType": "object",
         "type": "string"
        },
        {
         "name": "is_llc",
         "rawType": "bool",
         "type": "boolean"
        },
        {
         "name": "match_confidence",
         "rawType": "float64",
         "type": "float"
        },
        {
         "name": "Name",
         "rawType": "object",
         "type": "string"
        },
        {
         "name": "Status",
         "rawType": "object",
         "type": "string"
        },
        {
         "name": "StatusReason",
         "rawType": "object",
         "type": "string"
        },
        {
         "name": "Status Date",
         "rawType": "object",
         "type": "string"
        },
        {
         "name": "Duration",
         "rawType": "object",
         "type": "string"
        },
        {
         "name": "IncorpDate",
         "rawType": "object",
         "type": "string"
        },
        {
         "name": "IncorpState",
         "rawType": "object",
         "type": "string"
        },
        {
         "name": "IndustryCode",
         "rawType": "object",
         "type": "unknown"
        },
        {
         "name": "Street1",
         "rawType": "object",
         "type": "string"
        },
        {
         "name": "Street2",
         "rawType": "object",
         "type": "unknown"
        },
        {
         "name": "City",
         "rawType": "object",
         "type": "string"
        },
        {
         "name": "State",
         "rawType": "object",
         "type": "string"
        },
        {
         "name": "Zip",
         "rawType": "object",
         "type": "string"
        },
        {
         "name": "PrinOffEffDate",
         "rawType": "object",
         "type": "string"
        },
        {
         "name": "RA-Name",
         "rawType": "object",
         "type": "string"
        },
        {
         "name": "RA-Street1",
         "rawType": "object",
         "type": "string"
        },
        {
         "name": "RA-Street2",
         "rawType": "object",
         "type": "unknown"
        },
        {
         "name": "RA-City",
         "rawType": "object",
         "type": "string"
        },
        {
         "name": "RA-State",
         "rawType": "object",
         "type": "string"
        },
        {
         "name": "RA-Zip",
         "rawType": "object",
         "type": "string"
        },
        {
         "name": "RA-EffDate",
         "rawType": "object",
         "type": "unknown"
        },
        {
         "name": "RA-Status",
         "rawType": "object",
         "type": "string"
        },
        {
         "name": "RA-Loc",
         "rawType": "float64",
         "type": "float"
        },
        {
         "name": "StockInd",
         "rawType": "float64",
         "type": "float"
        },
        {
         "name": "TotalShares",
         "rawType": "float64",
         "type": "float"
        },
        {
         "name": "MergerInd",
         "rawType": "object",
         "type": "unknown"
        },
        {
         "name": "AssessInd",
         "rawType": "int64",
         "type": "integer"
        },
        {
         "name": "Is Series LLC",
         "rawType": "object",
         "type": "unknown"
        },
        {
         "name": "Is Protected Series",
         "rawType": "object",
         "type": "unknown"
        },
        {
         "name": "Series LLC ID",
         "rawType": "object",
         "type": "unknown"
        },
        {
         "name": "Name_normalized",
         "rawType": "object",
         "type": "string"
        }
       ],
       "conversionMethod": "pd.DataFrame",
       "ref": "b4ba7593-5b65-450f-be7c-089e8bdda9d6",
       "rows": [
        [
         "0",
         "1 HIL MAR, INC",
         "SCHOTT, HENRY J",
         "23227.0",
         "127_GV22000423-00",
         "New Kent General District Court",
         "127",
         "GV22000423-00",
         "2022-08-18",
         "Unlawful Detainer",
         null,
         "NONE",
         null,
         "RICHMOND, VA 23227",
         "2",
         "SCHOTT, HENRY J | MCCLURE, LESLEY",
         "RICHMOND, VA 23227 | RICHMOND, VA 23227",
         "1 | 2",
         "1",
         "2022-09-07",
         "Other",
         "Case Dismissed",
         null,
         null,
         null,
         "LESLEY MCLURE NOT PRESENT- HENRY SCHOTT PRESENT",
         null,
         null,
         null,
         null,
         "Possession",
         null,
         null,
         null,
         "1 hil mar, inc",
         "BRAY, OTEY, SMITH, AND QUARLES",
         "WILLIAM BRAY, OTEY, SMITH AND QUARLES",
         "WILLIAMSBURG, VA 23185",
         "1",
         "1 HIL-MAR, INC",
         "WILLIAMSBURG, VA 23185",
         "1",
         "2022",
         "Q3",
         "23185.0",
         "False",
         "True",
         "False",
         "1 hil inc mar",
         "True",
         "90.0",
         "Hi, LLC",
         "INACTIVE",
         "Automatically Canceled - Registration Fee - Can Reinstate",
         "2024-01-31",
         "9999-12-31",
         "2022-10-13",
         "VA",
         "0 - General",
         "700 Shockley Rd",
         null,
         "Hillsville",
         "Virginia",
         "24343-4509",
         "2022-10-13",
         "Amy LaRue Walker",
         "700 Shockley Rd",
         null,
         "Hillsville",
         "Virginia",
         "24343-4509",
         "2022-10-13",
         "Active",
         "810.0",
         null,
         null,
         null,
         "1",
         null,
         null,
         null,
         "hi"
        ],
        [
         "1",
         "1 HIL MAR, INC",
         "SCHOTT, HENRY J",
         "23227.0",
         "127_GV22000423-00",
         "New Kent General District Court",
         "127",
         "GV22000423-00",
         "2022-08-18",
         "Unlawful Detainer",
         null,
         "NONE",
         null,
         "RICHMOND, VA 23227",
         "2",
         "SCHOTT, HENRY J | MCCLURE, LESLEY",
         "RICHMOND, VA 23227 | RICHMOND, VA 23227",
         "1 | 2",
         "1",
         "2022-09-07",
         "Other",
         "Case Dismissed",
         null,
         null,
         null,
         "LESLEY MCLURE NOT PRESENT- HENRY SCHOTT PRESENT",
         null,
         null,
         null,
         null,
         "Possession",
         null,
         null,
         null,
         "1 hil mar, inc",
         "BRAY, OTEY, SMITH, AND QUARLES",
         "WILLIAM BRAY, OTEY, SMITH AND QUARLES",
         "WILLIAMSBURG, VA 23185",
         "1",
         "1 HIL-MAR, INC",
         "WILLIAMSBURG, VA 23185",
         "1",
         "2022",
         "Q3",
         "23185.0",
         "False",
         "True",
         "False",
         "1 hil inc mar",
         "True",
         "90.0",
         "H&I LLC",
         "ACTIVE",
         "Active",
         "2025-01-16",
         "9999-12-31",
         "2025-01-16",
         "VA",
         null,
         "3280 fleetwood ave",
         null,
         "roanoke",
         "Virginia",
         "24015",
         "2025-01-16",
         "Hanan S Alhusseini",
         "3280 Fleetwood Ave",
         null,
         "Roanoke",
         "Virginia",
         "24015-4644",
         "2025-01-16",
         "Active",
         "990.0",
         null,
         "0.0",
         null,
         "0",
         null,
         null,
         null,
         "hi"
        ],
        [
         "2",
         "1 SQ APTS LP",
         "AYALA ERICA",
         "23702.0",
         "740_GV18012249-00",
         "Portsmouth General District Court",
         "740",
         "GV18012249-00",
         "2018-11-21",
         "Unlawful Detainer",
         null,
         "NONE",
         "AYALA ERICA",
         "PORTSMOUTH, VA 23702",
         "2",
         "AYALA ERICA | FRANKLIN CHRISTOPHER",
         "PORTSMOUTH, VA 23702 | PORTSMOUTH, VA 23702",
         "1 | 2",
         "1",
         "2018-12-13",
         "Default Judgment",
         "Plaintiff",
         null,
         null,
         null,
         null,
         "$59.00",
         "$175.00",
         "$825.00",
         "6     % FROM 121318",
         "Immediate",
         null,
         "$82.50",
         null,
         "1 sq apts lp",
         "KIRK LEVY",
         "INDEPENDENCE SQUARE APARTMENTS",
         "PORTSMOUTH, VA 23702",
         "1",
         "1 SQUARE APTS LP",
         "PORTSMOUTH, VA 23702",
         "1",
         "2018",
         "Q4",
         "23702.0",
         "False",
         "True",
         "False",
         "1 apts lp sq",
         "True",
         "90.0",
         "APT, LLC",
         "INACTIVE",
         "Voluntarily Canceled - Cannot Reinstate",
         "2013-03-29",
         "9999-12-31",
         "2009-11-16",
         "VA",
         "0 - General",
         "1555 KING ST STE 200",
         null,
         "ALEXANDRIA",
         "Virginia",
         "22314-0000",
         "2009-11-16",
         "HORACE   JONES",
         "1555 KING ST STE 400",
         null,
         "ALEXANDRIA",
         "Virginia",
         "22314-0000",
         null,
         "Active",
         "510.0",
         null,
         null,
         null,
         "1",
         null,
         null,
         null,
         "apt"
        ],
        [
         "3",
         "1 SQ APTS LP",
         "DARDEN DAVID",
         "23702.0",
         "740_GV18012250-00",
         "Portsmouth General District Court",
         "740",
         "GV18012250-00",
         "2018-11-26",
         "Unlawful Detainer",
         null,
         "NONE",
         null,
         "PORTSMOUTH, VA 23702",
         "1",
         "DARDEN DAVID",
         "PORTSMOUTH, VA 23702",
         "1",
         "1",
         "2018-12-13",
         "Default Judgment",
         "Plaintiff",
         null,
         null,
         null,
         null,
         null,
         null,
         null,
         null,
         "Immediate",
         null,
         null,
         null,
         "1 sq apts lp",
         "KIRK LEVY",
         "INDEPENDENCE SQUARE APARTMENTS",
         "PORTSMOUTH, VA 23702",
         "1",
         "1 SQUARE APTS LP",
         "PORTSMOUTH, VA 23702",
         "1",
         "2018",
         "Q4",
         "23702.0",
         "False",
         "True",
         "False",
         "1 apts lp sq",
         "True",
         "90.0",
         "APT, LLC",
         "INACTIVE",
         "Voluntarily Canceled - Cannot Reinstate",
         "2013-03-29",
         "9999-12-31",
         "2009-11-16",
         "VA",
         "0 - General",
         "1555 KING ST STE 200",
         null,
         "ALEXANDRIA",
         "Virginia",
         "22314-0000",
         "2009-11-16",
         "HORACE   JONES",
         "1555 KING ST STE 400",
         null,
         "ALEXANDRIA",
         "Virginia",
         "22314-0000",
         null,
         "Active",
         "510.0",
         null,
         null,
         null,
         "1",
         null,
         null,
         null,
         "apt"
        ],
        [
         "4",
         "1 SQ APTS LP",
         "GROOMS SHAVON",
         "23702.0",
         "740_GV18012251-00",
         "Portsmouth General District Court",
         "740",
         "GV18012251-00",
         "2018-11-26",
         "Unlawful Detainer",
         null,
         "NONE",
         null,
         "PORTSMOUTH, VA 23702",
         "1",
         "GROOMS SHAVON",
         "PORTSMOUTH, VA 23702",
         "1",
         "1",
         "2018-12-13",
         "Default Judgment",
         "Plaintiff",
         null,
         null,
         null,
         null,
         null,
         null,
         null,
         null,
         "Immediate",
         null,
         null,
         null,
         "1 sq apts lp",
         "KIRK LEVY",
         "INDEPENDENCE SQUARE APARTMENTS",
         "PORTSMOUTH, VA 23702",
         "1",
         "1 SQUARE APTS LP",
         "PORTSMOUTH, VA 23702",
         "1",
         "2018",
         "Q4",
         "23702.0",
         "False",
         "True",
         "False",
         "1 apts lp sq",
         "True",
         "90.0",
         "APT, LLC",
         "INACTIVE",
         "Voluntarily Canceled - Cannot Reinstate",
         "2013-03-29",
         "9999-12-31",
         "2009-11-16",
         "VA",
         "0 - General",
         "1555 KING ST STE 200",
         null,
         "ALEXANDRIA",
         "Virginia",
         "22314-0000",
         "2009-11-16",
         "HORACE   JONES",
         "1555 KING ST STE 400",
         null,
         "ALEXANDRIA",
         "Virginia",
         "22314-0000",
         null,
         "Active",
         "510.0",
         null,
         null,
         null,
         "1",
         null,
         null,
         null,
         "apt"
        ]
       ],
       "shape": {
        "columns": 81,
        "rows": 5
       }
      },
      "text/html": [
       "<div>\n",
       "<style scoped>\n",
       "    .dataframe tbody tr th:only-of-type {\n",
       "        vertical-align: middle;\n",
       "    }\n",
       "\n",
       "    .dataframe tbody tr th {\n",
       "        vertical-align: top;\n",
       "    }\n",
       "\n",
       "    .dataframe thead th {\n",
       "        text-align: right;\n",
       "    }\n",
       "</style>\n",
       "<table border=\"1\" class=\"dataframe\">\n",
       "  <thead>\n",
       "    <tr style=\"text-align: right;\">\n",
       "      <th></th>\n",
       "      <th>plaintiff_name</th>\n",
       "      <th>defendant_name</th>\n",
       "      <th>defendant_zip</th>\n",
       "      <th>c2dp_case_id</th>\n",
       "      <th>county</th>\n",
       "      <th>fips</th>\n",
       "      <th>case_number</th>\n",
       "      <th>filed_date</th>\n",
       "      <th>case_type</th>\n",
       "      <th>debt_type</th>\n",
       "      <th>...</th>\n",
       "      <th>RA-Status</th>\n",
       "      <th>RA-Loc</th>\n",
       "      <th>StockInd</th>\n",
       "      <th>TotalShares</th>\n",
       "      <th>MergerInd</th>\n",
       "      <th>AssessInd</th>\n",
       "      <th>Is Series LLC</th>\n",
       "      <th>Is Protected Series</th>\n",
       "      <th>Series LLC ID</th>\n",
       "      <th>Name_normalized</th>\n",
       "    </tr>\n",
       "  </thead>\n",
       "  <tbody>\n",
       "    <tr>\n",
       "      <th>0</th>\n",
       "      <td>1 HIL MAR, INC</td>\n",
       "      <td>SCHOTT, HENRY J</td>\n",
       "      <td>23227.0</td>\n",
       "      <td>127_GV22000423-00</td>\n",
       "      <td>New Kent General District Court</td>\n",
       "      <td>127</td>\n",
       "      <td>GV22000423-00</td>\n",
       "      <td>2022-08-18</td>\n",
       "      <td>Unlawful Detainer</td>\n",
       "      <td>None</td>\n",
       "      <td>...</td>\n",
       "      <td>Active</td>\n",
       "      <td>810.0</td>\n",
       "      <td>NaN</td>\n",
       "      <td>NaN</td>\n",
       "      <td>None</td>\n",
       "      <td>1</td>\n",
       "      <td>None</td>\n",
       "      <td>None</td>\n",
       "      <td>None</td>\n",
       "      <td>hi</td>\n",
       "    </tr>\n",
       "    <tr>\n",
       "      <th>1</th>\n",
       "      <td>1 HIL MAR, INC</td>\n",
       "      <td>SCHOTT, HENRY J</td>\n",
       "      <td>23227.0</td>\n",
       "      <td>127_GV22000423-00</td>\n",
       "      <td>New Kent General District Court</td>\n",
       "      <td>127</td>\n",
       "      <td>GV22000423-00</td>\n",
       "      <td>2022-08-18</td>\n",
       "      <td>Unlawful Detainer</td>\n",
       "      <td>None</td>\n",
       "      <td>...</td>\n",
       "      <td>Active</td>\n",
       "      <td>990.0</td>\n",
       "      <td>NaN</td>\n",
       "      <td>0.0</td>\n",
       "      <td>None</td>\n",
       "      <td>0</td>\n",
       "      <td>None</td>\n",
       "      <td>None</td>\n",
       "      <td>None</td>\n",
       "      <td>hi</td>\n",
       "    </tr>\n",
       "    <tr>\n",
       "      <th>2</th>\n",
       "      <td>1 SQ APTS LP</td>\n",
       "      <td>AYALA ERICA</td>\n",
       "      <td>23702.0</td>\n",
       "      <td>740_GV18012249-00</td>\n",
       "      <td>Portsmouth General District Court</td>\n",
       "      <td>740</td>\n",
       "      <td>GV18012249-00</td>\n",
       "      <td>2018-11-21</td>\n",
       "      <td>Unlawful Detainer</td>\n",
       "      <td>None</td>\n",
       "      <td>...</td>\n",
       "      <td>Active</td>\n",
       "      <td>510.0</td>\n",
       "      <td>NaN</td>\n",
       "      <td>NaN</td>\n",
       "      <td>None</td>\n",
       "      <td>1</td>\n",
       "      <td>None</td>\n",
       "      <td>None</td>\n",
       "      <td>None</td>\n",
       "      <td>apt</td>\n",
       "    </tr>\n",
       "    <tr>\n",
       "      <th>3</th>\n",
       "      <td>1 SQ APTS LP</td>\n",
       "      <td>DARDEN DAVID</td>\n",
       "      <td>23702.0</td>\n",
       "      <td>740_GV18012250-00</td>\n",
       "      <td>Portsmouth General District Court</td>\n",
       "      <td>740</td>\n",
       "      <td>GV18012250-00</td>\n",
       "      <td>2018-11-26</td>\n",
       "      <td>Unlawful Detainer</td>\n",
       "      <td>None</td>\n",
       "      <td>...</td>\n",
       "      <td>Active</td>\n",
       "      <td>510.0</td>\n",
       "      <td>NaN</td>\n",
       "      <td>NaN</td>\n",
       "      <td>None</td>\n",
       "      <td>1</td>\n",
       "      <td>None</td>\n",
       "      <td>None</td>\n",
       "      <td>None</td>\n",
       "      <td>apt</td>\n",
       "    </tr>\n",
       "    <tr>\n",
       "      <th>4</th>\n",
       "      <td>1 SQ APTS LP</td>\n",
       "      <td>GROOMS SHAVON</td>\n",
       "      <td>23702.0</td>\n",
       "      <td>740_GV18012251-00</td>\n",
       "      <td>Portsmouth General District Court</td>\n",
       "      <td>740</td>\n",
       "      <td>GV18012251-00</td>\n",
       "      <td>2018-11-26</td>\n",
       "      <td>Unlawful Detainer</td>\n",
       "      <td>None</td>\n",
       "      <td>...</td>\n",
       "      <td>Active</td>\n",
       "      <td>510.0</td>\n",
       "      <td>NaN</td>\n",
       "      <td>NaN</td>\n",
       "      <td>None</td>\n",
       "      <td>1</td>\n",
       "      <td>None</td>\n",
       "      <td>None</td>\n",
       "      <td>None</td>\n",
       "      <td>apt</td>\n",
       "    </tr>\n",
       "  </tbody>\n",
       "</table>\n",
       "<p>5 rows × 81 columns</p>\n",
       "</div>"
      ],
      "text/plain": [
       "   plaintiff_name   defendant_name  defendant_zip       c2dp_case_id  \\\n",
       "0  1 HIL MAR, INC  SCHOTT, HENRY J        23227.0  127_GV22000423-00   \n",
       "1  1 HIL MAR, INC  SCHOTT, HENRY J        23227.0  127_GV22000423-00   \n",
       "2    1 SQ APTS LP      AYALA ERICA        23702.0  740_GV18012249-00   \n",
       "3    1 SQ APTS LP     DARDEN DAVID        23702.0  740_GV18012250-00   \n",
       "4    1 SQ APTS LP    GROOMS SHAVON        23702.0  740_GV18012251-00   \n",
       "\n",
       "                              county  fips    case_number  filed_date  \\\n",
       "0    New Kent General District Court   127  GV22000423-00  2022-08-18   \n",
       "1    New Kent General District Court   127  GV22000423-00  2022-08-18   \n",
       "2  Portsmouth General District Court   740  GV18012249-00  2018-11-21   \n",
       "3  Portsmouth General District Court   740  GV18012250-00  2018-11-26   \n",
       "4  Portsmouth General District Court   740  GV18012251-00  2018-11-26   \n",
       "\n",
       "           case_type debt_type  ... RA-Status RA-Loc StockInd  TotalShares  \\\n",
       "0  Unlawful Detainer      None  ...    Active  810.0      NaN          NaN   \n",
       "1  Unlawful Detainer      None  ...    Active  990.0      NaN          0.0   \n",
       "2  Unlawful Detainer      None  ...    Active  510.0      NaN          NaN   \n",
       "3  Unlawful Detainer      None  ...    Active  510.0      NaN          NaN   \n",
       "4  Unlawful Detainer      None  ...    Active  510.0      NaN          NaN   \n",
       "\n",
       "  MergerInd AssessInd Is Series LLC  Is Protected Series Series LLC ID  \\\n",
       "0      None         1          None                 None          None   \n",
       "1      None         0          None                 None          None   \n",
       "2      None         1          None                 None          None   \n",
       "3      None         1          None                 None          None   \n",
       "4      None         1          None                 None          None   \n",
       "\n",
       "  Name_normalized  \n",
       "0              hi  \n",
       "1              hi  \n",
       "2             apt  \n",
       "3             apt  \n",
       "4             apt  \n",
       "\n",
       "[5 rows x 81 columns]"
      ]
     },
     "execution_count": 5,
     "metadata": {},
     "output_type": "execute_result"
    }
   ],
   "source": [
    "df.head()"
   ]
  },
  {
   "cell_type": "code",
   "execution_count": 6,
   "id": "f55789ba",
   "metadata": {},
   "outputs": [
    {
     "data": {
      "text/plain": [
       "Index(['plaintiff_name', 'defendant_name', 'defendant_zip', 'c2dp_case_id',\n",
       "       'county', 'fips', 'case_number', 'filed_date', 'case_type', 'debt_type',\n",
       "       'defendant_attorney', 'defendant_dba_ta', 'defendant_address',\n",
       "       'defendant_count', 'all_defendant_names', 'all_defendant_addresses',\n",
       "       'defendant_order_validation', 'hearing_count', 'latest_hearing_date',\n",
       "       'latest_hearing_result', 'judgment', 'homestead_exemption_waived',\n",
       "       'is_judgment_satisfied', 'date_satisfaction_filed',\n",
       "       'further_case_information', 'costs', 'attorney_fees',\n",
       "       'principal_amount', 'interest_award', 'possession',\n",
       "       'writ_of_eviction_issued_date', 'other_amount', 'other_awarded',\n",
       "       'clean_party_name', 'plaintiff_attorney', 'plaintiff_dba_ta',\n",
       "       'plaintiff_address', 'plaintiff_count', 'all_plaintiff_names',\n",
       "       'all_plaintiff_addresses', 'plaintiff_order_validation', 'filed_year',\n",
       "       'filed_quarter', 'plaintiff_zip', 'serial_filing',\n",
       "       'latest_filing_in_serial_window', 'defendant_non_residential',\n",
       "       'plaintiff_name_normalized', 'is_llc', 'match_confidence', 'Name',\n",
       "       'Status', 'StatusReason', 'Status Date', 'Duration', 'IncorpDate',\n",
       "       'IncorpState', 'IndustryCode', 'Street1', 'Street2', 'City', 'State',\n",
       "       'Zip', 'PrinOffEffDate', 'RA-Name', 'RA-Street1', 'RA-Street2',\n",
       "       'RA-City', 'RA-State', 'RA-Zip', 'RA-EffDate', 'RA-Status', 'RA-Loc',\n",
       "       'StockInd', 'TotalShares', 'MergerInd', 'AssessInd', 'Is Series LLC',\n",
       "       'Is Protected Series', 'Series LLC ID', 'Name_normalized'],\n",
       "      dtype='object')"
      ]
     },
     "execution_count": 6,
     "metadata": {},
     "output_type": "execute_result"
    }
   ],
   "source": [
    "df.columns"
   ]
  },
  {
   "cell_type": "code",
   "execution_count": 6,
   "id": "0a235c25",
   "metadata": {},
   "outputs": [],
   "source": [
    "### Heuristic Matching\n",
    "# Group by Registered Agent (RA-Name)\n",
    "ra_groups = df.groupby('RA-Name').size().reset_index(name='LLC_Count')\n",
    "ra_groups = ra_groups.sort_values(by='LLC_Count', ascending=False)\n",
    "\n",
    "# Group by Address (Street1)\n",
    "address_groups = df.groupby('Street1').size().reset_index(name='LLC_Count')\n",
    "address_groups = address_groups.sort_values(by='LLC_Count', ascending=False)\n",
    "\n",
    "# Group by composite key: RA-Name + Street1\n",
    "df['Composite_Key'] = df['RA-Name'] + '|' + df['Street1']\n",
    "composite_groups = df.groupby('Composite_Key').size().reset_index(name='LLC_Count')\n",
    "composite_groups = composite_groups.sort_values(by='LLC_Count', ascending=False)"
   ]
  },
  {
   "cell_type": "code",
   "execution_count": 8,
   "id": "b644adf7",
   "metadata": {},
   "outputs": [
    {
     "name": "stdout",
     "output_type": "stream",
     "text": [
      "Top groups by Registered Agent:\n",
      "                                     RA-Name  LLC_Count\n",
      "1247             CORPORATION SERVICE COMPANY      38404\n",
      "901                   C T CORPORATION SYSTEM      26385\n",
      "312                          ARVIND B   AMIN      12839\n",
      "2795                          HORACE   JONES      11586\n",
      "2883                             ICAFS  INC.      10694\n",
      "7489              Vcorp Agent Services  Inc.      10372\n",
      "5418        NATIONAL REGISTERED AGENTS  INC.       8185\n",
      "7090                         THAO NHU   DINH       7786\n",
      "7415  United States Corporation Agents  Inc.       7398\n",
      "423                         Alperin Law PLLC       4071\n"
     ]
    }
   ],
   "source": [
    "print(\"Top groups by Registered Agent:\")\n",
    "print(ra_groups.head(10))"
   ]
  },
  {
   "cell_type": "code",
   "execution_count": 9,
   "id": "440833b2",
   "metadata": {},
   "outputs": [
    {
     "name": "stdout",
     "output_type": "stream",
     "text": [
      "Top groups by Street1:\n",
      "                         Street1  LLC_Count\n",
      "3663         208 GOLDEN MAPLE DR      12839\n",
      "2548        1555 KING ST STE 200      11586\n",
      "8039  6031 Connection Dr Ste 200       8786\n",
      "8966         7704-C RICHMOND HWY       7786\n",
      "4966          2922 Hathaway Road       5077\n",
      "2616          160 CLUBHOUSE ROAD       4042\n",
      "7753          560 LYNNHAVEN PKWY       3745\n",
      "733      11 South Cameron Street       3663\n",
      "6909   46400 BENEDICT DR STE 201       3663\n",
      "7755       560 Lynnhaven Parkway       3454\n"
     ]
    }
   ],
   "source": [
    "print(\"Top groups by Street1:\")\n",
    "print(address_groups.head(10))"
   ]
  },
  {
   "cell_type": "code",
   "execution_count": 10,
   "id": "04dfc89a",
   "metadata": {},
   "outputs": [
    {
     "name": "stdout",
     "output_type": "stream",
     "text": [
      "Top groups by Composite Key:\n",
      "                                       Composite_Key  LLC_Count\n",
      "363              ARVIND B   AMIN|208 GOLDEN MAPLE DR      12839\n",
      "3992             HORACE   JONES|1555 KING ST STE 200      11586\n",
      "9380             THAO NHU   DINH|7704-C RICHMOND HWY       7786\n",
      "4113                  ICAFS  INC.|2922 Hathaway Road       5077\n",
      "1889  CORPORATION SERVICE COMPANY|160 CLUBHOUSE ROAD       4042\n",
      "7139      NATE L  ADAMS  III|11 South Cameron Street       3663\n",
      "3261      ESMAIL   SHIRAZI|46400 BENEDICT DR STE 201       3663\n",
      "9432   THOMAS G.  JOHNSON  JR.|560 Lynnhaven Parkway       3454\n",
      "5845                Kenneth  W Hudson|2060 Meadow Rd       3432\n",
      "4111                    ICAFS  INC.|2922 HATHAWAY RD       3340\n"
     ]
    }
   ],
   "source": [
    "print(\"Top groups by Composite Key:\")\n",
    "print(composite_groups.head(10))"
   ]
  },
  {
   "cell_type": "markdown",
   "id": "8f9adaf8",
   "metadata": {},
   "source": [
    "A more robust approach"
   ]
  },
  {
   "cell_type": "code",
   "execution_count": 7,
   "id": "4b47813e",
   "metadata": {},
   "outputs": [],
   "source": [
    "ra_groups = df.groupby('RA-Name').agg({\n",
    "    'Name': 'count',\n",
    "    'plaintiff_name': lambda x: list(x),\n",
    "    'IncorpDate': lambda x: list(x),\n",
    "    'Zip': lambda x: list(x),\n",
    "    'filed_date': lambda x: list(x),\n",
    "    'serial_filing': lambda x: list(x)\n",
    "}).rename(columns={'Name': 'LLC_Count'}).reset_index()\n",
    "ra_groups = ra_groups.loc[ra_groups['LLC_Count'] > 1]"
   ]
  },
  {
   "cell_type": "code",
   "execution_count": 8,
   "id": "a8304168",
   "metadata": {},
   "outputs": [],
   "source": [
    "address_groups = df.groupby('Street1').agg({\n",
    "    'Name': 'count',\n",
    "    'plaintiff_name': lambda x: list(x),\n",
    "    'IncorpDate': lambda x: list(x),\n",
    "    'Zip': lambda x: list(x),\n",
    "    'filed_date': lambda x: list(x),\n",
    "    'serial_filing': lambda x: list(x)\n",
    "}).rename(columns={'Name': 'LLC_Count'}).reset_index()\n",
    "address_groups = address_groups.loc[address_groups['LLC_Count'] > 1]"
   ]
  },
  {
   "cell_type": "code",
   "execution_count": 9,
   "id": "1748c13e",
   "metadata": {},
   "outputs": [],
   "source": [
    "df['Composite_Key'] = df['RA-Name'] + '|' + df['Street1']\n",
    "composite_groups = df.groupby('Composite_Key').agg({\n",
    "    'Name': 'count',\n",
    "    'plaintiff_name': lambda x: list(x),\n",
    "    'IncorpDate': lambda x: list(x),\n",
    "    'Zip': lambda x: list(x),\n",
    "    'filed_date': lambda x: list(x),\n",
    "    'serial_filing': lambda x: list(x)\n",
    "}).rename(columns={'Name': 'LLC_Count'}).reset_index()\n",
    "composite_groups = composite_groups.loc[composite_groups['LLC_Count'] > 1]"
   ]
  },
  {
   "cell_type": "code",
   "execution_count": 10,
   "id": "51ec7ab2",
   "metadata": {},
   "outputs": [
    {
     "name": "stdout",
     "output_type": "stream",
     "text": [
      "Top groups by Registered Agent:\n",
      "                  RA-Name  LLC_Count  \\\n",
      "0                3337 LLC         11   \n",
      "1     7820 Whitepine  LLC         56   \n",
      "3           A   REISINGER         10   \n",
      "4            A J   KALFUS         23   \n",
      "5       A KEVIN   CARBONE          9   \n",
      "7   A PATRICIA   MERRYMAN       2849   \n",
      "11       AARON   CEVALLOS          2   \n",
      "13         AARON   TRUMAN         21   \n",
      "15         AARON B   COOK          3   \n",
      "16    AARON CALEB   RIFFE         14   \n",
      "\n",
      "                                       plaintiff_name  \\\n",
      "0   [VARADO LLC, VARADO LLC, VARADO LLC, VARADO LL...   \n",
      "1   [NEWPORT TECH CENTER LLC, NEWPORT TECH CENTER ...   \n",
      "3   [RIDGECREST PROPERTIES LLC, RIDGECREST PROPERT...   \n",
      "4   [BRANT POINT PROPERTIES LLC, BRANT POINT PROPE...   \n",
      "5   [CREDIT CORP SOLUTIONS INC, CREDIT CORP SOLUTI...   \n",
      "7   [109 PERRY FEE LLC, 109 PERRY FEE LLC, 109 PER...   \n",
      "11             [HERITAGE HOSP LLC, HERITAGE HOSP LLC]   \n",
      "13  [CHANTILLY MEWS LTD DIVIDEND HOUSING, CHANTILL...   \n",
      "15           [AB COOK LLC, AB COOK LLC, AB COOK, LLC]   \n",
      "16  [RIFFE RENTAL PROPERTIES LLC, RIFFE RENTAL PRO...   \n",
      "\n",
      "                                           IncorpDate  \\\n",
      "0   [2018-06-15, 2018-06-15, 2018-06-15, 2018-06-1...   \n",
      "1   [2021-08-23, 2021-08-23, 2021-08-23, 2021-08-2...   \n",
      "3   [2003-01-08, 2003-01-08, 2003-01-08, 2003-01-0...   \n",
      "4   [1999-05-04, 1999-05-04, 1999-05-04, 1999-05-0...   \n",
      "5   [2015-03-30, 2015-03-30, 2015-03-30, 2015-03-3...   \n",
      "7   [2004-06-08, 2004-06-08, 2004-06-08, 2004-06-0...   \n",
      "11                           [2014-11-06, 2014-11-06]   \n",
      "13  [2014-07-10, 2014-07-10, 2014-07-10, 2014-07-1...   \n",
      "15               [2012-08-23, 2012-08-23, 2012-08-23]   \n",
      "16  [2006-09-28, 2006-09-28, 2006-09-28, 2006-09-2...   \n",
      "\n",
      "                                                  Zip  \\\n",
      "0   [22407-0000, 22407-0000, 22407-0000, 22407-000...   \n",
      "1   [20817, 20817, 20817, 20817, 20817, 20817, 208...   \n",
      "3   [23060-0000, 23060-0000, 23060-0000, 23060-000...   \n",
      "4   [23451-0000, 23451-0000, 23451-0000, 23451-000...   \n",
      "5   [20135-0000, 20135-0000, 20135-0000, 20135-000...   \n",
      "7   [24504-0000, 24504-0000, 24504-0000, 24504-000...   \n",
      "11                           [22580-0000, 22580-0000]   \n",
      "13  [23832-0000, 23832-0000, 23832-0000, 23832-000...   \n",
      "15               [24153-1804, 24153-1804, 24153-1804]   \n",
      "16  [24219-0000, 24219-0000, 24219-0000, 24219-000...   \n",
      "\n",
      "                                           filed_date  \\\n",
      "0   [2020-01-21, 2020-07-06, 2019-02-15, 2019-04-1...   \n",
      "1   [2022-08-05, 2023-06-02, 2022-12-05, 2022-12-0...   \n",
      "3   [2019-06-14, 2019-07-16, 2022-12-02, 2018-06-2...   \n",
      "4   [2018-02-01, 2018-05-25, 2018-05-14, 2018-04-1...   \n",
      "5   [2023-08-10, 2023-01-27, 2023-03-09, 2023-03-0...   \n",
      "7   [2023-01-05, 2023-01-05, 2023-01-05, 2023-01-0...   \n",
      "11                           [2022-11-18, 2022-11-18]   \n",
      "13  [2021-11-15, 2021-11-15, 2020-10-16, 2022-11-1...   \n",
      "15               [2018-06-06, 2020-01-14, 2023-01-13]   \n",
      "16  [2018-04-20, 2018-01-24, 2021-07-07, 2023-03-0...   \n",
      "\n",
      "                                        serial_filing  \n",
      "0   [False, False, False, True, False, False, Fals...  \n",
      "1   [False, False, False, False, False, True, True...  \n",
      "3   [False, True, False, False, False, True, False...  \n",
      "4   [False, False, False, False, False, False, Fal...  \n",
      "5   [False, False, False, False, False, False, Fal...  \n",
      "7   [False, False, False, False, False, False, Fal...  \n",
      "11                                     [False, False]  \n",
      "13  [False, False, True, True, False, False, False...  \n",
      "15                                [True, True, False]  \n",
      "16  [False, False, False, False, False, False, Fal...  \n"
     ]
    }
   ],
   "source": [
    "print(\"Top groups by Registered Agent:\")\n",
    "print(ra_groups.head(10))"
   ]
  },
  {
   "cell_type": "code",
   "execution_count": 11,
   "id": "e196e3a7",
   "metadata": {},
   "outputs": [
    {
     "name": "stdout",
     "output_type": "stream",
     "text": [
      "Top groups by Street1:\n",
      "                  Street1  LLC_Count  \\\n",
      "0           1 AEC PARKWAY        132   \n",
      "1              1 AEC PKWY        235   \n",
      "2   1 American Ln Ste 220          4   \n",
      "4    1 Boar's Head Pointe          9   \n",
      "5       1 CENTRE PORT CIR          3   \n",
      "6            1 COLLINS DR       1521   \n",
      "7         1 COLLINS DRIVE        482   \n",
      "8            1 Courage Ln          7   \n",
      "9         1 ELMCROFT ROAD        362   \n",
      "10             1 Engle St         10   \n",
      "\n",
      "                                       plaintiff_name  \\\n",
      "0   [AERC RIVERSIDE STATION LLC, AERC RIVERSIDE ST...   \n",
      "1   [AERC VIENNA METRO LLC, AERC VIENNA METRO LLC,...   \n",
      "2   [CAVALRY SPV LLC, CAVALRY SPV LLC, CAVALRY SPV...   \n",
      "4   [IVY GARDENS OF CHARLOTTESVILLE LLC, OLD IVY O...   \n",
      "5   [M D BIVINS CONSTRUCTION LLC, M D BIVINS CONST...   \n",
      "6   [1902 ATLANTIC LIMITED, BASYE LAND CO, BENTLEY...   \n",
      "7   [801 CHASE CARIBE PLAC LLC, CHEVY CHASE FUNDIN...   \n",
      "8   [DELASHMUTT VIRGINIA PROPERTIES, LLC, DELASHMU...   \n",
      "9   [BLT ACP AVENTINE LLC, BLT ACP AVENTINE LLC, B...   \n",
      "10  [HILL MHP, LLC, HILL MHP, LLC, HILL MHP, LLC, ...   \n",
      "\n",
      "                                           IncorpDate  \\\n",
      "0   [2010-05-11, 2010-05-11, 2010-05-11, 2010-05-1...   \n",
      "1   [2011-08-03, 2011-08-03, 2011-08-03, 2011-08-0...   \n",
      "2    [2011-02-07, 2011-02-07, 2011-02-07, 2011-02-07]   \n",
      "4   [2016-07-12, 2016-07-12, 2016-07-12, 2016-07-1...   \n",
      "5                [2018-01-30, 2018-01-30, 2018-01-30]   \n",
      "6   [2005-08-03, 2005-08-03, 2005-08-03, 2005-08-0...   \n",
      "7   [2002-02-27, 2002-02-27, 2002-02-27, 2002-02-2...   \n",
      "8   [2022-05-18, 2022-05-18, 2022-05-18, 2022-05-1...   \n",
      "9   [2014-02-25, 2014-02-25, 2014-02-25, 2014-02-2...   \n",
      "10  [2021-09-08, 2021-09-08, 2021-09-08, 2021-09-0...   \n",
      "\n",
      "                                                  Zip  \\\n",
      "0   [44143-0000, 44143-0000, 44143-0000, 44143-000...   \n",
      "1   [44143-0000, 44143-0000, 44143-0000, 44143-000...   \n",
      "2    [06831-1340, 06831-1340, 06831-1340, 06831-1340]   \n",
      "4   [22904-4218, 22904-4218, 22904-4218, 22904-421...   \n",
      "5                [23703-0000, 23703-0000, 23703-0000]   \n",
      "6   [22408-0000, 22408-0000, 22408-0000, 22408-000...   \n",
      "7   [22408-0000, 22408-0000, 22408-0000, 22408-000...   \n",
      "8   [22554-4843, 22554-4843, 22554-4843, 22554-484...   \n",
      "9   [06902, 06902, 06902, 06902, 06902, 06902, 069...   \n",
      "10  [07631, 07631, 07631, 07631, 07631, 07631, 076...   \n",
      "\n",
      "                                           filed_date  \\\n",
      "0   [2019-01-24, 2019-02-26, 2019-06-06, 2019-09-0...   \n",
      "1   [2020-03-12, 2020-02-21, 2019-09-19, 2019-12-1...   \n",
      "2    [2022-08-30, 2019-12-02, 2018-08-23, 2021-11-17]   \n",
      "4   [2023-06-16, 2023-02-15, 2018-06-25, 2022-08-1...   \n",
      "5                [2021-03-25, 2021-03-25, 2021-03-25]   \n",
      "6   [2018-07-02, 2019-05-07, 2020-01-29, 2023-06-2...   \n",
      "7   [2018-09-26, 2020-01-16, 2020-01-10, 2018-09-2...   \n",
      "8   [2022-09-08, 2022-09-08, 2022-09-08, 2022-09-0...   \n",
      "9   [2023-01-09, 2022-09-02, 2019-08-16, 2022-09-2...   \n",
      "10  [2023-06-28, 2023-06-28, 2023-06-28, 2023-06-2...   \n",
      "\n",
      "                                        serial_filing  \n",
      "0   [False, True, True, False, False, False, False...  \n",
      "1   [False, False, False, False, False, True, Fals...  \n",
      "2                        [False, False, False, False]  \n",
      "4   [False, False, False, False, True, False, Fals...  \n",
      "5                               [False, False, False]  \n",
      "6   [False, False, False, False, False, False, Fal...  \n",
      "7   [False, False, False, False, False, False, Fal...  \n",
      "8   [False, False, False, False, False, False, False]  \n",
      "9   [False, False, False, False, True, True, False...  \n",
      "10  [False, False, False, False, False, False, Fal...  \n"
     ]
    }
   ],
   "source": [
    "print(\"Top groups by Street1:\")\n",
    "print(address_groups.head(10))"
   ]
  },
  {
   "cell_type": "code",
   "execution_count": 12,
   "id": "04be1f7c",
   "metadata": {},
   "outputs": [
    {
     "name": "stdout",
     "output_type": "stream",
     "text": [
      "Top groups by Composite Key:\n",
      "                                Composite_Key  LLC_Count  \\\n",
      "0                    3337 LLC|1003 Bragg Road         11   \n",
      "1        7820 Whitepine  LLC|6501 GOLDLEAF DR         56   \n",
      "3           A   REISINGER|4600 COX RD STE 320         10   \n",
      "4                  A J   KALFUS|1337 BRANT RD         23   \n",
      "5      A KEVIN   CARBONE|17534 RAVEN ROCKS RD          9   \n",
      "7   A PATRICIA   MERRYMAN|800 MAIN ST STE 400       2849   \n",
      "11      AARON   CEVALLOS|10124 Overlook Court          2   \n",
      "13         AARON   TRUMAN|7707 Drexelbrook Rd         21   \n",
      "15                 AARON B   COOK|1856 Oak Dr          3   \n",
      "16   AARON CALEB   RIFFE|278 BISHOP HOLLOW DR         14   \n",
      "\n",
      "                                       plaintiff_name  \\\n",
      "0   [VARADO LLC, VARADO LLC, VARADO LLC, VARADO LL...   \n",
      "1   [NEWPORT TECH CENTER LLC, NEWPORT TECH CENTER ...   \n",
      "3   [RIDGECREST PROPERTIES LLC, RIDGECREST PROPERT...   \n",
      "4   [BRANT POINT PROPERTIES LLC, BRANT POINT PROPE...   \n",
      "5   [CREDIT CORP SOLUTIONS INC, CREDIT CORP SOLUTI...   \n",
      "7   [109 PERRY FEE LLC, 109 PERRY FEE LLC, 109 PER...   \n",
      "11             [HERITAGE HOSP LLC, HERITAGE HOSP LLC]   \n",
      "13  [CHANTILLY MEWS LTD DIVIDEND HOUSING, CHANTILL...   \n",
      "15           [AB COOK LLC, AB COOK LLC, AB COOK, LLC]   \n",
      "16  [RIFFE RENTAL PROPERTIES LLC, RIFFE RENTAL PRO...   \n",
      "\n",
      "                                           IncorpDate  \\\n",
      "0   [2018-06-15, 2018-06-15, 2018-06-15, 2018-06-1...   \n",
      "1   [2021-08-23, 2021-08-23, 2021-08-23, 2021-08-2...   \n",
      "3   [2003-01-08, 2003-01-08, 2003-01-08, 2003-01-0...   \n",
      "4   [1999-05-04, 1999-05-04, 1999-05-04, 1999-05-0...   \n",
      "5   [2015-03-30, 2015-03-30, 2015-03-30, 2015-03-3...   \n",
      "7   [2004-06-08, 2004-06-08, 2004-06-08, 2004-06-0...   \n",
      "11                           [2014-11-06, 2014-11-06]   \n",
      "13  [2014-07-10, 2014-07-10, 2014-07-10, 2014-07-1...   \n",
      "15               [2012-08-23, 2012-08-23, 2012-08-23]   \n",
      "16  [2006-09-28, 2006-09-28, 2006-09-28, 2006-09-2...   \n",
      "\n",
      "                                                  Zip  \\\n",
      "0   [22407-0000, 22407-0000, 22407-0000, 22407-000...   \n",
      "1   [20817, 20817, 20817, 20817, 20817, 20817, 208...   \n",
      "3   [23060-0000, 23060-0000, 23060-0000, 23060-000...   \n",
      "4   [23451-0000, 23451-0000, 23451-0000, 23451-000...   \n",
      "5   [20135-0000, 20135-0000, 20135-0000, 20135-000...   \n",
      "7   [24504-0000, 24504-0000, 24504-0000, 24504-000...   \n",
      "11                           [22580-0000, 22580-0000]   \n",
      "13  [23832-0000, 23832-0000, 23832-0000, 23832-000...   \n",
      "15               [24153-1804, 24153-1804, 24153-1804]   \n",
      "16  [24219-0000, 24219-0000, 24219-0000, 24219-000...   \n",
      "\n",
      "                                           filed_date  \\\n",
      "0   [2020-01-21, 2020-07-06, 2019-02-15, 2019-04-1...   \n",
      "1   [2022-08-05, 2023-06-02, 2022-12-05, 2022-12-0...   \n",
      "3   [2019-06-14, 2019-07-16, 2022-12-02, 2018-06-2...   \n",
      "4   [2018-02-01, 2018-05-25, 2018-05-14, 2018-04-1...   \n",
      "5   [2023-08-10, 2023-01-27, 2023-03-09, 2023-03-0...   \n",
      "7   [2023-01-05, 2023-01-05, 2023-01-05, 2023-01-0...   \n",
      "11                           [2022-11-18, 2022-11-18]   \n",
      "13  [2021-11-15, 2021-11-15, 2020-10-16, 2022-11-1...   \n",
      "15               [2018-06-06, 2020-01-14, 2023-01-13]   \n",
      "16  [2018-04-20, 2018-01-24, 2021-07-07, 2023-03-0...   \n",
      "\n",
      "                                        serial_filing  \n",
      "0   [False, False, False, True, False, False, Fals...  \n",
      "1   [False, False, False, False, False, True, True...  \n",
      "3   [False, True, False, False, False, True, False...  \n",
      "4   [False, False, False, False, False, False, Fal...  \n",
      "5   [False, False, False, False, False, False, Fal...  \n",
      "7   [False, False, False, False, False, False, Fal...  \n",
      "11                                     [False, False]  \n",
      "13  [False, False, True, True, False, False, False...  \n",
      "15                                [True, True, False]  \n",
      "16  [False, False, False, False, False, False, Fal...  \n"
     ]
    }
   ],
   "source": [
    "print(\"Top groups by Composite Key:\")\n",
    "print(composite_groups.head(10))"
   ]
  },
  {
   "cell_type": "code",
   "execution_count": 16,
   "id": "452a2c46",
   "metadata": {},
   "outputs": [
    {
     "data": {
      "image/png": "[encoded data removed]",
      "text/plain": [
       "<Figure size 1200x600 with 1 Axes>"
      ]
     },
     "metadata": {},
     "output_type": "display_data"
    }
   ],
   "source": [
    "from matplotlib.ticker import MaxNLocator\n",
    "\n",
    "plt.figure(figsize=(12, 6))\n",
    "sns.histplot(ra_groups['LLC_Count'], bins=50, label='RA-Name', alpha=0.5)\n",
    "sns.histplot(address_groups['LLC_Count'], bins=50, label='Street1', alpha=0.5)\n",
    "sns.histplot(composite_groups['LLC_Count'], bins=50, label='Composite Key', alpha=0.5)\n",
    "\n",
    "plt.xlabel('Number of LLCs in Group')\n",
    "plt.ylabel('Frequency')\n",
    "plt.title('Distribution of Group Sizes')\n",
    "plt.legend()\n",
    "\n",
    "plt.xlim(0, 4000) \n",
    "plt.gca().xaxis.set_major_locator(MaxNLocator(integer=True, prune='lower', nbins=5))  # Limit to max 5 ticks\n",
    "\n",
    "plt.savefig('../OUTPUT/group_size_distribution.png')\n",
    "plt.show()\n",
    "plt.close()"
   ]
  },
  {
   "cell_type": "code",
   "execution_count": 18,
   "id": "887570cd",
   "metadata": {},
   "outputs": [
    {
     "name": "stdout",
     "output_type": "stream",
     "text": [
      "Top 5 RA-Name Groups:\n",
      "                          RA-Name  LLC_Count\n",
      "1247  CORPORATION SERVICE COMPANY      38404\n",
      "901        C T CORPORATION SYSTEM      26385\n",
      "312               ARVIND B   AMIN      12839\n",
      "2795               HORACE   JONES      11586\n",
      "2883                  ICAFS  INC.      10694\n",
      "\n",
      "Top 5 Street1 Groups:\n",
      "                         Street1  LLC_Count\n",
      "3663         208 GOLDEN MAPLE DR      12839\n",
      "2548        1555 KING ST STE 200      11586\n",
      "8039  6031 Connection Dr Ste 200       8786\n",
      "8966         7704-C RICHMOND HWY       7786\n",
      "4966          2922 Hathaway Road       5077\n",
      "\n",
      "Top 5 Composite Key Groups:\n",
      "                                       Composite_Key  LLC_Count\n",
      "363              ARVIND B   AMIN|208 GOLDEN MAPLE DR      12839\n",
      "3992             HORACE   JONES|1555 KING ST STE 200      11586\n",
      "9380             THAO NHU   DINH|7704-C RICHMOND HWY       7786\n",
      "4113                  ICAFS  INC.|2922 Hathaway Road       5077\n",
      "1889  CORPORATION SERVICE COMPANY|160 CLUBHOUSE ROAD       4042\n"
     ]
    }
   ],
   "source": [
    "print(\"Top 5 RA-Name Groups:\")\n",
    "print(ra_groups[['RA-Name', 'LLC_Count']].sort_values(by='LLC_Count', ascending=False).head(5))\n",
    "print(\"\\nTop 5 Street1 Groups:\")\n",
    "print(address_groups[['Street1', 'LLC_Count']].sort_values(by='LLC_Count', ascending=False).head(5))\n",
    "print(\"\\nTop 5 Composite Key Groups:\")\n",
    "print(composite_groups[['Composite_Key', 'LLC_Count']].sort_values(by='LLC_Count', ascending=False).head(5))"
   ]
  },
  {
   "cell_type": "code",
   "execution_count": null,
   "id": "e3ee81cc",
   "metadata": {},
   "outputs": [],
   "source": [
    "ra_entities = df.merge(ra_groups[['RA-Name']], on='RA-Name', how='inner')[['Name', 'RA-Name', 'plaintiff_name']]\n",
    "address_entities = df.merge(address_groups[['Street1']], on='Street1', how='inner')[['Name', 'Street1', 'plaintiff_name']]\n",
    "\n",
    "overlap = pd.merge(\n",
    "    ra_entities,\n",
    "    address_entities,\n",
    "    on='Name',\n",
    "    how='inner',\n",
    "    suffixes=('_ra', '_addr')\n",
    ")\n",
    "print(\"\\nNumber of overlapping LLCs (RA-Name and Street1):\", len(overlap))\n",
    "print(\"Sample overlapping LLCs (first 5):\")\n",
    "print(overlap[['Name', 'RA-Name', 'Street1', 'plaintiff_name_ra']].head(5))"
   ]
  }
 ],
 "metadata": {
  "kernelspec": {
   "display_name": ".venv",
   "language": "python",
   "name": "python3"
  },
  "language_info": {
   "codemirror_mode": {
    "name": "ipython",
    "version": 3
   },
   "file_extension": ".py",
   "mimetype": "text/x-python",
   "name": "python",
   "nbconvert_exporter": "python",
   "pygments_lexer": "ipython3",
   "version": "3.13.3"
  }
 },
 "nbformat": 4,
 "nbformat_minor": 5
}
