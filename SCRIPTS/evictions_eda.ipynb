{
 "cells": [
  {
   "cell_type": "code",
   "execution_count": 43,
   "id": "7421dda4",
   "metadata": {},
   "outputs": [],
   "source": [
    "import numpy as np\n",
    "import pandas as pd\n",
    "import matplotlib.pyplot as plt\n",
    "import seaborn as sns"
   ]
  },
  {
   "cell_type": "code",
   "execution_count": 44,
   "id": "3a6862a2",
   "metadata": {},
   "outputs": [],
   "source": [
    "df = pd.read_parquet('../OUTPUT/evictions_matched.parquet')"
   ]
  },
  {
   "cell_type": "code",
   "execution_count": 45,
   "id": "89dab56d",
   "metadata": {},
   "outputs": [
    {
     "data": {
      "text/plain": [
       "(630393, 81)"
      ]
     },
     "execution_count": 45,
     "metadata": {},
     "output_type": "execute_result"
    }
   ],
   "source": [
    "df.shape"
   ]
  },
  {
   "cell_type": "code",
   "execution_count": null,
   "id": "99e855ee",
   "metadata": {},
   "outputs": [],
   "source": [
    "## Set your desired match confidence here\n",
    "confidence = 90\n",
    "df = df.loc[df['match_confidence'] >= confidence]"
   ]
  },
  {
   "cell_type": "code",
   "execution_count": 47,
   "id": "77d95457",
   "metadata": {},
   "outputs": [
    {
     "data": {
      "application/vnd.microsoft.datawrangler.viewer.v0+json": {
       "columns": [
        {
         "name": "index",
         "rawType": "int64",
         "type": "integer"
        },
        {
         "name": "plaintiff_name",
         "rawType": "object",
         "type": "string"
        },
        {
         "name": "defendant_name",
         "rawType": "object",
         "type": "string"
        },
        {
         "name": "defendant_zip",
         "rawType": "float64",
         "type": "float"
        },
        {
         "name": "c2dp_case_id",
         "rawType": "object",
         "type": "string"
        },
        {
         "name": "county",
         "rawType": "object",
         "type": "string"
        },
        {
         "name": "fips",
         "rawType": "int64",
         "type": "integer"
        },
        {
         "name": "case_number",
         "rawType": "object",
         "type": "string"
        },
        {
         "name": "filed_date",
         "rawType": "object",
         "type": "string"
        },
        {
         "name": "case_type",
         "rawType": "object",
         "type": "string"
        },
        {
         "name": "debt_type",
         "rawType": "object",
         "type": "unknown"
        },
        {
         "name": "defendant_attorney",
         "rawType": "object",
         "type": "string"
        },
        {
         "name": "defendant_dba_ta",
         "rawType": "object",
         "type": "unknown"
        },
        {
         "name": "defendant_address",
         "rawType": "object",
         "type": "string"
        },
        {
         "name": "defendant_count",
         "rawType": "int64",
         "type": "integer"
        },
        {
         "name": "all_defendant_names",
         "rawType": "object",
         "type": "string"
        },
        {
         "name": "all_defendant_addresses",
         "rawType": "object",
         "type": "string"
        },
        {
         "name": "defendant_order_validation",
         "rawType": "object",
         "type": "string"
        },
        {
         "name": "hearing_count",
         "rawType": "int64",
         "type": "integer"
        },
        {
         "name": "latest_hearing_date",
         "rawType": "object",
         "type": "string"
        },
        {
         "name": "latest_hearing_result",
         "rawType": "object",
         "type": "string"
        },
        {
         "name": "judgment",
         "rawType": "object",
         "type": "string"
        },
        {
         "name": "homestead_exemption_waived",
         "rawType": "object",
         "type": "unknown"
        },
        {
         "name": "is_judgment_satisfied",
         "rawType": "object",
         "type": "unknown"
        },
        {
         "name": "date_satisfaction_filed",
         "rawType": "object",
         "type": "unknown"
        },
        {
         "name": "further_case_information",
         "rawType": "object",
         "type": "unknown"
        },
        {
         "name": "costs",
         "rawType": "object",
         "type": "unknown"
        },
        {
         "name": "attorney_fees",
         "rawType": "object",
         "type": "unknown"
        },
        {
         "name": "principal_amount",
         "rawType": "object",
         "type": "unknown"
        },
        {
         "name": "interest_award",
         "rawType": "object",
         "type": "unknown"
        },
        {
         "name": "possession",
         "rawType": "object",
         "type": "string"
        },
        {
         "name": "writ_of_eviction_issued_date",
         "rawType": "object",
         "type": "unknown"
        },
        {
         "name": "other_amount",
         "rawType": "object",
         "type": "unknown"
        },
        {
         "name": "other_awarded",
         "rawType": "object",
         "type": "unknown"
        },
        {
         "name": "clean_party_name",
         "rawType": "object",
         "type": "string"
        },
        {
         "name": "plaintiff_attorney",
         "rawType": "object",
         "type": "string"
        },
        {
         "name": "plaintiff_dba_ta",
         "rawType": "object",
         "type": "string"
        },
        {
         "name": "plaintiff_address",
         "rawType": "object",
         "type": "string"
        },
        {
         "name": "plaintiff_count",
         "rawType": "int64",
         "type": "integer"
        },
        {
         "name": "all_plaintiff_names",
         "rawType": "object",
         "type": "string"
        },
        {
         "name": "all_plaintiff_addresses",
         "rawType": "object",
         "type": "string"
        },
        {
         "name": "plaintiff_order_validation",
         "rawType": "object",
         "type": "string"
        },
        {
         "name": "filed_year",
         "rawType": "int64",
         "type": "integer"
        },
        {
         "name": "filed_quarter",
         "rawType": "object",
         "type": "string"
        },
        {
         "name": "plaintiff_zip",
         "rawType": "float64",
         "type": "float"
        },
        {
         "name": "serial_filing",
         "rawType": "bool",
         "type": "boolean"
        },
        {
         "name": "latest_filing_in_serial_window",
         "rawType": "bool",
         "type": "boolean"
        },
        {
         "name": "defendant_non_residential",
         "rawType": "bool",
         "type": "boolean"
        },
        {
         "name": "plaintiff_name_normalized",
         "rawType": "object",
         "type": "string"
        },
        {
         "name": "is_llc",
         "rawType": "bool",
         "type": "boolean"
        },
        {
         "name": "match_confidence",
         "rawType": "float64",
         "type": "float"
        },
        {
         "name": "Name",
         "rawType": "object",
         "type": "string"
        },
        {
         "name": "Status",
         "rawType": "object",
         "type": "string"
        },
        {
         "name": "StatusReason",
         "rawType": "object",
         "type": "string"
        },
        {
         "name": "Status Date",
         "rawType": "object",
         "type": "string"
        },
        {
         "name": "Duration",
         "rawType": "object",
         "type": "string"
        },
        {
         "name": "IncorpDate",
         "rawType": "object",
         "type": "string"
        },
        {
         "name": "IncorpState",
         "rawType": "object",
         "type": "string"
        },
        {
         "name": "IndustryCode",
         "rawType": "object",
         "type": "unknown"
        },
        {
         "name": "Street1",
         "rawType": "object",
         "type": "string"
        },
        {
         "name": "Street2",
         "rawType": "object",
         "type": "unknown"
        },
        {
         "name": "City",
         "rawType": "object",
         "type": "string"
        },
        {
         "name": "State",
         "rawType": "object",
         "type": "string"
        },
        {
         "name": "Zip",
         "rawType": "object",
         "type": "string"
        },
        {
         "name": "PrinOffEffDate",
         "rawType": "object",
         "type": "string"
        },
        {
         "name": "RA-Name",
         "rawType": "object",
         "type": "string"
        },
        {
         "name": "RA-Street1",
         "rawType": "object",
         "type": "string"
        },
        {
         "name": "RA-Street2",
         "rawType": "object",
         "type": "unknown"
        },
        {
         "name": "RA-City",
         "rawType": "object",
         "type": "string"
        },
        {
         "name": "RA-State",
         "rawType": "object",
         "type": "string"
        },
        {
         "name": "RA-Zip",
         "rawType": "object",
         "type": "string"
        },
        {
         "name": "RA-EffDate",
         "rawType": "object",
         "type": "unknown"
        },
        {
         "name": "RA-Status",
         "rawType": "object",
         "type": "string"
        },
        {
         "name": "RA-Loc",
         "rawType": "float64",
         "type": "float"
        },
        {
         "name": "StockInd",
         "rawType": "float64",
         "type": "float"
        },
        {
         "name": "TotalShares",
         "rawType": "float64",
         "type": "float"
        },
        {
         "name": "MergerInd",
         "rawType": "object",
         "type": "unknown"
        },
        {
         "name": "AssessInd",
         "rawType": "int64",
         "type": "integer"
        },
        {
         "name": "Is Series LLC",
         "rawType": "object",
         "type": "unknown"
        },
        {
         "name": "Is Protected Series",
         "rawType": "object",
         "type": "unknown"
        },
        {
         "name": "Series LLC ID",
         "rawType": "object",
         "type": "unknown"
        },
        {
         "name": "Name_normalized",
         "rawType": "object",
         "type": "string"
        }
       ],
       "conversionMethod": "pd.DataFrame",
       "ref": "cd7e6280-5e63-4bca-9247-d7f8663acd46",
       "rows": [
        [
         "0",
         "1 HIL MAR, INC",
         "SCHOTT, HENRY J",
         "23227.0",
         "127_GV22000423-00",
         "New Kent General District Court",
         "127",
         "GV22000423-00",
         "2022-08-18",
         "Unlawful Detainer",
         null,
         "NONE",
         null,
         "RICHMOND, VA 23227",
         "2",
         "SCHOTT, HENRY J | MCCLURE, LESLEY",
         "RICHMOND, VA 23227 | RICHMOND, VA 23227",
         "1 | 2",
         "1",
         "2022-09-07",
         "Other",
         "Case Dismissed",
         null,
         null,
         null,
         "LESLEY MCLURE NOT PRESENT- HENRY SCHOTT PRESENT",
         null,
         null,
         null,
         null,
         "Possession",
         null,
         null,
         null,
         "1 hil mar, inc",
         "BRAY, OTEY, SMITH, AND QUARLES",
         "WILLIAM BRAY, OTEY, SMITH AND QUARLES",
         "WILLIAMSBURG, VA 23185",
         "1",
         "1 HIL-MAR, INC",
         "WILLIAMSBURG, VA 23185",
         "1",
         "2022",
         "Q3",
         "23185.0",
         "False",
         "True",
         "False",
         "1 hil inc mar",
         "True",
         "90.0",
         "Hi, LLC",
         "INACTIVE",
         "Automatically Canceled - Registration Fee - Can Reinstate",
         "2024-01-31",
         "9999-12-31",
         "2022-10-13",
         "VA",
         "0 - General",
         "700 Shockley Rd",
         null,
         "Hillsville",
         "Virginia",
         "24343-4509",
         "2022-10-13",
         "Amy LaRue Walker",
         "700 Shockley Rd",
         null,
         "Hillsville",
         "Virginia",
         "24343-4509",
         "2022-10-13",
         "Active",
         "810.0",
         null,
         null,
         null,
         "1",
         null,
         null,
         null,
         "hi"
        ],
        [
         "1",
         "1 HIL MAR, INC",
         "SCHOTT, HENRY J",
         "23227.0",
         "127_GV22000423-00",
         "New Kent General District Court",
         "127",
         "GV22000423-00",
         "2022-08-18",
         "Unlawful Detainer",
         null,
         "NONE",
         null,
         "RICHMOND, VA 23227",
         "2",
         "SCHOTT, HENRY J | MCCLURE, LESLEY",
         "RICHMOND, VA 23227 | RICHMOND, VA 23227",
         "1 | 2",
         "1",
         "2022-09-07",
         "Other",
         "Case Dismissed",
         null,
         null,
         null,
         "LESLEY MCLURE NOT PRESENT- HENRY SCHOTT PRESENT",
         null,
         null,
         null,
         null,
         "Possession",
         null,
         null,
         null,
         "1 hil mar, inc",
         "BRAY, OTEY, SMITH, AND QUARLES",
         "WILLIAM BRAY, OTEY, SMITH AND QUARLES",
         "WILLIAMSBURG, VA 23185",
         "1",
         "1 HIL-MAR, INC",
         "WILLIAMSBURG, VA 23185",
         "1",
         "2022",
         "Q3",
         "23185.0",
         "False",
         "True",
         "False",
         "1 hil inc mar",
         "True",
         "90.0",
         "H&I LLC",
         "ACTIVE",
         "Active",
         "2025-01-16",
         "9999-12-31",
         "2025-01-16",
         "VA",
         null,
         "3280 fleetwood ave",
         null,
         "roanoke",
         "Virginia",
         "24015",
         "2025-01-16",
         "Hanan S Alhusseini",
         "3280 Fleetwood Ave",
         null,
         "Roanoke",
         "Virginia",
         "24015-4644",
         "2025-01-16",
         "Active",
         "990.0",
         null,
         "0.0",
         null,
         "0",
         null,
         null,
         null,
         "hi"
        ],
        [
         "2",
         "1 SQ APTS LP",
         "AYALA ERICA",
         "23702.0",
         "740_GV18012249-00",
         "Portsmouth General District Court",
         "740",
         "GV18012249-00",
         "2018-11-21",
         "Unlawful Detainer",
         null,
         "NONE",
         "AYALA ERICA",
         "PORTSMOUTH, VA 23702",
         "2",
         "AYALA ERICA | FRANKLIN CHRISTOPHER",
         "PORTSMOUTH, VA 23702 | PORTSMOUTH, VA 23702",
         "1 | 2",
         "1",
         "2018-12-13",
         "Default Judgment",
         "Plaintiff",
         null,
         null,
         null,
         null,
         "$59.00",
         "$175.00",
         "$825.00",
         "6     % FROM 121318",
         "Immediate",
         null,
         "$82.50",
         null,
         "1 sq apts lp",
         "KIRK LEVY",
         "INDEPENDENCE SQUARE APARTMENTS",
         "PORTSMOUTH, VA 23702",
         "1",
         "1 SQUARE APTS LP",
         "PORTSMOUTH, VA 23702",
         "1",
         "2018",
         "Q4",
         "23702.0",
         "False",
         "True",
         "False",
         "1 apts lp sq",
         "True",
         "90.0",
         "APT, LLC",
         "INACTIVE",
         "Voluntarily Canceled - Cannot Reinstate",
         "2013-03-29",
         "9999-12-31",
         "2009-11-16",
         "VA",
         "0 - General",
         "1555 KING ST STE 200",
         null,
         "ALEXANDRIA",
         "Virginia",
         "22314-0000",
         "2009-11-16",
         "HORACE   JONES",
         "1555 KING ST STE 400",
         null,
         "ALEXANDRIA",
         "Virginia",
         "22314-0000",
         null,
         "Active",
         "510.0",
         null,
         null,
         null,
         "1",
         null,
         null,
         null,
         "apt"
        ],
        [
         "3",
         "1 SQ APTS LP",
         "DARDEN DAVID",
         "23702.0",
         "740_GV18012250-00",
         "Portsmouth General District Court",
         "740",
         "GV18012250-00",
         "2018-11-26",
         "Unlawful Detainer",
         null,
         "NONE",
         null,
         "PORTSMOUTH, VA 23702",
         "1",
         "DARDEN DAVID",
         "PORTSMOUTH, VA 23702",
         "1",
         "1",
         "2018-12-13",
         "Default Judgment",
         "Plaintiff",
         null,
         null,
         null,
         null,
         null,
         null,
         null,
         null,
         "Immediate",
         null,
         null,
         null,
         "1 sq apts lp",
         "KIRK LEVY",
         "INDEPENDENCE SQUARE APARTMENTS",
         "PORTSMOUTH, VA 23702",
         "1",
         "1 SQUARE APTS LP",
         "PORTSMOUTH, VA 23702",
         "1",
         "2018",
         "Q4",
         "23702.0",
         "False",
         "True",
         "False",
         "1 apts lp sq",
         "True",
         "90.0",
         "APT, LLC",
         "INACTIVE",
         "Voluntarily Canceled - Cannot Reinstate",
         "2013-03-29",
         "9999-12-31",
         "2009-11-16",
         "VA",
         "0 - General",
         "1555 KING ST STE 200",
         null,
         "ALEXANDRIA",
         "Virginia",
         "22314-0000",
         "2009-11-16",
         "HORACE   JONES",
         "1555 KING ST STE 400",
         null,
         "ALEXANDRIA",
         "Virginia",
         "22314-0000",
         null,
         "Active",
         "510.0",
         null,
         null,
         null,
         "1",
         null,
         null,
         null,
         "apt"
        ],
        [
         "4",
         "1 SQ APTS LP",
         "GROOMS SHAVON",
         "23702.0",
         "740_GV18012251-00",
         "Portsmouth General District Court",
         "740",
         "GV18012251-00",
         "2018-11-26",
         "Unlawful Detainer",
         null,
         "NONE",
         null,
         "PORTSMOUTH, VA 23702",
         "1",
         "GROOMS SHAVON",
         "PORTSMOUTH, VA 23702",
         "1",
         "1",
         "2018-12-13",
         "Default Judgment",
         "Plaintiff",
         null,
         null,
         null,
         null,
         null,
         null,
         null,
         null,
         "Immediate",
         null,
         null,
         null,
         "1 sq apts lp",
         "KIRK LEVY",
         "INDEPENDENCE SQUARE APARTMENTS",
         "PORTSMOUTH, VA 23702",
         "1",
         "1 SQUARE APTS LP",
         "PORTSMOUTH, VA 23702",
         "1",
         "2018",
         "Q4",
         "23702.0",
         "False",
         "True",
         "False",
         "1 apts lp sq",
         "True",
         "90.0",
         "APT, LLC",
         "INACTIVE",
         "Voluntarily Canceled - Cannot Reinstate",
         "2013-03-29",
         "9999-12-31",
         "2009-11-16",
         "VA",
         "0 - General",
         "1555 KING ST STE 200",
         null,
         "ALEXANDRIA",
         "Virginia",
         "22314-0000",
         "2009-11-16",
         "HORACE   JONES",
         "1555 KING ST STE 400",
         null,
         "ALEXANDRIA",
         "Virginia",
         "22314-0000",
         null,
         "Active",
         "510.0",
         null,
         null,
         null,
         "1",
         null,
         null,
         null,
         "apt"
        ]
       ],
       "shape": {
        "columns": 81,
        "rows": 5
       }
      },
      "text/html": [
       "<div>\n",
       "<style scoped>\n",
       "    .dataframe tbody tr th:only-of-type {\n",
       "        vertical-align: middle;\n",
       "    }\n",
       "\n",
       "    .dataframe tbody tr th {\n",
       "        vertical-align: top;\n",
       "    }\n",
       "\n",
       "    .dataframe thead th {\n",
       "        text-align: right;\n",
       "    }\n",
       "</style>\n",
       "<table border=\"1\" class=\"dataframe\">\n",
       "  <thead>\n",
       "    <tr style=\"text-align: right;\">\n",
       "      <th></th>\n",
       "      <th>plaintiff_name</th>\n",
       "      <th>defendant_name</th>\n",
       "      <th>defendant_zip</th>\n",
       "      <th>c2dp_case_id</th>\n",
       "      <th>county</th>\n",
       "      <th>fips</th>\n",
       "      <th>case_number</th>\n",
       "      <th>filed_date</th>\n",
       "      <th>case_type</th>\n",
       "      <th>debt_type</th>\n",
       "      <th>...</th>\n",
       "      <th>RA-Status</th>\n",
       "      <th>RA-Loc</th>\n",
       "      <th>StockInd</th>\n",
       "      <th>TotalShares</th>\n",
       "      <th>MergerInd</th>\n",
       "      <th>AssessInd</th>\n",
       "      <th>Is Series LLC</th>\n",
       "      <th>Is Protected Series</th>\n",
       "      <th>Series LLC ID</th>\n",
       "      <th>Name_normalized</th>\n",
       "    </tr>\n",
       "  </thead>\n",
       "  <tbody>\n",
       "    <tr>\n",
       "      <th>0</th>\n",
       "      <td>1 HIL MAR, INC</td>\n",
       "      <td>SCHOTT, HENRY J</td>\n",
       "      <td>23227.0</td>\n",
       "      <td>127_GV22000423-00</td>\n",
       "      <td>New Kent General District Court</td>\n",
       "      <td>127</td>\n",
       "      <td>GV22000423-00</td>\n",
       "      <td>2022-08-18</td>\n",
       "      <td>Unlawful Detainer</td>\n",
       "      <td>None</td>\n",
       "      <td>...</td>\n",
       "      <td>Active</td>\n",
       "      <td>810.0</td>\n",
       "      <td>NaN</td>\n",
       "      <td>NaN</td>\n",
       "      <td>None</td>\n",
       "      <td>1</td>\n",
       "      <td>None</td>\n",
       "      <td>None</td>\n",
       "      <td>None</td>\n",
       "      <td>hi</td>\n",
       "    </tr>\n",
       "    <tr>\n",
       "      <th>1</th>\n",
       "      <td>1 HIL MAR, INC</td>\n",
       "      <td>SCHOTT, HENRY J</td>\n",
       "      <td>23227.0</td>\n",
       "      <td>127_GV22000423-00</td>\n",
       "      <td>New Kent General District Court</td>\n",
       "      <td>127</td>\n",
       "      <td>GV22000423-00</td>\n",
       "      <td>2022-08-18</td>\n",
       "      <td>Unlawful Detainer</td>\n",
       "      <td>None</td>\n",
       "      <td>...</td>\n",
       "      <td>Active</td>\n",
       "      <td>990.0</td>\n",
       "      <td>NaN</td>\n",
       "      <td>0.0</td>\n",
       "      <td>None</td>\n",
       "      <td>0</td>\n",
       "      <td>None</td>\n",
       "      <td>None</td>\n",
       "      <td>None</td>\n",
       "      <td>hi</td>\n",
       "    </tr>\n",
       "    <tr>\n",
       "      <th>2</th>\n",
       "      <td>1 SQ APTS LP</td>\n",
       "      <td>AYALA ERICA</td>\n",
       "      <td>23702.0</td>\n",
       "      <td>740_GV18012249-00</td>\n",
       "      <td>Portsmouth General District Court</td>\n",
       "      <td>740</td>\n",
       "      <td>GV18012249-00</td>\n",
       "      <td>2018-11-21</td>\n",
       "      <td>Unlawful Detainer</td>\n",
       "      <td>None</td>\n",
       "      <td>...</td>\n",
       "      <td>Active</td>\n",
       "      <td>510.0</td>\n",
       "      <td>NaN</td>\n",
       "      <td>NaN</td>\n",
       "      <td>None</td>\n",
       "      <td>1</td>\n",
       "      <td>None</td>\n",
       "      <td>None</td>\n",
       "      <td>None</td>\n",
       "      <td>apt</td>\n",
       "    </tr>\n",
       "    <tr>\n",
       "      <th>3</th>\n",
       "      <td>1 SQ APTS LP</td>\n",
       "      <td>DARDEN DAVID</td>\n",
       "      <td>23702.0</td>\n",
       "      <td>740_GV18012250-00</td>\n",
       "      <td>Portsmouth General District Court</td>\n",
       "      <td>740</td>\n",
       "      <td>GV18012250-00</td>\n",
       "      <td>2018-11-26</td>\n",
       "      <td>Unlawful Detainer</td>\n",
       "      <td>None</td>\n",
       "      <td>...</td>\n",
       "      <td>Active</td>\n",
       "      <td>510.0</td>\n",
       "      <td>NaN</td>\n",
       "      <td>NaN</td>\n",
       "      <td>None</td>\n",
       "      <td>1</td>\n",
       "      <td>None</td>\n",
       "      <td>None</td>\n",
       "      <td>None</td>\n",
       "      <td>apt</td>\n",
       "    </tr>\n",
       "    <tr>\n",
       "      <th>4</th>\n",
       "      <td>1 SQ APTS LP</td>\n",
       "      <td>GROOMS SHAVON</td>\n",
       "      <td>23702.0</td>\n",
       "      <td>740_GV18012251-00</td>\n",
       "      <td>Portsmouth General District Court</td>\n",
       "      <td>740</td>\n",
       "      <td>GV18012251-00</td>\n",
       "      <td>2018-11-26</td>\n",
       "      <td>Unlawful Detainer</td>\n",
       "      <td>None</td>\n",
       "      <td>...</td>\n",
       "      <td>Active</td>\n",
       "      <td>510.0</td>\n",
       "      <td>NaN</td>\n",
       "      <td>NaN</td>\n",
       "      <td>None</td>\n",
       "      <td>1</td>\n",
       "      <td>None</td>\n",
       "      <td>None</td>\n",
       "      <td>None</td>\n",
       "      <td>apt</td>\n",
       "    </tr>\n",
       "  </tbody>\n",
       "</table>\n",
       "<p>5 rows × 81 columns</p>\n",
       "</div>"
      ],
      "text/plain": [
       "   plaintiff_name   defendant_name  defendant_zip       c2dp_case_id  \\\n",
       "0  1 HIL MAR, INC  SCHOTT, HENRY J        23227.0  127_GV22000423-00   \n",
       "1  1 HIL MAR, INC  SCHOTT, HENRY J        23227.0  127_GV22000423-00   \n",
       "2    1 SQ APTS LP      AYALA ERICA        23702.0  740_GV18012249-00   \n",
       "3    1 SQ APTS LP     DARDEN DAVID        23702.0  740_GV18012250-00   \n",
       "4    1 SQ APTS LP    GROOMS SHAVON        23702.0  740_GV18012251-00   \n",
       "\n",
       "                              county  fips    case_number  filed_date  \\\n",
       "0    New Kent General District Court   127  GV22000423-00  2022-08-18   \n",
       "1    New Kent General District Court   127  GV22000423-00  2022-08-18   \n",
       "2  Portsmouth General District Court   740  GV18012249-00  2018-11-21   \n",
       "3  Portsmouth General District Court   740  GV18012250-00  2018-11-26   \n",
       "4  Portsmouth General District Court   740  GV18012251-00  2018-11-26   \n",
       "\n",
       "           case_type debt_type  ... RA-Status RA-Loc StockInd  TotalShares  \\\n",
       "0  Unlawful Detainer      None  ...    Active  810.0      NaN          NaN   \n",
       "1  Unlawful Detainer      None  ...    Active  990.0      NaN          0.0   \n",
       "2  Unlawful Detainer      None  ...    Active  510.0      NaN          NaN   \n",
       "3  Unlawful Detainer      None  ...    Active  510.0      NaN          NaN   \n",
       "4  Unlawful Detainer      None  ...    Active  510.0      NaN          NaN   \n",
       "\n",
       "  MergerInd AssessInd Is Series LLC  Is Protected Series Series LLC ID  \\\n",
       "0      None         1          None                 None          None   \n",
       "1      None         0          None                 None          None   \n",
       "2      None         1          None                 None          None   \n",
       "3      None         1          None                 None          None   \n",
       "4      None         1          None                 None          None   \n",
       "\n",
       "  Name_normalized  \n",
       "0              hi  \n",
       "1              hi  \n",
       "2             apt  \n",
       "3             apt  \n",
       "4             apt  \n",
       "\n",
       "[5 rows x 81 columns]"
      ]
     },
     "execution_count": 47,
     "metadata": {},
     "output_type": "execute_result"
    }
   ],
   "source": [
    "df.head()"
   ]
  },
  {
   "cell_type": "code",
   "execution_count": 73,
   "id": "c0165142",
   "metadata": {},
   "outputs": [
    {
     "data": {
      "text/plain": [
       "(630389, 82)"
      ]
     },
     "execution_count": 73,
     "metadata": {},
     "output_type": "execute_result"
    }
   ],
   "source": [
    "df.shape"
   ]
  },
  {
   "cell_type": "code",
   "execution_count": 48,
   "id": "f55789ba",
   "metadata": {},
   "outputs": [
    {
     "data": {
      "text/plain": [
       "Index(['plaintiff_name', 'defendant_name', 'defendant_zip', 'c2dp_case_id',\n",
       "       'county', 'fips', 'case_number', 'filed_date', 'case_type', 'debt_type',\n",
       "       'defendant_attorney', 'defendant_dba_ta', 'defendant_address',\n",
       "       'defendant_count', 'all_defendant_names', 'all_defendant_addresses',\n",
       "       'defendant_order_validation', 'hearing_count', 'latest_hearing_date',\n",
       "       'latest_hearing_result', 'judgment', 'homestead_exemption_waived',\n",
       "       'is_judgment_satisfied', 'date_satisfaction_filed',\n",
       "       'further_case_information', 'costs', 'attorney_fees',\n",
       "       'principal_amount', 'interest_award', 'possession',\n",
       "       'writ_of_eviction_issued_date', 'other_amount', 'other_awarded',\n",
       "       'clean_party_name', 'plaintiff_attorney', 'plaintiff_dba_ta',\n",
       "       'plaintiff_address', 'plaintiff_count', 'all_plaintiff_names',\n",
       "       'all_plaintiff_addresses', 'plaintiff_order_validation', 'filed_year',\n",
       "       'filed_quarter', 'plaintiff_zip', 'serial_filing',\n",
       "       'latest_filing_in_serial_window', 'defendant_non_residential',\n",
       "       'plaintiff_name_normalized', 'is_llc', 'match_confidence', 'Name',\n",
       "       'Status', 'StatusReason', 'Status Date', 'Duration', 'IncorpDate',\n",
       "       'IncorpState', 'IndustryCode', 'Street1', 'Street2', 'City', 'State',\n",
       "       'Zip', 'PrinOffEffDate', 'RA-Name', 'RA-Street1', 'RA-Street2',\n",
       "       'RA-City', 'RA-State', 'RA-Zip', 'RA-EffDate', 'RA-Status', 'RA-Loc',\n",
       "       'StockInd', 'TotalShares', 'MergerInd', 'AssessInd', 'Is Series LLC',\n",
       "       'Is Protected Series', 'Series LLC ID', 'Name_normalized'],\n",
       "      dtype='object')"
      ]
     },
     "execution_count": 48,
     "metadata": {},
     "output_type": "execute_result"
    }
   ],
   "source": [
    "df.columns"
   ]
  },
  {
   "cell_type": "code",
   "execution_count": null,
   "id": "0a235c25",
   "metadata": {},
   "outputs": [],
   "source": [
    "# ### Heuristic Matching\n",
    "# # Group by Registered Agent (RA-Name)\n",
    "# ra_groups = df.groupby('RA-Name').size().reset_index(name='LLC_Count')\n",
    "# ra_groups = ra_groups.sort_values(by='LLC_Count', ascending=False)\n",
    "\n",
    "# # Group by Address (Street1)\n",
    "# address_groups = df.groupby('Street1').size().reset_index(name='LLC_Count')\n",
    "# address_groups = address_groups.sort_values(by='LLC_Count', ascending=False)\n",
    "\n",
    "# # Group by composite key: RA-Name + Street1\n",
    "# df['Composite_Key'] = df['RA-Name'] + '|' + df['Street1']\n",
    "# composite_groups = df.groupby('Composite_Key').size().reset_index(name='LLC_Count')\n",
    "# composite_groups = composite_groups.sort_values(by='LLC_Count', ascending=False)"
   ]
  },
  {
   "cell_type": "code",
   "execution_count": null,
   "id": "b644adf7",
   "metadata": {},
   "outputs": [
    {
     "name": "stdout",
     "output_type": "stream",
     "text": [
      "Top groups by Registered Agent:\n",
      "                                     RA-Name  LLC_Count\n",
      "1247             CORPORATION SERVICE COMPANY      38404\n",
      "901                   C T CORPORATION SYSTEM      26385\n",
      "312                          ARVIND B   AMIN      12839\n",
      "2795                          HORACE   JONES      11586\n",
      "2883                             ICAFS  INC.      10694\n",
      "7489              Vcorp Agent Services  Inc.      10372\n",
      "5418        NATIONAL REGISTERED AGENTS  INC.       8185\n",
      "7090                         THAO NHU   DINH       7786\n",
      "7415  United States Corporation Agents  Inc.       7398\n",
      "423                         Alperin Law PLLC       4071\n"
     ]
    }
   ],
   "source": [
    "# print(\"Top groups by Registered Agent:\")\n",
    "# print(ra_groups.head(10))"
   ]
  },
  {
   "cell_type": "code",
   "execution_count": null,
   "id": "440833b2",
   "metadata": {},
   "outputs": [
    {
     "name": "stdout",
     "output_type": "stream",
     "text": [
      "Top groups by Street1:\n",
      "                         Street1  LLC_Count\n",
      "3663         208 GOLDEN MAPLE DR      12839\n",
      "2548        1555 KING ST STE 200      11586\n",
      "8039  6031 Connection Dr Ste 200       8786\n",
      "8966         7704-C RICHMOND HWY       7786\n",
      "4966          2922 Hathaway Road       5077\n",
      "2616          160 CLUBHOUSE ROAD       4042\n",
      "7753          560 LYNNHAVEN PKWY       3745\n",
      "733      11 South Cameron Street       3663\n",
      "6909   46400 BENEDICT DR STE 201       3663\n",
      "7755       560 Lynnhaven Parkway       3454\n"
     ]
    }
   ],
   "source": [
    "# print(\"Top groups by Street1:\")\n",
    "# print(address_groups.head(10))"
   ]
  },
  {
   "cell_type": "code",
   "execution_count": null,
   "id": "04dfc89a",
   "metadata": {},
   "outputs": [
    {
     "name": "stdout",
     "output_type": "stream",
     "text": [
      "Top groups by Composite Key:\n",
      "                                       Composite_Key  LLC_Count\n",
      "363              ARVIND B   AMIN|208 GOLDEN MAPLE DR      12839\n",
      "3992             HORACE   JONES|1555 KING ST STE 200      11586\n",
      "9380             THAO NHU   DINH|7704-C RICHMOND HWY       7786\n",
      "4113                  ICAFS  INC.|2922 Hathaway Road       5077\n",
      "1889  CORPORATION SERVICE COMPANY|160 CLUBHOUSE ROAD       4042\n",
      "7139      NATE L  ADAMS  III|11 South Cameron Street       3663\n",
      "3261      ESMAIL   SHIRAZI|46400 BENEDICT DR STE 201       3663\n",
      "9432   THOMAS G.  JOHNSON  JR.|560 Lynnhaven Parkway       3454\n",
      "5845                Kenneth  W Hudson|2060 Meadow Rd       3432\n",
      "4111                    ICAFS  INC.|2922 HATHAWAY RD       3340\n"
     ]
    }
   ],
   "source": [
    "# print(\"Top groups by Composite Key:\")\n",
    "# print(composite_groups.head(10))"
   ]
  },
  {
   "cell_type": "markdown",
   "id": "8f9adaf8",
   "metadata": {},
   "source": [
    "A more robust approach"
   ]
  },
  {
   "cell_type": "code",
   "execution_count": 53,
   "id": "4b47813e",
   "metadata": {},
   "outputs": [],
   "source": [
    "ra_groups = df.groupby('RA-Name').agg({\n",
    "    'Name': 'count',\n",
    "    'plaintiff_name': lambda x: list(x),\n",
    "    'IncorpDate': lambda x: list(x),\n",
    "    'Zip': lambda x: list(x),\n",
    "    'filed_date': lambda x: list(x),\n",
    "    'serial_filing': lambda x: list(x)\n",
    "}).rename(columns={'Name': 'LLC_Count'}).reset_index()\n",
    "ra_groups = ra_groups.loc[ra_groups['LLC_Count'] > 1]"
   ]
  },
  {
   "cell_type": "code",
   "execution_count": 54,
   "id": "a8304168",
   "metadata": {},
   "outputs": [],
   "source": [
    "address_groups = df.groupby('Street1').agg({\n",
    "    'Name': 'count',\n",
    "    'plaintiff_name': lambda x: list(x),\n",
    "    'IncorpDate': lambda x: list(x),\n",
    "    'Zip': lambda x: list(x),\n",
    "    'filed_date': lambda x: list(x),\n",
    "    'serial_filing': lambda x: list(x)\n",
    "}).rename(columns={'Name': 'LLC_Count'}).reset_index()\n",
    "address_groups = address_groups.loc[address_groups['LLC_Count'] > 1]"
   ]
  },
  {
   "cell_type": "code",
   "execution_count": 55,
   "id": "1748c13e",
   "metadata": {},
   "outputs": [],
   "source": [
    "df['Composite_Key'] = df['RA-Name'] + '|' + df['Street1']\n",
    "composite_groups = df.groupby('Composite_Key').agg({\n",
    "    'Name': 'count',\n",
    "    'plaintiff_name': lambda x: list(x),\n",
    "    'IncorpDate': lambda x: list(x),\n",
    "    'Zip': lambda x: list(x),\n",
    "    'filed_date': lambda x: list(x),\n",
    "    'serial_filing': lambda x: list(x)\n",
    "}).rename(columns={'Name': 'LLC_Count'}).reset_index()\n",
    "composite_groups = composite_groups.loc[composite_groups['LLC_Count'] > 1]"
   ]
  },
  {
   "cell_type": "code",
   "execution_count": 56,
   "id": "51ec7ab2",
   "metadata": {},
   "outputs": [
    {
     "name": "stdout",
     "output_type": "stream",
     "text": [
      "Top groups by Registered Agent:\n",
      "                  RA-Name  LLC_Count  \\\n",
      "0                3337 LLC         11   \n",
      "1     7820 Whitepine  LLC         56   \n",
      "3           A   REISINGER         10   \n",
      "4            A J   KALFUS         23   \n",
      "5       A KEVIN   CARBONE          9   \n",
      "7   A PATRICIA   MERRYMAN       2849   \n",
      "11       AARON   CEVALLOS          2   \n",
      "13         AARON   TRUMAN         21   \n",
      "15         AARON B   COOK          3   \n",
      "16    AARON CALEB   RIFFE         14   \n",
      "\n",
      "                                       plaintiff_name  \\\n",
      "0   [VARADO LLC, VARADO LLC, VARADO LLC, VARADO LL...   \n",
      "1   [NEWPORT TECH CENTER LLC, NEWPORT TECH CENTER ...   \n",
      "3   [RIDGECREST PROPERTIES LLC, RIDGECREST PROPERT...   \n",
      "4   [BRANT POINT PROPERTIES LLC, BRANT POINT PROPE...   \n",
      "5   [CREDIT CORP SOLUTIONS INC, CREDIT CORP SOLUTI...   \n",
      "7   [109 PERRY FEE LLC, 109 PERRY FEE LLC, 109 PER...   \n",
      "11             [HERITAGE HOSP LLC, HERITAGE HOSP LLC]   \n",
      "13  [CHANTILLY MEWS LTD DIVIDEND HOUSING, CHANTILL...   \n",
      "15           [AB COOK LLC, AB COOK LLC, AB COOK, LLC]   \n",
      "16  [RIFFE RENTAL PROPERTIES LLC, RIFFE RENTAL PRO...   \n",
      "\n",
      "                                           IncorpDate  \\\n",
      "0   [2018-06-15, 2018-06-15, 2018-06-15, 2018-06-1...   \n",
      "1   [2021-08-23, 2021-08-23, 2021-08-23, 2021-08-2...   \n",
      "3   [2003-01-08, 2003-01-08, 2003-01-08, 2003-01-0...   \n",
      "4   [1999-05-04, 1999-05-04, 1999-05-04, 1999-05-0...   \n",
      "5   [2015-03-30, 2015-03-30, 2015-03-30, 2015-03-3...   \n",
      "7   [2004-06-08, 2004-06-08, 2004-06-08, 2004-06-0...   \n",
      "11                           [2014-11-06, 2014-11-06]   \n",
      "13  [2014-07-10, 2014-07-10, 2014-07-10, 2014-07-1...   \n",
      "15               [2012-08-23, 2012-08-23, 2012-08-23]   \n",
      "16  [2006-09-28, 2006-09-28, 2006-09-28, 2006-09-2...   \n",
      "\n",
      "                                                  Zip  \\\n",
      "0   [22407-0000, 22407-0000, 22407-0000, 22407-000...   \n",
      "1   [20817, 20817, 20817, 20817, 20817, 20817, 208...   \n",
      "3   [23060-0000, 23060-0000, 23060-0000, 23060-000...   \n",
      "4   [23451-0000, 23451-0000, 23451-0000, 23451-000...   \n",
      "5   [20135-0000, 20135-0000, 20135-0000, 20135-000...   \n",
      "7   [24504-0000, 24504-0000, 24504-0000, 24504-000...   \n",
      "11                           [22580-0000, 22580-0000]   \n",
      "13  [23832-0000, 23832-0000, 23832-0000, 23832-000...   \n",
      "15               [24153-1804, 24153-1804, 24153-1804]   \n",
      "16  [24219-0000, 24219-0000, 24219-0000, 24219-000...   \n",
      "\n",
      "                                           filed_date  \\\n",
      "0   [2020-01-21, 2020-07-06, 2019-02-15, 2019-04-1...   \n",
      "1   [2022-08-05, 2023-06-02, 2022-12-05, 2022-12-0...   \n",
      "3   [2019-06-14, 2019-07-16, 2022-12-02, 2018-06-2...   \n",
      "4   [2018-02-01, 2018-05-25, 2018-05-14, 2018-04-1...   \n",
      "5   [2023-08-10, 2023-01-27, 2023-03-09, 2023-03-0...   \n",
      "7   [2023-01-05, 2023-01-05, 2023-01-05, 2023-01-0...   \n",
      "11                           [2022-11-18, 2022-11-18]   \n",
      "13  [2021-11-15, 2021-11-15, 2020-10-16, 2022-11-1...   \n",
      "15               [2018-06-06, 2020-01-14, 2023-01-13]   \n",
      "16  [2018-04-20, 2018-01-24, 2021-07-07, 2023-03-0...   \n",
      "\n",
      "                                        serial_filing  \n",
      "0   [False, False, False, True, False, False, Fals...  \n",
      "1   [False, False, False, False, False, True, True...  \n",
      "3   [False, True, False, False, False, True, False...  \n",
      "4   [False, False, False, False, False, False, Fal...  \n",
      "5   [False, False, False, False, False, False, Fal...  \n",
      "7   [False, False, False, False, False, False, Fal...  \n",
      "11                                     [False, False]  \n",
      "13  [False, False, True, True, False, False, False...  \n",
      "15                                [True, True, False]  \n",
      "16  [False, False, False, False, False, False, Fal...  \n"
     ]
    }
   ],
   "source": [
    "print(\"Top groups by Registered Agent:\")\n",
    "print(ra_groups.head(10))"
   ]
  },
  {
   "cell_type": "code",
   "execution_count": 57,
   "id": "e196e3a7",
   "metadata": {},
   "outputs": [
    {
     "name": "stdout",
     "output_type": "stream",
     "text": [
      "Top groups by Street1:\n",
      "                  Street1  LLC_Count  \\\n",
      "0           1 AEC PARKWAY        132   \n",
      "1              1 AEC PKWY        235   \n",
      "2   1 American Ln Ste 220          4   \n",
      "4    1 Boar's Head Pointe          9   \n",
      "5       1 CENTRE PORT CIR          3   \n",
      "6            1 COLLINS DR       1521   \n",
      "7         1 COLLINS DRIVE        482   \n",
      "8            1 Courage Ln          7   \n",
      "9         1 ELMCROFT ROAD        362   \n",
      "10             1 Engle St         10   \n",
      "\n",
      "                                       plaintiff_name  \\\n",
      "0   [AERC RIVERSIDE STATION LLC, AERC RIVERSIDE ST...   \n",
      "1   [AERC VIENNA METRO LLC, AERC VIENNA METRO LLC,...   \n",
      "2   [CAVALRY SPV LLC, CAVALRY SPV LLC, CAVALRY SPV...   \n",
      "4   [IVY GARDENS OF CHARLOTTESVILLE LLC, OLD IVY O...   \n",
      "5   [M D BIVINS CONSTRUCTION LLC, M D BIVINS CONST...   \n",
      "6   [1902 ATLANTIC LIMITED, BASYE LAND CO, BENTLEY...   \n",
      "7   [801 CHASE CARIBE PLAC LLC, CHEVY CHASE FUNDIN...   \n",
      "8   [DELASHMUTT VIRGINIA PROPERTIES, LLC, DELASHMU...   \n",
      "9   [BLT ACP AVENTINE LLC, BLT ACP AVENTINE LLC, B...   \n",
      "10  [HILL MHP, LLC, HILL MHP, LLC, HILL MHP, LLC, ...   \n",
      "\n",
      "                                           IncorpDate  \\\n",
      "0   [2010-05-11, 2010-05-11, 2010-05-11, 2010-05-1...   \n",
      "1   [2011-08-03, 2011-08-03, 2011-08-03, 2011-08-0...   \n",
      "2    [2011-02-07, 2011-02-07, 2011-02-07, 2011-02-07]   \n",
      "4   [2016-07-12, 2016-07-12, 2016-07-12, 2016-07-1...   \n",
      "5                [2018-01-30, 2018-01-30, 2018-01-30]   \n",
      "6   [2005-08-03, 2005-08-03, 2005-08-03, 2005-08-0...   \n",
      "7   [2002-02-27, 2002-02-27, 2002-02-27, 2002-02-2...   \n",
      "8   [2022-05-18, 2022-05-18, 2022-05-18, 2022-05-1...   \n",
      "9   [2014-02-25, 2014-02-25, 2014-02-25, 2014-02-2...   \n",
      "10  [2021-09-08, 2021-09-08, 2021-09-08, 2021-09-0...   \n",
      "\n",
      "                                                  Zip  \\\n",
      "0   [44143-0000, 44143-0000, 44143-0000, 44143-000...   \n",
      "1   [44143-0000, 44143-0000, 44143-0000, 44143-000...   \n",
      "2    [06831-1340, 06831-1340, 06831-1340, 06831-1340]   \n",
      "4   [22904-4218, 22904-4218, 22904-4218, 22904-421...   \n",
      "5                [23703-0000, 23703-0000, 23703-0000]   \n",
      "6   [22408-0000, 22408-0000, 22408-0000, 22408-000...   \n",
      "7   [22408-0000, 22408-0000, 22408-0000, 22408-000...   \n",
      "8   [22554-4843, 22554-4843, 22554-4843, 22554-484...   \n",
      "9   [06902, 06902, 06902, 06902, 06902, 06902, 069...   \n",
      "10  [07631, 07631, 07631, 07631, 07631, 07631, 076...   \n",
      "\n",
      "                                           filed_date  \\\n",
      "0   [2019-01-24, 2019-02-26, 2019-06-06, 2019-09-0...   \n",
      "1   [2020-03-12, 2020-02-21, 2019-09-19, 2019-12-1...   \n",
      "2    [2022-08-30, 2019-12-02, 2018-08-23, 2021-11-17]   \n",
      "4   [2023-06-16, 2023-02-15, 2018-06-25, 2022-08-1...   \n",
      "5                [2021-03-25, 2021-03-25, 2021-03-25]   \n",
      "6   [2018-07-02, 2019-05-07, 2020-01-29, 2023-06-2...   \n",
      "7   [2018-09-26, 2020-01-16, 2020-01-10, 2018-09-2...   \n",
      "8   [2022-09-08, 2022-09-08, 2022-09-08, 2022-09-0...   \n",
      "9   [2023-01-09, 2022-09-02, 2019-08-16, 2022-09-2...   \n",
      "10  [2023-06-28, 2023-06-28, 2023-06-28, 2023-06-2...   \n",
      "\n",
      "                                        serial_filing  \n",
      "0   [False, True, True, False, False, False, False...  \n",
      "1   [False, False, False, False, False, True, Fals...  \n",
      "2                        [False, False, False, False]  \n",
      "4   [False, False, False, False, True, False, Fals...  \n",
      "5                               [False, False, False]  \n",
      "6   [False, False, False, False, False, False, Fal...  \n",
      "7   [False, False, False, False, False, False, Fal...  \n",
      "8   [False, False, False, False, False, False, False]  \n",
      "9   [False, False, False, False, True, True, False...  \n",
      "10  [False, False, False, False, False, False, Fal...  \n"
     ]
    }
   ],
   "source": [
    "print(\"Top groups by Street1:\")\n",
    "print(address_groups.head(10))"
   ]
  },
  {
   "cell_type": "code",
   "execution_count": 58,
   "id": "04be1f7c",
   "metadata": {},
   "outputs": [
    {
     "name": "stdout",
     "output_type": "stream",
     "text": [
      "Top groups by Composite Key:\n",
      "                                Composite_Key  LLC_Count  \\\n",
      "0                    3337 LLC|1003 Bragg Road         11   \n",
      "1        7820 Whitepine  LLC|6501 GOLDLEAF DR         56   \n",
      "3           A   REISINGER|4600 COX RD STE 320         10   \n",
      "4                  A J   KALFUS|1337 BRANT RD         23   \n",
      "5      A KEVIN   CARBONE|17534 RAVEN ROCKS RD          9   \n",
      "7   A PATRICIA   MERRYMAN|800 MAIN ST STE 400       2849   \n",
      "11      AARON   CEVALLOS|10124 Overlook Court          2   \n",
      "13         AARON   TRUMAN|7707 Drexelbrook Rd         21   \n",
      "15                 AARON B   COOK|1856 Oak Dr          3   \n",
      "16   AARON CALEB   RIFFE|278 BISHOP HOLLOW DR         14   \n",
      "\n",
      "                                       plaintiff_name  \\\n",
      "0   [VARADO LLC, VARADO LLC, VARADO LLC, VARADO LL...   \n",
      "1   [NEWPORT TECH CENTER LLC, NEWPORT TECH CENTER ...   \n",
      "3   [RIDGECREST PROPERTIES LLC, RIDGECREST PROPERT...   \n",
      "4   [BRANT POINT PROPERTIES LLC, BRANT POINT PROPE...   \n",
      "5   [CREDIT CORP SOLUTIONS INC, CREDIT CORP SOLUTI...   \n",
      "7   [109 PERRY FEE LLC, 109 PERRY FEE LLC, 109 PER...   \n",
      "11             [HERITAGE HOSP LLC, HERITAGE HOSP LLC]   \n",
      "13  [CHANTILLY MEWS LTD DIVIDEND HOUSING, CHANTILL...   \n",
      "15           [AB COOK LLC, AB COOK LLC, AB COOK, LLC]   \n",
      "16  [RIFFE RENTAL PROPERTIES LLC, RIFFE RENTAL PRO...   \n",
      "\n",
      "                                           IncorpDate  \\\n",
      "0   [2018-06-15, 2018-06-15, 2018-06-15, 2018-06-1...   \n",
      "1   [2021-08-23, 2021-08-23, 2021-08-23, 2021-08-2...   \n",
      "3   [2003-01-08, 2003-01-08, 2003-01-08, 2003-01-0...   \n",
      "4   [1999-05-04, 1999-05-04, 1999-05-04, 1999-05-0...   \n",
      "5   [2015-03-30, 2015-03-30, 2015-03-30, 2015-03-3...   \n",
      "7   [2004-06-08, 2004-06-08, 2004-06-08, 2004-06-0...   \n",
      "11                           [2014-11-06, 2014-11-06]   \n",
      "13  [2014-07-10, 2014-07-10, 2014-07-10, 2014-07-1...   \n",
      "15               [2012-08-23, 2012-08-23, 2012-08-23]   \n",
      "16  [2006-09-28, 2006-09-28, 2006-09-28, 2006-09-2...   \n",
      "\n",
      "                                                  Zip  \\\n",
      "0   [22407-0000, 22407-0000, 22407-0000, 22407-000...   \n",
      "1   [20817, 20817, 20817, 20817, 20817, 20817, 208...   \n",
      "3   [23060-0000, 23060-0000, 23060-0000, 23060-000...   \n",
      "4   [23451-0000, 23451-0000, 23451-0000, 23451-000...   \n",
      "5   [20135-0000, 20135-0000, 20135-0000, 20135-000...   \n",
      "7   [24504-0000, 24504-0000, 24504-0000, 24504-000...   \n",
      "11                           [22580-0000, 22580-0000]   \n",
      "13  [23832-0000, 23832-0000, 23832-0000, 23832-000...   \n",
      "15               [24153-1804, 24153-1804, 24153-1804]   \n",
      "16  [24219-0000, 24219-0000, 24219-0000, 24219-000...   \n",
      "\n",
      "                                           filed_date  \\\n",
      "0   [2020-01-21, 2020-07-06, 2019-02-15, 2019-04-1...   \n",
      "1   [2022-08-05, 2023-06-02, 2022-12-05, 2022-12-0...   \n",
      "3   [2019-06-14, 2019-07-16, 2022-12-02, 2018-06-2...   \n",
      "4   [2018-02-01, 2018-05-25, 2018-05-14, 2018-04-1...   \n",
      "5   [2023-08-10, 2023-01-27, 2023-03-09, 2023-03-0...   \n",
      "7   [2023-01-05, 2023-01-05, 2023-01-05, 2023-01-0...   \n",
      "11                           [2022-11-18, 2022-11-18]   \n",
      "13  [2021-11-15, 2021-11-15, 2020-10-16, 2022-11-1...   \n",
      "15               [2018-06-06, 2020-01-14, 2023-01-13]   \n",
      "16  [2018-04-20, 2018-01-24, 2021-07-07, 2023-03-0...   \n",
      "\n",
      "                                        serial_filing  \n",
      "0   [False, False, False, True, False, False, Fals...  \n",
      "1   [False, False, False, False, False, True, True...  \n",
      "3   [False, True, False, False, False, True, False...  \n",
      "4   [False, False, False, False, False, False, Fal...  \n",
      "5   [False, False, False, False, False, False, Fal...  \n",
      "7   [False, False, False, False, False, False, Fal...  \n",
      "11                                     [False, False]  \n",
      "13  [False, False, True, True, False, False, False...  \n",
      "15                                [True, True, False]  \n",
      "16  [False, False, False, False, False, False, Fal...  \n"
     ]
    }
   ],
   "source": [
    "print(\"Top groups by Composite Key:\")\n",
    "print(composite_groups.head(10))"
   ]
  },
  {
   "cell_type": "code",
   "execution_count": 59,
   "id": "452a2c46",
   "metadata": {},
   "outputs": [
    {
     "data": {
      "image/png": "[encoded data removed]",
      "text/plain": [
       "<Figure size 1200x600 with 1 Axes>"
      ]
     },
     "metadata": {},
     "output_type": "display_data"
    }
   ],
   "source": [
    "from matplotlib.ticker import MaxNLocator\n",
    "\n",
    "plt.figure(figsize=(12, 6))\n",
    "sns.histplot(ra_groups['LLC_Count'], bins=50, label='RA-Name', alpha=0.5)\n",
    "sns.histplot(address_groups['LLC_Count'], bins=50, label='Street1', alpha=0.5)\n",
    "sns.histplot(composite_groups['LLC_Count'], bins=50, label='Composite Key', alpha=0.5)\n",
    "\n",
    "plt.xlabel('Number of LLCs in Group')\n",
    "plt.ylabel('Frequency')\n",
    "plt.title('Distribution of Group Sizes')\n",
    "plt.legend()\n",
    "\n",
    "plt.xlim(0, 4000) \n",
    "plt.gca().xaxis.set_major_locator(MaxNLocator(integer=True, prune='lower', nbins=5))  # Limit to max 5 ticks\n",
    "\n",
    "plt.savefig('../OUTPUT/group_size_distribution.png')\n",
    "plt.show()\n",
    "plt.close()"
   ]
  },
  {
   "cell_type": "code",
   "execution_count": 60,
   "id": "887570cd",
   "metadata": {},
   "outputs": [
    {
     "name": "stdout",
     "output_type": "stream",
     "text": [
      "Top 5 RA-Name Groups:\n",
      "                          RA-Name  LLC_Count\n",
      "1247  CORPORATION SERVICE COMPANY      38404\n",
      "901        C T CORPORATION SYSTEM      26385\n",
      "312               ARVIND B   AMIN      12839\n",
      "2795               HORACE   JONES      11586\n",
      "2883                  ICAFS  INC.      10694\n",
      "\n",
      "Top 5 Street1 Groups:\n",
      "                         Street1  LLC_Count\n",
      "3663         208 GOLDEN MAPLE DR      12839\n",
      "2548        1555 KING ST STE 200      11586\n",
      "8039  6031 Connection Dr Ste 200       8786\n",
      "8966         7704-C RICHMOND HWY       7786\n",
      "4966          2922 Hathaway Road       5077\n",
      "\n",
      "Top 5 Composite Key Groups:\n",
      "                                       Composite_Key  LLC_Count\n",
      "363              ARVIND B   AMIN|208 GOLDEN MAPLE DR      12839\n",
      "3992             HORACE   JONES|1555 KING ST STE 200      11586\n",
      "9380             THAO NHU   DINH|7704-C RICHMOND HWY       7786\n",
      "4113                  ICAFS  INC.|2922 Hathaway Road       5077\n",
      "1889  CORPORATION SERVICE COMPANY|160 CLUBHOUSE ROAD       4042\n"
     ]
    }
   ],
   "source": [
    "print(\"Top 5 RA-Name Groups:\")\n",
    "print(ra_groups[['RA-Name', 'LLC_Count']].sort_values(by='LLC_Count', ascending=False).head(5))\n",
    "print(\"\\nTop 5 Street1 Groups:\")\n",
    "print(address_groups[['Street1', 'LLC_Count']].sort_values(by='LLC_Count', ascending=False).head(5))\n",
    "print(\"\\nTop 5 Composite Key Groups:\")\n",
    "print(composite_groups[['Composite_Key', 'LLC_Count']].sort_values(by='LLC_Count', ascending=False).head(5))"
   ]
  },
  {
   "cell_type": "code",
   "execution_count": 61,
   "id": "e3ee81cc",
   "metadata": {},
   "outputs": [],
   "source": [
    "# ra_entities = df.merge(ra_groups[['RA-Name']], on='RA-Name', how='inner')[['Name', 'RA-Name', 'plaintiff_name']]\n",
    "# address_entities = df.merge(address_groups[['Street1']], on='Street1', how='inner')[['Name', 'Street1', 'plaintiff_name']]\n",
    "\n",
    "# overlap = pd.merge(\n",
    "#     ra_entities,\n",
    "#     address_entities,\n",
    "#     on='Name',\n",
    "#     how='inner',\n",
    "#     suffixes=('_ra', '_addr')\n",
    "# )\n",
    "# print(\"\\nNumber of overlapping LLCs (RA-Name and Street1):\", len(overlap))\n",
    "# print(\"Sample overlapping LLCs (first 5):\")\n",
    "# print(overlap[['Name', 'RA-Name', 'Street1', 'plaintiff_name_ra']].head(5))"
   ]
  },
  {
   "cell_type": "code",
   "execution_count": 62,
   "id": "3ee1fa3b",
   "metadata": {},
   "outputs": [],
   "source": [
    "def analyze_llc_networks(df):\n",
    "    \"\"\"\n",
    "    Identify and analyze networks of LLCs with shared RAs or addresses\n",
    "    \"\"\"\n",
    "    # First, let's enhance the composite groups by extracting more stats\n",
    "    composite_groups = df.groupby('Composite_Key').agg({\n",
    "        'Name': 'count',\n",
    "        'plaintiff_name': list,\n",
    "        'IncorpDate': list,\n",
    "        'Zip': list,\n",
    "        'filed_date': list,\n",
    "        'serial_filing': list\n",
    "    }).rename(columns={'Name': 'LLC_Count'}).reset_index()\n",
    "    \n",
    "    composite_groups = composite_groups.loc[composite_groups['LLC_Count'] > 1]\n",
    "    \n",
    "    # Calculate the timespan between earliest and latest incorporation dates\n",
    "    composite_groups['IncorpDate_Parsed'] = composite_groups['IncorpDate'].apply(\n",
    "        lambda dates: [pd.to_datetime(d) for d in dates if pd.notna(d)]\n",
    "    )\n",
    "    \n",
    "    composite_groups['Timespan_Days'] = composite_groups['IncorpDate_Parsed'].apply(\n",
    "        lambda dates: (max(dates) - min(dates)).days if len(dates) > 1 else 0\n",
    "    )\n",
    "    \n",
    "    # Calculate the timespan between earliest and latest filing dates\n",
    "    composite_groups['FilingDate_Parsed'] = composite_groups['filed_date'].apply(\n",
    "        lambda dates: [pd.to_datetime(d) for d in dates if pd.notna(d)]\n",
    "    )\n",
    "    \n",
    "    composite_groups['Filing_Timespan_Days'] = composite_groups['FilingDate_Parsed'].apply(\n",
    "        lambda dates: (max(dates) - min(dates)).days if len(dates) > 1 else 0\n",
    "    )\n",
    "    \n",
    "    # Calculate how many of the LLCs are serial filers\n",
    "    composite_groups['Serial_Filer_Count'] = composite_groups['serial_filing'].apply(\n",
    "        lambda x: sum([1 for filing in x if filing == True])\n",
    "    )\n",
    "    \n",
    "    composite_groups['Serial_Filer_Pct'] = composite_groups['Serial_Filer_Count'] / composite_groups['LLC_Count']\n",
    "    \n",
    "    # Sort by number of connected LLCs\n",
    "    large_networks = composite_groups.sort_values('LLC_Count', ascending=False).head(20)\n",
    "    \n",
    "    return composite_groups, large_networks"
   ]
  },
  {
   "cell_type": "code",
   "execution_count": 63,
   "id": "66b49624",
   "metadata": {},
   "outputs": [],
   "source": [
    "composite_groups, large_networks = analyze_llc_networks(df)"
   ]
  },
  {
   "cell_type": "markdown",
   "id": "e1cc9fd1",
   "metadata": {},
   "source": [
    "Some quick statistics"
   ]
  },
  {
   "cell_type": "code",
   "execution_count": 64,
   "id": "22cb5a4e",
   "metadata": {},
   "outputs": [
    {
     "name": "stdout",
     "output_type": "stream",
     "text": [
      "=== RA Group Statistics ===\n",
      "Number of RAs with multiple LLCs: 5058\n",
      "Largest RA network has 38404 LLCs\n",
      "Average LLCs per RA: 117.94\n",
      "Median LLCs per RA: 6.00\n",
      "Total LLCs in RA networks: 596525\n",
      "\n",
      "=== Address Group Statistics ===\n",
      "Number of addresses with multiple LLCs: 6627\n",
      "Largest address network has 12839 LLCs\n",
      "Average LLCs per address: 94.56\n",
      "Median LLCs per address: 7.00\n",
      "Total LLCs in address networks: 626637\n",
      "\n",
      "=== Composite Key Group Statistics ===\n",
      "Number of RA-Address combinations with multiple LLCs: 6756\n",
      "Largest composite network has 12839 LLCs\n",
      "Average LLCs per composite key: 88.16\n",
      "Median LLCs per composite key: 7.00\n",
      "Total LLCs in composite networks: 595614\n"
     ]
    }
   ],
   "source": [
    "print(\"=== RA Group Statistics ===\")\n",
    "print(f\"Number of RAs with multiple LLCs: {len(ra_groups)}\")\n",
    "print(f\"Largest RA network has {ra_groups['LLC_Count'].max()} LLCs\")\n",
    "print(f\"Average LLCs per RA: {ra_groups['LLC_Count'].mean():.2f}\")\n",
    "print(f\"Median LLCs per RA: {ra_groups['LLC_Count'].median():.2f}\")\n",
    "print(f\"Total LLCs in RA networks: {ra_groups['LLC_Count'].sum()}\")\n",
    "\n",
    "print(\"\\n=== Address Group Statistics ===\")\n",
    "print(f\"Number of addresses with multiple LLCs: {len(address_groups)}\")\n",
    "print(f\"Largest address network has {address_groups['LLC_Count'].max()} LLCs\")\n",
    "print(f\"Average LLCs per address: {address_groups['LLC_Count'].mean():.2f}\")\n",
    "print(f\"Median LLCs per address: {address_groups['LLC_Count'].median():.2f}\")\n",
    "print(f\"Total LLCs in address networks: {address_groups['LLC_Count'].sum()}\")\n",
    "\n",
    "print(\"\\n=== Composite Key Group Statistics ===\")\n",
    "print(f\"Number of RA-Address combinations with multiple LLCs: {len(composite_groups)}\")\n",
    "print(f\"Largest composite network has {composite_groups['LLC_Count'].max()} LLCs\")\n",
    "print(f\"Average LLCs per composite key: {composite_groups['LLC_Count'].mean():.2f}\")\n",
    "print(f\"Median LLCs per composite key: {composite_groups['LLC_Count'].median():.2f}\")\n",
    "print(f\"Total LLCs in composite networks: {composite_groups['LLC_Count'].sum()}\")\n"
   ]
  },
  {
   "cell_type": "code",
   "execution_count": 65,
   "id": "d617ac95",
   "metadata": {},
   "outputs": [
    {
     "data": {
      "image/png": "[encoded data removed]",
      "text/plain": [
       "<Figure size 1500x500 with 3 Axes>"
      ]
     },
     "metadata": {},
     "output_type": "display_data"
    }
   ],
   "source": [
    "ra_xlim = ra_groups['LLC_Count'].quantile(0.99)\n",
    "address_xlim = address_groups['LLC_Count'].quantile(0.99)\n",
    "composite_xlim = composite_groups['LLC_Count'].quantile(0.99)\n",
    "\n",
    "plt.figure(figsize=(15, 5))\n",
    "\n",
    "plt.subplot(1, 3, 1)\n",
    "sns.histplot(ra_groups['LLC_Count'], kde=True)\n",
    "plt.title('LLCs per Registered Agent')\n",
    "plt.xlabel('Number of LLCs')\n",
    "plt.ylabel('Frequency')\n",
    "plt.xlim(0, ra_xlim)\n",
    "\n",
    "plt.subplot(1, 3, 2)\n",
    "sns.histplot(address_groups['LLC_Count'], kde=True)\n",
    "plt.title('LLCs per Address')\n",
    "plt.xlabel('Number of LLCs')\n",
    "plt.ylabel('Frequency')\n",
    "plt.xlim(0, address_xlim)\n",
    "\n",
    "plt.subplot(1, 3, 3)\n",
    "sns.histplot(composite_groups['LLC_Count'], kde=True)\n",
    "plt.title('LLCs per RA-Address Combo')\n",
    "plt.xlabel('Number of LLCs')\n",
    "plt.ylabel('Frequency')\n",
    "plt.xlim(0, composite_xlim)\n",
    "\n",
    "plt.tight_layout()\n",
    "plt.savefig('../OUTPUT/network_size_distributions.png')\n",
    "plt.show()\n",
    "plt.close()\n"
   ]
  },
  {
   "cell_type": "code",
   "execution_count": 66,
   "id": "d0946ff9",
   "metadata": {},
   "outputs": [
    {
     "name": "stdout",
     "output_type": "stream",
     "text": [
      "\n",
      "=== Top 5 Registered Agents by LLC Count ===\n",
      "RA: CORPORATION SERVICE COMPANY, LLC Count: 38404\n",
      "  LLC Names: 1001 EAST MAIN EQUITIES LLC, 10035 SLIDING HILL ROAD LLC, 1011 HULL STREET LP...\n",
      "RA: C T CORPORATION SYSTEM, LLC Count: 26385\n",
      "  LLC Names: 1002 10056 WOODSTOCK LN PROPERTY LLC, 11084 MARSH ROAD LLC, 12751 FAIR LAKES CIRCLE OWNER LLC...\n",
      "RA: ARVIND B   AMIN, LLC Count: 12839\n",
      "  LLC Names: 319 WINSTON ASSOCIATES LLC SUCC IN INT TO, 319 WINSTON ASSOCIATES LLC SUCC IN INT TO, 319 WINSTON ASSOCIATES LLC SUCC IN INT TO...\n",
      "RA: HORACE   JONES, LLC Count: 11586\n",
      "  LLC Names: 1 SQ APTS LP, 1 SQ APTS LP, 1 SQ APTS LP...\n",
      "RA: ICAFS  INC., LLC Count: 10694\n",
      "  LLC Names: 1903 WHITCOMB LLC BY REDEFINE PROPERTY, 1903 WHITCOMB LLC BY REDEFINE PROPERTY, 403 STOCKTON STREET LLC CO PMC PROPERTY...\n",
      "\n",
      "=== Top 5 Addresses by LLC Count ===\n",
      "Address: 208 GOLDEN MAPLE DR, LLC Count: 12839\n",
      "  LLC Names: 319 WINSTON ASSOCIATES LLC SUCC IN INT TO, 319 WINSTON ASSOCIATES LLC SUCC IN INT TO, 319 WINSTON ASSOCIATES LLC SUCC IN INT TO...\n",
      "Address: 1555 KING ST STE 200, LLC Count: 11586\n",
      "  LLC Names: 1 SQ APTS LP, 1 SQ APTS LP, 1 SQ APTS LP...\n",
      "Address: 6031 Connection Dr Ste 200, LLC Count: 8786\n",
      "  LLC Names: RFI SEVEN GABLES LLC, RFI SEVEN GABLES LLC, RFI SEVEN GABLES LLC...\n",
      "Address: 7704-C RICHMOND HWY, LLC Count: 7786\n",
      "  LLC Names: ARUNDINA LLC, COG AND JOB HOLDINGS LLC, JK PROPERTY HOLDINGS LP...\n",
      "Address: 2922 Hathaway Road, LLC Count: 5077\n",
      "  LLC Names: CHVA LLC, CHVA LLC, CHVA LLC...\n",
      "\n",
      "=== Top 5 RA-Address Combinations by LLC Count ===\n",
      "RA: ARVIND B   AMIN, Address: 208 GOLDEN MAPLE DR, LLC Count: 12839\n",
      "  LLC Names: 319 WINSTON ASSOCIATES LLC SUCC IN INT TO, 319 WINSTON ASSOCIATES LLC SUCC IN INT TO, 319 WINSTON ASSOCIATES LLC SUCC IN INT TO...\n",
      "RA: HORACE   JONES, Address: 1555 KING ST STE 200, LLC Count: 11586\n",
      "  LLC Names: 1 SQ APTS LP, 1 SQ APTS LP, 1 SQ APTS LP...\n",
      "RA: THAO NHU   DINH, Address: 7704-C RICHMOND HWY, LLC Count: 7786\n",
      "  LLC Names: ARUNDINA LLC, COG AND JOB HOLDINGS LLC, JK PROPERTY HOLDINGS LP...\n",
      "RA: ICAFS  INC., Address: 2922 Hathaway Road, LLC Count: 5077\n",
      "  LLC Names: CHVA LLC, CHVA LLC, CHVA LLC...\n",
      "RA: CORPORATION SERVICE COMPANY, Address: 160 CLUBHOUSE ROAD, LLC Count: 4042\n",
      "  LLC Names: BENNINGTON CROSSINGS APTS OWNER LLC, BENNINGTON CROSSINGS APTS OWNER LLC, BENNINGTON CROSSINGS APTS OWNER LLC...\n"
     ]
    }
   ],
   "source": [
    "top_ras = ra_groups.sort_values('LLC_Count', ascending=False).head(5)\n",
    "print(\"\\n=== Top 5 Registered Agents by LLC Count ===\")\n",
    "for idx, row in top_ras.iterrows():\n",
    "    print(f\"RA: {row['RA-Name']}, LLC Count: {row['LLC_Count']}\")\n",
    "    print(f\"  LLC Names: {', '.join(row['plaintiff_name'][:3])}...\")\n",
    "    \n",
    "top_addresses = address_groups.sort_values('LLC_Count', ascending=False).head(5)\n",
    "print(\"\\n=== Top 5 Addresses by LLC Count ===\")\n",
    "for idx, row in top_addresses.iterrows():\n",
    "    print(f\"Address: {row['Street1']}, LLC Count: {row['LLC_Count']}\")\n",
    "    print(f\"  LLC Names: {', '.join(row['plaintiff_name'][:3])}...\")\n",
    "\n",
    "top_composites = composite_groups.sort_values('LLC_Count', ascending=False).head(5)\n",
    "print(\"\\n=== Top 5 RA-Address Combinations by LLC Count ===\")\n",
    "for idx, row in top_composites.iterrows():\n",
    "    ra, addr = row['Composite_Key'].split('|')\n",
    "    print(f\"RA: {ra}, Address: {addr}, LLC Count: {row['LLC_Count']}\")\n",
    "    print(f\"  LLC Names: {', '.join(row['plaintiff_name'][:3])}...\")"
   ]
  },
  {
   "cell_type": "code",
   "execution_count": 67,
   "id": "030b4d0c",
   "metadata": {},
   "outputs": [
    {
     "name": "stdout",
     "output_type": "stream",
     "text": [
      "=== LLC Network Size Statistics ===\n",
      "Total networks identified: 6756\n",
      "Average LLCs per network: 88.16\n",
      "Median LLCs per network: 7.0\n",
      "Largest network size: 12839.0\n"
     ]
    },
    {
     "data": {
      "image/png": "[encoded data removed]",
      "text/plain": [
       "<Figure size 800x500 with 1 Axes>"
      ]
     },
     "metadata": {},
     "output_type": "display_data"
    }
   ],
   "source": [
    "network_size_stats = composite_groups['LLC_Count'].describe()\n",
    "print(\"=== LLC Network Size Statistics ===\")\n",
    "print(f\"Total networks identified: {len(composite_groups)}\")\n",
    "print(f\"Average LLCs per network: {network_size_stats['mean']:.2f}\")\n",
    "print(f\"Median LLCs per network: {network_size_stats['50%']:.1f}\")\n",
    "print(f\"Largest network size: {network_size_stats['max']}\")\n",
    "\n",
    "plt.figure(figsize=(8, 5))\n",
    "sns.histplot(composite_groups['LLC_Count'], bins=15)\n",
    "plt.title('Distribution of LLC Network Sizes')\n",
    "plt.xlabel('Number of Connected LLCs')\n",
    "plt.ylabel('Frequency')\n",
    "plt.savefig('../OUTPUT/network_sizes.png')"
   ]
  },
  {
   "cell_type": "code",
   "execution_count": 68,
   "id": "443a0ece",
   "metadata": {},
   "outputs": [
    {
     "name": "stdout",
     "output_type": "stream",
     "text": [
      "\n",
      "=== LLC Formation Timeline Analysis ===\n",
      "Average timespan of LLC formations within networks: 130.3 days\n",
      "Median formation timespan: 0.0 days\n",
      "Networks with rapid LLC formation (≤30 days): 6215 (92.0%)\n"
     ]
    },
    {
     "data": {
      "image/png": "[encoded data removed]",
      "text/plain": [
       "<Figure size 1000x600 with 1 Axes>"
      ]
     },
     "metadata": {},
     "output_type": "display_data"
    }
   ],
   "source": [
    "print(\"\\n=== LLC Formation Timeline Analysis ===\")\n",
    "formation_stats = composite_groups['Timespan_Days'].describe()\n",
    "print(f\"Average timespan of LLC formations within networks: {formation_stats['mean']:.1f} days\")\n",
    "print(f\"Median formation timespan: {formation_stats['50%']:.1f} days\")\n",
    "\n",
    "# Count networks with rapid LLC formation (within 30 days)\n",
    "rapid_formation = composite_groups[composite_groups['Timespan_Days'] <= 30]\n",
    "print(f\"Networks with rapid LLC formation (≤30 days): {len(rapid_formation)} ({len(rapid_formation)/len(composite_groups):.1%})\")\n",
    "\n",
    "plt.figure(figsize=(10, 6))\n",
    "plt.scatter(composite_groups['LLC_Count'], composite_groups['Timespan_Days'], alpha=0.6)\n",
    "plt.title('Network Size vs. LLC Formation Timespan')\n",
    "plt.xlabel('Number of LLCs in Network')\n",
    "plt.ylabel('Days Between First and Last LLC Formation')\n",
    "plt.grid(True, linestyle='--', alpha=0.7)\n",
    "plt.savefig('../OUTPUT/formation_timespan_scatter.png')"
   ]
  },
  {
   "cell_type": "code",
   "execution_count": 69,
   "id": "ea81029e",
   "metadata": {},
   "outputs": [
    {
     "name": "stdout",
     "output_type": "stream",
     "text": [
      "\n",
      "=== Serial Filing Analysis ===\n",
      "Average serial filer percentage within networks: 20.9%\n",
      "Networks with 100% serial filers: 62\n",
      "Networks with >75% serial filers: 139\n"
     ]
    },
    {
     "data": {
      "image/png": "[encoded data removed]",
      "text/plain": [
       "<Figure size 800x500 with 1 Axes>"
      ]
     },
     "metadata": {},
     "output_type": "display_data"
    }
   ],
   "source": [
    "# Analysis of serial filing within networks\n",
    "print(\"\\n=== Serial Filing Analysis ===\")\n",
    "print(f\"Average serial filer percentage within networks: {composite_groups['Serial_Filer_Pct'].mean():.1%}\")\n",
    "print(f\"Networks with 100% serial filers: {len(composite_groups[composite_groups['Serial_Filer_Pct'] == 1])}\")\n",
    "print(f\"Networks with >75% serial filers: {len(composite_groups[composite_groups['Serial_Filer_Pct'] > 0.75])}\")\n",
    "\n",
    "# Quick histogram of serial filing percentages\n",
    "plt.figure(figsize=(8, 5))\n",
    "sns.histplot(composite_groups['Serial_Filer_Pct'], bins=10)\n",
    "plt.title('Serial Filing Percentages Within LLC Networks')\n",
    "plt.xlabel('Percentage of LLCs that are Serial Filers')\n",
    "plt.ylabel('Number of Networks')\n",
    "plt.savefig('../OUTPUT/serial_filing_hist.png')"
   ]
  },
  {
   "cell_type": "code",
   "execution_count": 70,
   "id": "e2e1e280",
   "metadata": {},
   "outputs": [
    {
     "name": "stdout",
     "output_type": "stream",
     "text": [
      "\n",
      "=== Eviction Filing Timeline Analysis ===\n",
      "Average active filing period: 1073.4 days\n",
      "Median active filing period: 1021.0 days\n",
      "Longest active filing period: 2186.0 days\n",
      "Average filing density: 0.20 filings per day\n",
      "Maximum filing density: 23.00 filings per day\n"
     ]
    }
   ],
   "source": [
    "# Analyze filing timespans - how long networks are active in filings\n",
    "print(\"\\n=== Eviction Filing Timeline Analysis ===\")\n",
    "filing_stats = composite_groups['Filing_Timespan_Days'].describe()\n",
    "print(f\"Average active filing period: {filing_stats['mean']:.1f} days\")\n",
    "print(f\"Median active filing period: {filing_stats['50%']:.1f} days\")\n",
    "print(f\"Longest active filing period: {filing_stats['max']:.1f} days\")\n",
    "\n",
    "# Calculate filing density (filings per day)\n",
    "composite_groups['Filing_Density'] = composite_groups['LLC_Count'] / (composite_groups['Filing_Timespan_Days'] + 1)  # +1 to avoid division by zero\n",
    "print(f\"Average filing density: {composite_groups['Filing_Density'].mean():.2f} filings per day\")\n",
    "print(f\"Maximum filing density: {composite_groups['Filing_Density'].max():.2f} filings per day\")"
   ]
  },
  {
   "cell_type": "code",
   "execution_count": 71,
   "id": "5c6c5da1",
   "metadata": {},
   "outputs": [
    {
     "name": "stdout",
     "output_type": "stream",
     "text": [
      "\n",
      "=== Top 5 Largest LLC Networks ===\n",
      "\n",
      "Network #364: 12839 LLCs\n",
      "RA: ARVIND B   AMIN, Address: 208 GOLDEN MAPLE DR\n",
      "LLCs formed over 0 days\n",
      "Active filing period: 2179 days\n",
      "Serial filer percentage: 55.8%\n",
      "Sample LLCs: 319 WINSTON ASSOCIATES LLC SUCC IN INT TO, 319 WINSTON ASSOCIATES LLC SUCC IN INT TO, 319 WINSTON ASSOCIATES LLC SUCC IN INT TO\n",
      "\n",
      "Network #3993: 11586 LLCs\n",
      "RA: HORACE   JONES, Address: 1555 KING ST STE 200\n",
      "LLCs formed over 0 days\n",
      "Active filing period: 2179 days\n",
      "Serial filer percentage: 50.9%\n",
      "Sample LLCs: 1 SQ APTS LP, 1 SQ APTS LP, 1 SQ APTS LP\n",
      "\n",
      "Network #9381: 7786 LLCs\n",
      "RA: THAO NHU   DINH, Address: 7704-C RICHMOND HWY\n",
      "LLCs formed over 0 days\n",
      "Active filing period: 2184 days\n",
      "Serial filer percentage: 34.8%\n",
      "Sample LLCs: ARUNDINA LLC, COG AND JOB HOLDINGS LLC, JK PROPERTY HOLDINGS LP\n",
      "\n",
      "Network #4114: 5077 LLCs\n",
      "RA: ICAFS  INC., Address: 2922 Hathaway Road\n",
      "LLCs formed over 1968 days\n",
      "Active filing period: 2158 days\n",
      "Serial filer percentage: 64.4%\n",
      "Sample LLCs: CHVA LLC, CHVA LLC, CHVA LLC\n",
      "\n",
      "Network #1890: 4042 LLCs\n",
      "RA: CORPORATION SERVICE COMPANY, Address: 160 CLUBHOUSE ROAD\n",
      "LLCs formed over 1548 days\n",
      "Active filing period: 2183 days\n",
      "Serial filer percentage: 48.4%\n",
      "Sample LLCs: BENNINGTON CROSSINGS APTS OWNER LLC, BENNINGTON CROSSINGS APTS OWNER LLC, BENNINGTON CROSSINGS APTS OWNER LLC\n"
     ]
    }
   ],
   "source": [
    "# Examine the largest networks in detail\n",
    "print(\"\\n=== Top 5 Largest LLC Networks ===\")\n",
    "for idx, row in large_networks.head(5).iterrows():\n",
    "    ra, addr = row['Composite_Key'].split('|')\n",
    "    print(f\"\\nNetwork #{idx+1}: {row['LLC_Count']} LLCs\")\n",
    "    print(f\"RA: {ra}, Address: {addr}\")\n",
    "    print(f\"LLCs formed over {row['Timespan_Days']} days\")\n",
    "    print(f\"Active filing period: {row['Filing_Timespan_Days']} days\")\n",
    "    print(f\"Serial filer percentage: {row['Serial_Filer_Pct']:.1%}\")\n",
    "    print(f\"Sample LLCs: {', '.join(row['plaintiff_name'][:3])}\")"
   ]
  },
  {
   "cell_type": "code",
   "execution_count": 72,
   "id": "0f5f15be",
   "metadata": {},
   "outputs": [
    {
     "name": "stdout",
     "output_type": "stream",
     "text": [
      "\n",
      "=== Formation to Filing Timeline Analysis ===\n",
      "Average days from network formation to first filing: 2338.4\n",
      "Networks filing evictions within 30 days of formation: 967\n"
     ]
    },
    {
     "data": {
      "image/png": "[encoded data removed]",
      "text/plain": [
       "<Figure size 800x500 with 1 Axes>"
      ]
     },
     "metadata": {},
     "output_type": "display_data"
    }
   ],
   "source": [
    "# Calculate time between LLC formation and first filing\n",
    "composite_groups['Avg_Days_To_First_Filing'] = composite_groups.apply(\n",
    "    lambda row: (min(row['FilingDate_Parsed']) - min(row['IncorpDate_Parsed'])).days \n",
    "    if len(row['FilingDate_Parsed']) > 0 and len(row['IncorpDate_Parsed']) > 0 \n",
    "    else np.nan, axis=1\n",
    ")\n",
    "\n",
    "print(\"\\n=== Formation to Filing Timeline Analysis ===\")\n",
    "print(f\"Average days from network formation to first filing: {composite_groups['Avg_Days_To_First_Filing'].mean():.1f}\")\n",
    "print(f\"Networks filing evictions within 30 days of formation: {len(composite_groups[composite_groups['Avg_Days_To_First_Filing'] <= 30])}\")\n",
    "\n",
    "# Quick histogram\n",
    "plt.figure(figsize=(8, 5))\n",
    "sns.histplot(composite_groups['Avg_Days_To_First_Filing'].dropna(), bins=20)\n",
    "plt.title('Days Between First LLC Formation and First Eviction Filing')\n",
    "plt.xlabel('Days')\n",
    "plt.ylabel('Number of Networks')\n",
    "plt.axvline(x=30, color='r', linestyle='--', label='30 Days')\n",
    "plt.legend()\n",
    "plt.savefig('../OUTPUT/formation_to_filing_hist.png')"
   ]
  }
 ],
 "metadata": {
  "kernelspec": {
   "display_name": ".venv",
   "language": "python",
   "name": "python3"
  },
  "language_info": {
   "codemirror_mode": {
    "name": "ipython",
    "version": 3
   },
   "file_extension": ".py",
   "mimetype": "text/x-python",
   "name": "python",
   "nbconvert_exporter": "python",
   "pygments_lexer": "ipython3",
   "version": "3.13.3"
  }
 },
 "nbformat": 4,
 "nbformat_minor": 5
}
