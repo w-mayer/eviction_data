{
 "cells": [
  {
   "cell_type": "code",
   "execution_count": null,
   "id": "907ec5d0",
   "metadata": {},
   "outputs": [],
   "source": [
    "from boxsdk import OAuth2, Client"
   ]
  },
  {
   "cell_type": "markdown",
   "id": "aa325ee5",
   "metadata": {},
   "source": [
    "for the box API, would you rather use a developer token (log into the box app online and click a button to get an access token that lasts for 60 minutes) or should I write a script that does the authorization for you?"
   ]
  },
  {
   "cell_type": "code",
   "execution_count": null,
   "id": "f9a89c92",
   "metadata": {},
   "outputs": [],
   "source": [
    "# This is the piece that needs configuation.\n",
    "# Acces_token comes from the authorization process--you can either use the developer token mentioned above or i can write a script\n",
    "# to open the web browser to get the access token\n",
    "auth = OAuth2(\n",
    "    client_id='your_client_id',\n",
    "    client_secret='your_client_secret',\n",
    "    access_token='your_access_token'\n",
    ")\n",
    "client = Client(auth)"
   ]
  },
  {
   "cell_type": "code",
   "execution_count": null,
   "id": "7a3227f9",
   "metadata": {},
   "outputs": [],
   "source": [
    "file_id = 'file_id_for_data.txt'"
   ]
  },
  {
   "cell_type": "code",
   "execution_count": null,
   "id": "811c69fa",
   "metadata": {},
   "outputs": [],
   "source": [
    "file = client.file(file_id).get()\n",
    "with open(\"../DATA/cases_residential_only.txt\", \"wb\") as f:\n",
    "    file.download_to(f)\n",
    "    print(f\"File '{file.name}' downloaded successfully\")"
   ]
  }
 ],
 "metadata": {
  "kernelspec": {
   "display_name": ".venv",
   "language": "python",
   "name": "python3"
  },
  "language_info": {
   "codemirror_mode": {
    "name": "ipython",
    "version": 3
   },
   "file_extension": ".py",
   "mimetype": "text/x-python",
   "name": "python",
   "nbconvert_exporter": "python",
   "pygments_lexer": "ipython3",
   "version": "3.13.3"
  }
 },
 "nbformat": 4,
 "nbformat_minor": 5
}
