{
 "cells": [
  {
   "cell_type": "code",
   "execution_count": 1,
   "id": "7421dda4",
   "metadata": {},
   "outputs": [],
   "source": [
    "import numpy as np\n",
    "import pandas as pd"
   ]
  },
  {
   "cell_type": "code",
   "execution_count": 12,
   "id": "d358ae9a",
   "metadata": {},
   "outputs": [],
   "source": [
    "a = pd.read_csv('DATA/a.csv')"
   ]
  },
  {
   "cell_type": "code",
   "execution_count": 13,
   "id": "e793ef20",
   "metadata": {},
   "outputs": [
    {
     "data": {
      "text/plain": [
       "Index(['Unnamed: 0', 'EntityID', 'Name', 'Status', 'StatusReason',\n",
       "       'Status Date', 'Duration', 'IncorpDate', 'IncorpState', 'IndustryCode',\n",
       "       'Street1', 'Street2', 'City', 'State', 'Zip', 'PrinOffEffDate',\n",
       "       'RA-Name', 'RA-Street1', 'RA-Street2', 'RA-City', 'RA-State', 'RA-Zip',\n",
       "       'RA-EffDate', 'RA-Status', 'RA-Loc', 'StockInd', 'TotalShares',\n",
       "       'MergerInd', 'AssessInd', 'Is Series LLC', 'Is Protected Series',\n",
       "       'Series LLC ID'],\n",
       "      dtype='object')"
      ]
     },
     "execution_count": 13,
     "metadata": {},
     "output_type": "execute_result"
    }
   ],
   "source": [
    "a.columns"
   ]
  },
  {
   "cell_type": "code",
   "execution_count": null,
   "id": "61b883d4",
   "metadata": {},
   "outputs": [],
   "source": []
  },
  {
   "cell_type": "code",
   "execution_count": 2,
   "id": "3a6862a2",
   "metadata": {},
   "outputs": [],
   "source": [
    "df = pd.read_parquet('OUTPUT/evictions_matched.parquet')"
   ]
  },
  {
   "cell_type": "code",
   "execution_count": 4,
   "id": "89dab56d",
   "metadata": {},
   "outputs": [
    {
     "data": {
      "text/plain": [
       "(515238, 82)"
      ]
     },
     "execution_count": 4,
     "metadata": {},
     "output_type": "execute_result"
    }
   ],
   "source": [
    "df.shape"
   ]
  },
  {
   "cell_type": "code",
   "execution_count": 7,
   "id": "77d95457",
   "metadata": {},
   "outputs": [
    {
     "data": {
      "application/vnd.microsoft.datawrangler.viewer.v0+json": {
       "columns": [
        {
         "name": "index",
         "rawType": "int64",
         "type": "integer"
        },
        {
         "name": "plaintiff_name",
         "rawType": "object",
         "type": "string"
        },
        {
         "name": "defendant_name",
         "rawType": "object",
         "type": "string"
        },
        {
         "name": "defendant_zip",
         "rawType": "float64",
         "type": "float"
        },
        {
         "name": "c2dp_case_id",
         "rawType": "object",
         "type": "string"
        },
        {
         "name": "county",
         "rawType": "object",
         "type": "string"
        },
        {
         "name": "fips",
         "rawType": "int64",
         "type": "integer"
        },
        {
         "name": "case_number",
         "rawType": "object",
         "type": "string"
        },
        {
         "name": "filed_date",
         "rawType": "object",
         "type": "string"
        },
        {
         "name": "case_type",
         "rawType": "object",
         "type": "string"
        },
        {
         "name": "debt_type",
         "rawType": "object",
         "type": "unknown"
        },
        {
         "name": "defendant_attorney",
         "rawType": "object",
         "type": "string"
        },
        {
         "name": "defendant_dba_ta",
         "rawType": "object",
         "type": "unknown"
        },
        {
         "name": "defendant_address",
         "rawType": "object",
         "type": "string"
        },
        {
         "name": "defendant_count",
         "rawType": "int64",
         "type": "integer"
        },
        {
         "name": "all_defendant_names",
         "rawType": "object",
         "type": "string"
        },
        {
         "name": "all_defendant_addresses",
         "rawType": "object",
         "type": "string"
        },
        {
         "name": "defendant_order_validation",
         "rawType": "object",
         "type": "string"
        },
        {
         "name": "hearing_count",
         "rawType": "int64",
         "type": "integer"
        },
        {
         "name": "latest_hearing_date",
         "rawType": "object",
         "type": "string"
        },
        {
         "name": "latest_hearing_result",
         "rawType": "object",
         "type": "string"
        },
        {
         "name": "judgment",
         "rawType": "object",
         "type": "string"
        },
        {
         "name": "homestead_exemption_waived",
         "rawType": "object",
         "type": "unknown"
        },
        {
         "name": "is_judgment_satisfied",
         "rawType": "object",
         "type": "unknown"
        },
        {
         "name": "date_satisfaction_filed",
         "rawType": "object",
         "type": "unknown"
        },
        {
         "name": "further_case_information",
         "rawType": "object",
         "type": "unknown"
        },
        {
         "name": "costs",
         "rawType": "object",
         "type": "unknown"
        },
        {
         "name": "attorney_fees",
         "rawType": "object",
         "type": "unknown"
        },
        {
         "name": "principal_amount",
         "rawType": "object",
         "type": "unknown"
        },
        {
         "name": "interest_award",
         "rawType": "object",
         "type": "unknown"
        },
        {
         "name": "possession",
         "rawType": "object",
         "type": "string"
        },
        {
         "name": "writ_of_eviction_issued_date",
         "rawType": "object",
         "type": "unknown"
        },
        {
         "name": "other_amount",
         "rawType": "object",
         "type": "unknown"
        },
        {
         "name": "other_awarded",
         "rawType": "object",
         "type": "unknown"
        },
        {
         "name": "clean_party_name",
         "rawType": "object",
         "type": "string"
        },
        {
         "name": "plaintiff_attorney",
         "rawType": "object",
         "type": "string"
        },
        {
         "name": "plaintiff_dba_ta",
         "rawType": "object",
         "type": "string"
        },
        {
         "name": "plaintiff_address",
         "rawType": "object",
         "type": "string"
        },
        {
         "name": "plaintiff_count",
         "rawType": "int64",
         "type": "integer"
        },
        {
         "name": "all_plaintiff_names",
         "rawType": "object",
         "type": "string"
        },
        {
         "name": "all_plaintiff_addresses",
         "rawType": "object",
         "type": "string"
        },
        {
         "name": "plaintiff_order_validation",
         "rawType": "object",
         "type": "string"
        },
        {
         "name": "filed_year",
         "rawType": "int64",
         "type": "integer"
        },
        {
         "name": "filed_quarter",
         "rawType": "object",
         "type": "string"
        },
        {
         "name": "plaintiff_zip",
         "rawType": "float64",
         "type": "float"
        },
        {
         "name": "serial_filing",
         "rawType": "bool",
         "type": "boolean"
        },
        {
         "name": "latest_filing_in_serial_window",
         "rawType": "bool",
         "type": "boolean"
        },
        {
         "name": "defendant_non_residential",
         "rawType": "bool",
         "type": "boolean"
        },
        {
         "name": "plaintiff_name_normalized",
         "rawType": "object",
         "type": "string"
        },
        {
         "name": "is_llc",
         "rawType": "bool",
         "type": "boolean"
        },
        {
         "name": "match_confidence",
         "rawType": "float64",
         "type": "float"
        },
        {
         "name": "EntityID",
         "rawType": "object",
         "type": "string"
        },
        {
         "name": "Name",
         "rawType": "object",
         "type": "string"
        },
        {
         "name": "Status",
         "rawType": "object",
         "type": "string"
        },
        {
         "name": "StatusReason",
         "rawType": "object",
         "type": "string"
        },
        {
         "name": "Status Date",
         "rawType": "object",
         "type": "string"
        },
        {
         "name": "Duration",
         "rawType": "object",
         "type": "string"
        },
        {
         "name": "IncorpDate",
         "rawType": "object",
         "type": "string"
        },
        {
         "name": "IncorpState",
         "rawType": "object",
         "type": "string"
        },
        {
         "name": "IndustryCode",
         "rawType": "object",
         "type": "string"
        },
        {
         "name": "Street1",
         "rawType": "object",
         "type": "string"
        },
        {
         "name": "Street2",
         "rawType": "object",
         "type": "string"
        },
        {
         "name": "City",
         "rawType": "object",
         "type": "string"
        },
        {
         "name": "State",
         "rawType": "object",
         "type": "string"
        },
        {
         "name": "Zip",
         "rawType": "object",
         "type": "string"
        },
        {
         "name": "PrinOffEffDate",
         "rawType": "object",
         "type": "string"
        },
        {
         "name": "RA-Name",
         "rawType": "object",
         "type": "string"
        },
        {
         "name": "RA-Street1",
         "rawType": "object",
         "type": "string"
        },
        {
         "name": "RA-Street2",
         "rawType": "object",
         "type": "string"
        },
        {
         "name": "RA-City",
         "rawType": "object",
         "type": "string"
        },
        {
         "name": "RA-State",
         "rawType": "object",
         "type": "string"
        },
        {
         "name": "RA-Zip",
         "rawType": "object",
         "type": "string"
        },
        {
         "name": "RA-EffDate",
         "rawType": "object",
         "type": "string"
        },
        {
         "name": "RA-Status",
         "rawType": "object",
         "type": "string"
        },
        {
         "name": "RA-Loc",
         "rawType": "object",
         "type": "string"
        },
        {
         "name": "StockInd",
         "rawType": "object",
         "type": "string"
        },
        {
         "name": "TotalShares",
         "rawType": "object",
         "type": "string"
        },
        {
         "name": "MergerInd",
         "rawType": "int64",
         "type": "integer"
        },
        {
         "name": "AssessInd",
         "rawType": "object",
         "type": "string"
        },
        {
         "name": "Is Series LLC",
         "rawType": "object",
         "type": "string"
        },
        {
         "name": "Is Protected Series",
         "rawType": "object",
         "type": "string"
        },
        {
         "name": "Series LLC ID",
         "rawType": "float64",
         "type": "float"
        },
        {
         "name": "EntityID_normalized",
         "rawType": "object",
         "type": "string"
        }
       ],
       "conversionMethod": "pd.DataFrame",
       "ref": "99e64950-13fd-4bed-964b-4897e2b787de",
       "rows": [
        [
         "0",
         "1 HIL MAR, INC",
         "SCHOTT, HENRY J",
         "23227.0",
         "127_GV22000423-00",
         "New Kent General District Court",
         "127",
         "GV22000423-00",
         "2022-08-18",
         "Unlawful Detainer",
         null,
         "NONE",
         null,
         "RICHMOND, VA 23227",
         "2",
         "SCHOTT, HENRY J | MCCLURE, LESLEY",
         "RICHMOND, VA 23227 | RICHMOND, VA 23227",
         "1 | 2",
         "1",
         "2022-09-07",
         "Other",
         "Case Dismissed",
         null,
         null,
         null,
         "LESLEY MCLURE NOT PRESENT- HENRY SCHOTT PRESENT",
         null,
         null,
         null,
         null,
         "Possession",
         null,
         null,
         null,
         "1 hil mar, inc",
         "BRAY, OTEY, SMITH, AND QUARLES",
         "WILLIAM BRAY, OTEY, SMITH AND QUARLES",
         "WILLIAMSBURG, VA 23185",
         "1",
         "1 HIL-MAR, INC",
         "WILLIAMSBURG, VA 23185",
         "1",
         "2022",
         "Q3",
         "23185.0",
         "False",
         "True",
         "False",
         "1 hil inc mar",
         "True",
         "90.0",
         "AR L.L.C. ",
         "INACTIVE  ",
         "Automatically Canceled - Registration Fee - Cannot Reinstate",
         "2024-10-01",
         "9999-12-31",
         "2014-06-19",
         "VA        ",
         "0 - General",
         "11072 OLD MILLRACE TER",
         "          ",
         "GLEN ALLEN",
         "Virginia  ",
         "23059-0000",
         "2014-06-19",
         "SYED AMIR   REHMAN ",
         "11072 OLD MILLRACE TER",
         "          ",
         "GLEN ALLEN",
         "Virginia  ",
         "23059-0000",
         "          ",
         "Active    ",
         "087       ",
         "          ",
         "          ",
         "          ",
         "1",
         "          ",
         "          ",
         "          ",
         null,
         "ar"
        ],
        [
         "1",
         "1 HIL MAR, INC",
         "SCHOTT, HENRY J",
         "23227.0",
         "127_GV22000423-00",
         "New Kent General District Court",
         "127",
         "GV22000423-00",
         "2022-08-18",
         "Unlawful Detainer",
         null,
         "NONE",
         null,
         "RICHMOND, VA 23227",
         "2",
         "SCHOTT, HENRY J | MCCLURE, LESLEY",
         "RICHMOND, VA 23227 | RICHMOND, VA 23227",
         "1 | 2",
         "1",
         "2022-09-07",
         "Other",
         "Case Dismissed",
         null,
         null,
         null,
         "LESLEY MCLURE NOT PRESENT- HENRY SCHOTT PRESENT",
         null,
         null,
         null,
         null,
         "Possession",
         null,
         null,
         null,
         "1 hil mar, inc",
         "BRAY, OTEY, SMITH, AND QUARLES",
         "WILLIAM BRAY, OTEY, SMITH AND QUARLES",
         "WILLIAMSBURG, VA 23185",
         "1",
         "1 HIL-MAR, INC",
         "WILLIAMSBURG, VA 23185",
         "1",
         "2022",
         "Q3",
         "23185.0",
         "False",
         "True",
         "False",
         "1 hil inc mar",
         "True",
         "90.0",
         "A&R, LLC  ",
         "INACTIVE  ",
         "Automatically Canceled - Registration Fee - Can Reinstate",
         "2021-01-31",
         "9999-12-31",
         "2019-10-23",
         "VA        ",
         "0 - General",
         "4562 Rincon Pl",
         "          ",
         "Dumfries  ",
         "Virginia  ",
         "22025-0000",
         "2019-10-23",
         "RAFAEL   WILLIAMS ",
         "4562 RINCON PL",
         "          ",
         "DUMFRIES  ",
         "Virginia  ",
         "22025-0000",
         "          ",
         "Active    ",
         "153       ",
         "          ",
         "          ",
         "          ",
         "1",
         "          ",
         "          ",
         "          ",
         null,
         "ar"
        ],
        [
         "2",
         "1 HIL MAR, INC",
         "SCHOTT, HENRY J",
         "23227.0",
         "127_GV22000423-00",
         "New Kent General District Court",
         "127",
         "GV22000423-00",
         "2022-08-18",
         "Unlawful Detainer",
         null,
         "NONE",
         null,
         "RICHMOND, VA 23227",
         "2",
         "SCHOTT, HENRY J | MCCLURE, LESLEY",
         "RICHMOND, VA 23227 | RICHMOND, VA 23227",
         "1 | 2",
         "1",
         "2022-09-07",
         "Other",
         "Case Dismissed",
         null,
         null,
         null,
         "LESLEY MCLURE NOT PRESENT- HENRY SCHOTT PRESENT",
         null,
         null,
         null,
         null,
         "Possession",
         null,
         null,
         null,
         "1 hil mar, inc",
         "BRAY, OTEY, SMITH, AND QUARLES",
         "WILLIAM BRAY, OTEY, SMITH AND QUARLES",
         "WILLIAMSBURG, VA 23185",
         "1",
         "1 HIL-MAR, INC",
         "WILLIAMSBURG, VA 23185",
         "1",
         "2022",
         "Q3",
         "23185.0",
         "False",
         "True",
         "False",
         "1 hil inc mar",
         "True",
         "90.0",
         "ARL LLC   ",
         "INACTIVE  ",
         "Automatically Canceled - Registration Fee - Can Reinstate",
         "2022-08-31",
         "9999-12-31",
         "2021-05-19",
         "VA        ",
         "0 - General",
         "23280 FALLEN HILLS DR",
         "          ",
         "Brambleton",
         "Virginia  ",
         "20148     ",
         "2021-05-19",
         "LENIN  JAYARAMAN ",
         "23280 FALLEN HILLS DR",
         "          ",
         "Brambleton",
         "Virginia  ",
         "20148     ",
         "2021-05-19",
         "Active    ",
         "107       ",
         "          ",
         "          ",
         "          ",
         "1",
         "          ",
         "          ",
         "          ",
         null,
         "ar"
        ],
        [
         "3",
         "1 HIL MAR, INC",
         "SCHOTT, HENRY J",
         "23227.0",
         "127_GV22000423-00",
         "New Kent General District Court",
         "127",
         "GV22000423-00",
         "2022-08-18",
         "Unlawful Detainer",
         null,
         "NONE",
         null,
         "RICHMOND, VA 23227",
         "2",
         "SCHOTT, HENRY J | MCCLURE, LESLEY",
         "RICHMOND, VA 23227 | RICHMOND, VA 23227",
         "1 | 2",
         "1",
         "2022-09-07",
         "Other",
         "Case Dismissed",
         null,
         null,
         null,
         "LESLEY MCLURE NOT PRESENT- HENRY SCHOTT PRESENT",
         null,
         null,
         null,
         null,
         "Possession",
         null,
         null,
         null,
         "1 hil mar, inc",
         "BRAY, OTEY, SMITH, AND QUARLES",
         "WILLIAM BRAY, OTEY, SMITH AND QUARLES",
         "WILLIAMSBURG, VA 23185",
         "1",
         "1 HIL-MAR, INC",
         "WILLIAMSBURG, VA 23185",
         "1",
         "2022",
         "Q3",
         "23185.0",
         "False",
         "True",
         "False",
         "1 hil inc mar",
         "True",
         "90.0",
         "ARL LLC   ",
         "INACTIVE  ",
         "Voluntarily Canceled - Can Reinstate",
         "2023-12-30",
         "9999-12-31",
         "2022-12-12",
         "VA        ",
         "0 - General",
         "924 Frederick St SW",
         "          ",
         "Vienna    ",
         "Virginia  ",
         "22180-6450",
         "2022-12-12",
         "Andrea   Rodriguez-Lee ",
         "5528 Chestermill Dr",
         "          ",
         "Fairfax   ",
         "Virginia  ",
         "22030-7248",
         "2023-05-19",
         "Active    ",
         "600       ",
         "          ",
         "          ",
         "          ",
         "1",
         "          ",
         "          ",
         "          ",
         null,
         "ar"
        ],
        [
         "4",
         "1 SQ APTS LP",
         "AYALA ERICA",
         "23702.0",
         "740_GV18012249-00",
         "Portsmouth General District Court",
         "740",
         "GV18012249-00",
         "2018-11-21",
         "Unlawful Detainer",
         null,
         "NONE",
         "AYALA ERICA",
         "PORTSMOUTH, VA 23702",
         "2",
         "AYALA ERICA | FRANKLIN CHRISTOPHER",
         "PORTSMOUTH, VA 23702 | PORTSMOUTH, VA 23702",
         "1 | 2",
         "1",
         "2018-12-13",
         "Default Judgment",
         "Plaintiff",
         null,
         null,
         null,
         null,
         "$59.00",
         "$175.00",
         "$825.00",
         "6     % FROM 121318",
         "Immediate",
         null,
         "$82.50",
         null,
         "1 sq apts lp",
         "KIRK LEVY",
         "INDEPENDENCE SQUARE APARTMENTS",
         "PORTSMOUTH, VA 23702",
         "1",
         "1 SQUARE APTS LP",
         "PORTSMOUTH, VA 23702",
         "1",
         "2018",
         "Q4",
         "23702.0",
         "False",
         "True",
         "False",
         "1 apts lp sq",
         "True",
         "90.0",
         "A.P., LLC ",
         "INACTIVE  ",
         "Voluntarily Canceled - Cannot Reinstate",
         "2022-03-11",
         "2050-12-31",
         "1994-01-31",
         "MD        ",
         "0 - General",
         "SUITE 1200  SUN LIFE BUILDING",
         "20 S. CHARLES STREET",
         "BALTIMORE ",
         "Maryland  ",
         "21201-0000",
         "1994-01-31",
         "          ",
         "          ",
         "          ",
         "          ",
         "          ",
         "          ",
         "          ",
         "          ",
         "          ",
         "          ",
         "          ",
         "          ",
         "1",
         "          ",
         "          ",
         "          ",
         null,
         "ap"
        ]
       ],
       "shape": {
        "columns": 82,
        "rows": 5
       }
      },
      "text/html": [
       "<div>\n",
       "<style scoped>\n",
       "    .dataframe tbody tr th:only-of-type {\n",
       "        vertical-align: middle;\n",
       "    }\n",
       "\n",
       "    .dataframe tbody tr th {\n",
       "        vertical-align: top;\n",
       "    }\n",
       "\n",
       "    .dataframe thead th {\n",
       "        text-align: right;\n",
       "    }\n",
       "</style>\n",
       "<table border=\"1\" class=\"dataframe\">\n",
       "  <thead>\n",
       "    <tr style=\"text-align: right;\">\n",
       "      <th></th>\n",
       "      <th>plaintiff_name</th>\n",
       "      <th>defendant_name</th>\n",
       "      <th>defendant_zip</th>\n",
       "      <th>c2dp_case_id</th>\n",
       "      <th>county</th>\n",
       "      <th>fips</th>\n",
       "      <th>case_number</th>\n",
       "      <th>filed_date</th>\n",
       "      <th>case_type</th>\n",
       "      <th>debt_type</th>\n",
       "      <th>...</th>\n",
       "      <th>RA-Status</th>\n",
       "      <th>RA-Loc</th>\n",
       "      <th>StockInd</th>\n",
       "      <th>TotalShares</th>\n",
       "      <th>MergerInd</th>\n",
       "      <th>AssessInd</th>\n",
       "      <th>Is Series LLC</th>\n",
       "      <th>Is Protected Series</th>\n",
       "      <th>Series LLC ID</th>\n",
       "      <th>EntityID_normalized</th>\n",
       "    </tr>\n",
       "  </thead>\n",
       "  <tbody>\n",
       "    <tr>\n",
       "      <th>0</th>\n",
       "      <td>1 HIL MAR, INC</td>\n",
       "      <td>SCHOTT, HENRY J</td>\n",
       "      <td>23227.0</td>\n",
       "      <td>127_GV22000423-00</td>\n",
       "      <td>New Kent General District Court</td>\n",
       "      <td>127</td>\n",
       "      <td>GV22000423-00</td>\n",
       "      <td>2022-08-18</td>\n",
       "      <td>Unlawful Detainer</td>\n",
       "      <td>None</td>\n",
       "      <td>...</td>\n",
       "      <td>087</td>\n",
       "      <td></td>\n",
       "      <td></td>\n",
       "      <td></td>\n",
       "      <td>1</td>\n",
       "      <td></td>\n",
       "      <td></td>\n",
       "      <td></td>\n",
       "      <td>NaN</td>\n",
       "      <td>ar</td>\n",
       "    </tr>\n",
       "    <tr>\n",
       "      <th>1</th>\n",
       "      <td>1 HIL MAR, INC</td>\n",
       "      <td>SCHOTT, HENRY J</td>\n",
       "      <td>23227.0</td>\n",
       "      <td>127_GV22000423-00</td>\n",
       "      <td>New Kent General District Court</td>\n",
       "      <td>127</td>\n",
       "      <td>GV22000423-00</td>\n",
       "      <td>2022-08-18</td>\n",
       "      <td>Unlawful Detainer</td>\n",
       "      <td>None</td>\n",
       "      <td>...</td>\n",
       "      <td>153</td>\n",
       "      <td></td>\n",
       "      <td></td>\n",
       "      <td></td>\n",
       "      <td>1</td>\n",
       "      <td></td>\n",
       "      <td></td>\n",
       "      <td></td>\n",
       "      <td>NaN</td>\n",
       "      <td>ar</td>\n",
       "    </tr>\n",
       "    <tr>\n",
       "      <th>2</th>\n",
       "      <td>1 HIL MAR, INC</td>\n",
       "      <td>SCHOTT, HENRY J</td>\n",
       "      <td>23227.0</td>\n",
       "      <td>127_GV22000423-00</td>\n",
       "      <td>New Kent General District Court</td>\n",
       "      <td>127</td>\n",
       "      <td>GV22000423-00</td>\n",
       "      <td>2022-08-18</td>\n",
       "      <td>Unlawful Detainer</td>\n",
       "      <td>None</td>\n",
       "      <td>...</td>\n",
       "      <td>107</td>\n",
       "      <td></td>\n",
       "      <td></td>\n",
       "      <td></td>\n",
       "      <td>1</td>\n",
       "      <td></td>\n",
       "      <td></td>\n",
       "      <td></td>\n",
       "      <td>NaN</td>\n",
       "      <td>ar</td>\n",
       "    </tr>\n",
       "    <tr>\n",
       "      <th>3</th>\n",
       "      <td>1 HIL MAR, INC</td>\n",
       "      <td>SCHOTT, HENRY J</td>\n",
       "      <td>23227.0</td>\n",
       "      <td>127_GV22000423-00</td>\n",
       "      <td>New Kent General District Court</td>\n",
       "      <td>127</td>\n",
       "      <td>GV22000423-00</td>\n",
       "      <td>2022-08-18</td>\n",
       "      <td>Unlawful Detainer</td>\n",
       "      <td>None</td>\n",
       "      <td>...</td>\n",
       "      <td>600</td>\n",
       "      <td></td>\n",
       "      <td></td>\n",
       "      <td></td>\n",
       "      <td>1</td>\n",
       "      <td></td>\n",
       "      <td></td>\n",
       "      <td></td>\n",
       "      <td>NaN</td>\n",
       "      <td>ar</td>\n",
       "    </tr>\n",
       "    <tr>\n",
       "      <th>4</th>\n",
       "      <td>1 SQ APTS LP</td>\n",
       "      <td>AYALA ERICA</td>\n",
       "      <td>23702.0</td>\n",
       "      <td>740_GV18012249-00</td>\n",
       "      <td>Portsmouth General District Court</td>\n",
       "      <td>740</td>\n",
       "      <td>GV18012249-00</td>\n",
       "      <td>2018-11-21</td>\n",
       "      <td>Unlawful Detainer</td>\n",
       "      <td>None</td>\n",
       "      <td>...</td>\n",
       "      <td></td>\n",
       "      <td></td>\n",
       "      <td></td>\n",
       "      <td></td>\n",
       "      <td>1</td>\n",
       "      <td></td>\n",
       "      <td></td>\n",
       "      <td></td>\n",
       "      <td>NaN</td>\n",
       "      <td>ap</td>\n",
       "    </tr>\n",
       "  </tbody>\n",
       "</table>\n",
       "<p>5 rows × 82 columns</p>\n",
       "</div>"
      ],
      "text/plain": [
       "   plaintiff_name   defendant_name  defendant_zip       c2dp_case_id  \\\n",
       "0  1 HIL MAR, INC  SCHOTT, HENRY J        23227.0  127_GV22000423-00   \n",
       "1  1 HIL MAR, INC  SCHOTT, HENRY J        23227.0  127_GV22000423-00   \n",
       "2  1 HIL MAR, INC  SCHOTT, HENRY J        23227.0  127_GV22000423-00   \n",
       "3  1 HIL MAR, INC  SCHOTT, HENRY J        23227.0  127_GV22000423-00   \n",
       "4    1 SQ APTS LP      AYALA ERICA        23702.0  740_GV18012249-00   \n",
       "\n",
       "                              county  fips    case_number  filed_date  \\\n",
       "0    New Kent General District Court   127  GV22000423-00  2022-08-18   \n",
       "1    New Kent General District Court   127  GV22000423-00  2022-08-18   \n",
       "2    New Kent General District Court   127  GV22000423-00  2022-08-18   \n",
       "3    New Kent General District Court   127  GV22000423-00  2022-08-18   \n",
       "4  Portsmouth General District Court   740  GV18012249-00  2018-11-21   \n",
       "\n",
       "           case_type debt_type  ...   RA-Status      RA-Loc    StockInd  \\\n",
       "0  Unlawful Detainer      None  ...  087                                  \n",
       "1  Unlawful Detainer      None  ...  153                                  \n",
       "2  Unlawful Detainer      None  ...  107                                  \n",
       "3  Unlawful Detainer      None  ...  600                                  \n",
       "4  Unlawful Detainer      None  ...                                       \n",
       "\n",
       "   TotalShares MergerInd   AssessInd Is Series LLC  Is Protected Series  \\\n",
       "0                      1                                                  \n",
       "1                      1                                                  \n",
       "2                      1                                                  \n",
       "3                      1                                                  \n",
       "4                      1                                                  \n",
       "\n",
       "  Series LLC ID EntityID_normalized  \n",
       "0           NaN                  ar  \n",
       "1           NaN                  ar  \n",
       "2           NaN                  ar  \n",
       "3           NaN                  ar  \n",
       "4           NaN                  ap  \n",
       "\n",
       "[5 rows x 82 columns]"
      ]
     },
     "execution_count": 7,
     "metadata": {},
     "output_type": "execute_result"
    }
   ],
   "source": [
    "df.head()"
   ]
  },
  {
   "cell_type": "code",
   "execution_count": 3,
   "id": "f55789ba",
   "metadata": {},
   "outputs": [
    {
     "data": {
      "text/plain": [
       "Index(['plaintiff_name', 'defendant_name', 'defendant_zip', 'c2dp_case_id',\n",
       "       'county', 'fips', 'case_number', 'filed_date', 'case_type', 'debt_type',\n",
       "       'defendant_attorney', 'defendant_dba_ta', 'defendant_address',\n",
       "       'defendant_count', 'all_defendant_names', 'all_defendant_addresses',\n",
       "       'defendant_order_validation', 'hearing_count', 'latest_hearing_date',\n",
       "       'latest_hearing_result', 'judgment', 'homestead_exemption_waived',\n",
       "       'is_judgment_satisfied', 'date_satisfaction_filed',\n",
       "       'further_case_information', 'costs', 'attorney_fees',\n",
       "       'principal_amount', 'interest_award', 'possession',\n",
       "       'writ_of_eviction_issued_date', 'other_amount', 'other_awarded',\n",
       "       'clean_party_name', 'plaintiff_attorney', 'plaintiff_dba_ta',\n",
       "       'plaintiff_address', 'plaintiff_count', 'all_plaintiff_names',\n",
       "       'all_plaintiff_addresses', 'plaintiff_order_validation', 'filed_year',\n",
       "       'filed_quarter', 'plaintiff_zip', 'serial_filing',\n",
       "       'latest_filing_in_serial_window', 'defendant_non_residential',\n",
       "       'plaintiff_name_normalized', 'is_llc', 'match_confidence', 'EntityID',\n",
       "       'Name', 'Status', 'StatusReason', 'Status Date', 'Duration',\n",
       "       'IncorpDate', 'IncorpState', 'IndustryCode', 'Street1', 'Street2',\n",
       "       'City', 'State', 'Zip', 'PrinOffEffDate', 'RA-Name', 'RA-Street1',\n",
       "       'RA-Street2', 'RA-City', 'RA-State', 'RA-Zip', 'RA-EffDate',\n",
       "       'RA-Status', 'RA-Loc', 'StockInd', 'TotalShares', 'MergerInd',\n",
       "       'AssessInd', 'Is Series LLC', 'Is Protected Series', 'Series LLC ID',\n",
       "       'EntityID_normalized'],\n",
       "      dtype='object')"
      ]
     },
     "execution_count": 3,
     "metadata": {},
     "output_type": "execute_result"
    }
   ],
   "source": [
    "df.columns"
   ]
  },
  {
   "cell_type": "code",
   "execution_count": 15,
   "id": "dd43a904",
   "metadata": {},
   "outputs": [
    {
     "data": {
      "text/plain": [
       "0    2014-06-19\n",
       "1    2019-10-23\n",
       "2    2021-05-19\n",
       "3    2022-12-12\n",
       "4    1994-01-31\n",
       "Name: Zip, dtype: object"
      ]
     },
     "execution_count": 15,
     "metadata": {},
     "output_type": "execute_result"
    }
   ],
   "source": [
    "df['Zip'].head()"
   ]
  },
  {
   "cell_type": "markdown",
   "id": "0c831df5",
   "metadata": {},
   "source": [
    "Address-based clustering"
   ]
  },
  {
   "cell_type": "code",
   "execution_count": 38,
   "id": "6aa891c4",
   "metadata": {},
   "outputs": [],
   "source": [
    "plaintiff_col = \"plaintiff_name\"\n",
    "matched_col = \"EntityID\" \n",
    "\n",
    "# Sample 20 random rows where a match was found\n",
    "sample = df[[plaintiff_col, matched_col]].dropna().sample(n=20)\n"
   ]
  },
  {
   "cell_type": "code",
   "execution_count": 8,
   "id": "13d6f81f",
   "metadata": {},
   "outputs": [
    {
     "name": "stdout",
     "output_type": "stream",
     "text": [
      "Filed Plaintiff: KPM LLC\n",
      "Matched LLC:     KPM LLC   \n",
      "------------------------------------------------------------\n",
      "Filed Plaintiff: RBG BEACON 303 ASSOCIATES LLC\n",
      "Matched LLC:     RBG BEACON 303 ASSOCIATES, LLC\n",
      "------------------------------------------------------------\n",
      "Filed Plaintiff: POLIZOS PROPERTIES LLC\n",
      "Matched LLC:     POLIZOS PROPERTIES LLC\n",
      "------------------------------------------------------------\n",
      "Filed Plaintiff: CRS BROOKMONT HOUSING CORP\n",
      "Matched LLC:     J&P HOUSING LLC\n",
      "------------------------------------------------------------\n",
      "Filed Plaintiff: WAVERTON CS DEL OWNER LLC\n",
      "Matched LLC:     Waverton CS Del Owner, LLC\n",
      "------------------------------------------------------------\n",
      "Filed Plaintiff: COMMONS AT PLANT ZERO LLC, THE\n",
      "Matched LLC:     The Commons at Plant Zero, LLC\n",
      "------------------------------------------------------------\n",
      "Filed Plaintiff: WHISPERING OAKS APTS LP\n",
      "Matched LLC:     Salem Colony, LLC - 841 Whispering Woods Court, Protected Series\n",
      "------------------------------------------------------------\n",
      "Filed Plaintiff: RFI SEVEN GABLES LLC\n",
      "Matched LLC:     RFI Seven Gables LLC\n",
      "------------------------------------------------------------\n",
      "Filed Plaintiff: STONERIDGE APTS MARK CENTER OWNERS LLC\n",
      "Matched LLC:     Stoneridge Apartments Mark Center Owner LLC\n",
      "------------------------------------------------------------\n",
      "Filed Plaintiff: ABBITT MGMT LLC\n",
      "Matched LLC:     ABBITT, LLC\n",
      "------------------------------------------------------------\n",
      "Filed Plaintiff: EQUITY RESIDENTIAL MGMT LLC\n",
      "Matched LLC:     MG, L.L.C.\n",
      "------------------------------------------------------------\n",
      "Filed Plaintiff: KRS HOLDINGS INC\n",
      "Matched LLC:     VB StorageMax Holdings, LLC\n",
      "------------------------------------------------------------\n",
      "Filed Plaintiff: GOOSE POND GROVE LLC\n",
      "Matched LLC:     GOOSE POND GROVE, LLC\n",
      "------------------------------------------------------------\n",
      "Filed Plaintiff: AP PRESTON TRAILS LLC\n",
      "Matched LLC:     AP Preston Trails LLC\n",
      "------------------------------------------------------------\n",
      "Filed Plaintiff: INDEPENDENCE ACQUISITION LLC\n",
      "Matched LLC:     Independence Acquisition, LLC\n",
      "------------------------------------------------------------\n",
      "Filed Plaintiff: RFI SEVEN GABLES LLC\n",
      "Matched LLC:     RFI Seven Gables LLC\n",
      "------------------------------------------------------------\n",
      "Filed Plaintiff: COLISEUM INVESTMENT CO LLC\n",
      "Matched LLC:     COLISEUM INVESTMENT CO., LLC\n",
      "------------------------------------------------------------\n",
      "Filed Plaintiff: CEDAR CREEK APTS LP\n",
      "Matched LLC:     Montessori School at Goose Creek Preserve, LLC\n",
      "------------------------------------------------------------\n",
      "Filed Plaintiff: MATTJACK HOLDINGS LLC\n",
      "Matched LLC:     MATTJACK Holdings, LLC\n",
      "------------------------------------------------------------\n",
      "Filed Plaintiff: CAMBRIA ASSOCIATES LP\n",
      "Matched LLC:     Medical Practice Management Associates, LLC\n",
      "------------------------------------------------------------\n"
     ]
    }
   ],
   "source": [
    "for _, row in sample.iterrows():\n",
    "    print(f\"Filed Plaintiff: {row[plaintiff_col]}\\nMatched LLC:     {row[matched_col]}\\n{'-'*60}\")"
   ]
  },
  {
   "cell_type": "code",
   "execution_count": 34,
   "id": "7c1e5fa2",
   "metadata": {},
   "outputs": [
    {
     "name": "stdout",
     "output_type": "stream",
     "text": [
      "EntityID\n",
      "MGM, LLC                  172\n",
      "RPMC, LLC                 128\n",
      "RLP, LLC                  128\n",
      "RCO LLC                   128\n",
      "MACO LLC                  128\n",
      "Property Property, LLC    116\n",
      "A.P., LLC                  79\n",
      "P&R LLC                    78\n",
      "ERS LLC                    73\n",
      "E.R.S. LLC                 73\n",
      "ATES, LLC                  72\n",
      "c² LLC                     68\n",
      "L & C LLC                  68\n",
      "C LLC                      68\n",
      "L & C, L.L.C.              68\n",
      "Investments L.L.C.         61\n",
      "LandL, LLC                 59\n",
      "P.P.J.C., L.C.             52\n",
      "ITED LLC                   47\n",
      "DIN, LLC                   45\n",
      "Name: plaintiff_name, dtype: int64\n"
     ]
    }
   ],
   "source": [
    "grouped_matches = (\n",
    "    df\n",
    "    .groupby(matched_col)[plaintiff_col]\n",
    "    .nunique()\n",
    "    .sort_values(ascending=False)\n",
    ")\n",
    "\n",
    "# Show the top 20 matched names by diversity of inputs\n",
    "print(grouped_matches.head(20))"
   ]
  },
  {
   "cell_type": "markdown",
   "id": "f7633498",
   "metadata": {},
   "source": [
    "Starting to play around with more matching"
   ]
  },
  {
   "cell_type": "code",
   "execution_count": 39,
   "id": "c7e8387d",
   "metadata": {},
   "outputs": [],
   "source": [
    "# Work with unique entities only\n",
    "df = (\n",
    "    df\n",
    "    .sort_values('filed_date', ascending=False)\n",
    "    .groupby('plaintiff_name_normalized', as_index=False)\n",
    "    .first()\n",
    ")"
   ]
  },
  {
   "cell_type": "code",
   "execution_count": 20,
   "id": "89790563",
   "metadata": {},
   "outputs": [],
   "source": [
    "# Starting with >90 confidence\n",
    "df = df.loc[df['match_confidence'] > 89]"
   ]
  },
  {
   "cell_type": "code",
   "execution_count": 21,
   "id": "2d3bfe77",
   "metadata": {},
   "outputs": [
    {
     "data": {
      "text/plain": [
       "(15238, 81)"
      ]
     },
     "execution_count": 21,
     "metadata": {},
     "output_type": "execute_result"
    }
   ],
   "source": [
    "df.shape"
   ]
  },
  {
   "cell_type": "code",
   "execution_count": 40,
   "id": "d857667c",
   "metadata": {},
   "outputs": [],
   "source": [
    "## More text normalization\n",
    "def clean_name(df, source_col, target_col):\n",
    "    ndf = df.copy()\n",
    "    ndf[target_col] = (\n",
    "        ndf[source_col]\n",
    "        .fillna('')\n",
    "        .str.lower()\n",
    "        .str.replace(r'[^\\w\\s\\.-]', '', regex=True)\n",
    "        .replace(r'\\s+', ' ', regex=True)\n",
    "        .str.strip()\n",
    "    )\n",
    "    return ndf\n"
   ]
  },
  {
   "cell_type": "code",
   "execution_count": 41,
   "id": "40d9ab5b",
   "metadata": {},
   "outputs": [],
   "source": [
    "# RA Names\n",
    "df = clean_name(df, 'RA-Name', 'clean_ra_name')\n",
    "\n",
    "# Remove common terms\n",
    "ra_terms = ['registered agent', 'agent for service', 'agent']\n",
    "ra_pattern = '|'.join(ra_terms)\n",
    "df['clean_ra_name'] = (\n",
    "    df['clean_ra_name']\n",
    "    .str.replace(ra_pattern, '', regex=True)\n",
    "    .str.strip()\n",
    ")"
   ]
  },
  {
   "cell_type": "code",
   "execution_count": 42,
   "id": "5d2c4880",
   "metadata": {},
   "outputs": [],
   "source": [
    "def clean_address_cols(df, source_cols):\n",
    "    ndf = df.copy()\n",
    "    for source_cols, target_col in source_cols.items():\n",
    "        ndf[target_col] = ndf[list(source_cols)].fillna('').agg(' '.join, axis=1)\n",
    "        ndf[target_col] = clean_address_series(ndf[target_col])\n",
    "    return ndf\n",
    "\n",
    "def clean_address_series(series):\n",
    "    clean = series.str.lower()\n",
    "    replacements = {\n",
    "        ' street ': ' st ', ' avenue ': ' ave ', ' boulevard ': ' blvd ', ' road ': ' rd ',\n",
    "        ' drive ': ' dr ', ' lane ': ' ln ', ' suite ': ' ste ', ' apartment ': ' apt ',\n",
    "        ' north ': ' n ', ' south ': ' s ', ' east ': ' e ', ' west ': ' w '\n",
    "    }\n",
    "    for original, replacement in replacements.items():\n",
    "        clean = clean.str.replace(original, replacement)\n",
    "    clean = clean.str.replace(r'[^\\w\\s]', '', regex=True)\n",
    "    clean = clean.str.replace(r'\\s+', ' ', regex=True).str.strip()\n",
    "    return clean\n"
   ]
  },
  {
   "cell_type": "code",
   "execution_count": 43,
   "id": "6e02b8b8",
   "metadata": {},
   "outputs": [],
   "source": [
    "## Addresses\n",
    "address_mappings = {\n",
    "        # Principal address components\n",
    "        ('Street1', 'Street2', 'City', 'State', 'Zip'): 'clean_principal_address',\n",
    "        # RA address components\n",
    "        ('RA-Street1', 'RA-Street2', 'RA-City', 'RA-State', 'RA-Zip'): 'clean_ra_address'\n",
    "    }\n",
    "\n",
    "df = clean_address_cols(df, address_mappings)"
   ]
  },
  {
   "cell_type": "code",
   "execution_count": 10,
   "id": "a0ee577d",
   "metadata": {},
   "outputs": [],
   "source": [
    "def create_initial_clusters(df):\n",
    "    \"\"\"Create initial clusters based on exact matching\"\"\"\n",
    "    # Initialize empty series for cluster IDs with default value -1\n",
    "    cluster_ids = pd.Series(index=df.index, data=-1)\n",
    "    current_cluster_id = 0\n",
    "    cluster_reasons = pd.Series(index=df.index, data=\"\")\n",
    "    \n",
    "    # Group by registered agent - vectorized approach\n",
    "    if 'clean_ra_name' in df.columns:\n",
    "        # Filter out empty RAs and group\n",
    "        ra_groups = df[df['clean_ra_name'] != ''].groupby('clean_ra_name')\n",
    "        \n",
    "        # Find groups with more than one entity\n",
    "        for ra_name, group in ra_groups:\n",
    "            if len(group) > 1:\n",
    "                # Assign cluster ID to all entities in this group\n",
    "                cluster_ids.loc[group.index] = current_cluster_id\n",
    "                cluster_reasons.loc[group.index] = \"RA\"\n",
    "                current_cluster_id += 1\n",
    "    \n",
    "    # Group by address for remaining unassigned entities\n",
    "    if 'clean_principal_address' in df.columns:\n",
    "        # Filter to only process unassigned entities (-1) with non-empty addresses\n",
    "        unassigned_mask = (cluster_ids == -1) & (df['clean_principal_address'] != '')\n",
    "        \n",
    "        if unassigned_mask.any():\n",
    "            address_groups = df[unassigned_mask].groupby('clean_principal_address')\n",
    "            \n",
    "            # Find groups with more than one entity\n",
    "            for address, group in address_groups:\n",
    "                if len(group) > 1:\n",
    "                    # Assign cluster ID to all entities in this group\n",
    "                    cluster_ids.loc[group.index] = current_cluster_id\n",
    "                    cluster_reasons.loc[group.index] = \"Address\"\n",
    "                    current_cluster_id += 1\n",
    "    \n",
    "    # Add the cluster IDs and reasons to the DataFrame\n",
    "    result_df = df.copy()\n",
    "    result_df['cluster_id'] = cluster_ids\n",
    "    result_df['cluster_reason'] = cluster_reasons\n",
    "    \n",
    "    # Calculate some basic statistics\n",
    "    cluster_stats = {\n",
    "        'total_entities': len(df),\n",
    "        'clustered_entities': (cluster_ids != -1).sum(),\n",
    "        'unclustered_entities': (cluster_ids == -1).sum(),\n",
    "        'unique_clusters': cluster_ids[cluster_ids != -1].nunique()\n",
    "    }\n",
    "    \n",
    "    return result_df, cluster_stats"
   ]
  },
  {
   "cell_type": "code",
   "execution_count": 11,
   "id": "49081eda",
   "metadata": {},
   "outputs": [],
   "source": [
    "df_clustered, stats = create_initial_clusters(df)"
   ]
  },
  {
   "cell_type": "code",
   "execution_count": 12,
   "id": "12e6473f",
   "metadata": {},
   "outputs": [
    {
     "name": "stdout",
     "output_type": "stream",
     "text": [
      "Total entities: 15238\n",
      "Entities in clusters: 9778 (64.2%)\n",
      "Entities not in clusters: 5460 (35.8%)\n",
      "Unique clusters: 1656\n"
     ]
    }
   ],
   "source": [
    "print(f\"Total entities: {stats['total_entities']}\")\n",
    "print(f\"Entities in clusters: {stats['clustered_entities']} ({stats['clustered_entities']/stats['total_entities']:.1%})\")\n",
    "print(f\"Entities not in clusters: {stats['unclustered_entities']} ({stats['unclustered_entities']/stats['total_entities']:.1%})\")\n",
    "print(f\"Unique clusters: {stats['unique_clusters']}\")\n"
   ]
  },
  {
   "cell_type": "code",
   "execution_count": 13,
   "id": "da327e7c",
   "metadata": {},
   "outputs": [],
   "source": [
    "def analyze_top_clusters(df, n=10):\n",
    "    \"\"\"Analyze the top N clusters by size\"\"\"\n",
    "    # Find the largest clusters\n",
    "    top_cluster_ids = df[df['cluster_id'] != -1]['cluster_id'].value_counts().nlargest(n).index\n",
    "    \n",
    "    cluster_details = []\n",
    "    \n",
    "    for cid in top_cluster_ids:\n",
    "        cluster_df = df[df['cluster_id'] == cid]\n",
    "        size = len(cluster_df)\n",
    "        \n",
    "        # Get the reason for clustering\n",
    "        reason = cluster_df['cluster_reason'].iloc[0]\n",
    "        \n",
    "        # Get the common elements\n",
    "        if reason == \"RA\":\n",
    "            common_element = cluster_df['clean_ra_name'].iloc[0]\n",
    "        elif reason == \"Address\":\n",
    "            common_element = cluster_df['clean_principal_address'].iloc[0]\n",
    "        else:\n",
    "            common_element = \"Unknown\"\n",
    "        \n",
    "        # Count unique attributes\n",
    "        unique_addresses = cluster_df['clean_principal_address'].nunique()\n",
    "        unique_ras = cluster_df['clean_ra_name'].nunique()\n",
    "        \n",
    "        # Sample of entity names\n",
    "        sample_entities = cluster_df['Name'].sample(min(5, size)).tolist()\n",
    "        \n",
    "        # Count of eviction filings if available\n",
    "        eviction_count = 0\n",
    "        if 'serial_filing' in cluster_df.columns:\n",
    "            eviction_count = cluster_df['serial_filing'].sum()\n",
    "        \n",
    "        cluster_details.append({\n",
    "            'cluster_id': cid,\n",
    "            'size': size,\n",
    "            'reason': reason,\n",
    "            'common_element': common_element,\n",
    "            'unique_addresses': unique_addresses,\n",
    "            'unique_ras': unique_ras,\n",
    "            'sample_entities': sample_entities,\n",
    "            'eviction_count': eviction_count\n",
    "        })\n",
    "    \n",
    "    return pd.DataFrame(cluster_details)\n"
   ]
  },
  {
   "cell_type": "code",
   "execution_count": 14,
   "id": "6108d69f",
   "metadata": {},
   "outputs": [
    {
     "name": "stdout",
     "output_type": "stream",
     "text": [
      "   cluster_id  size   reason  unique_addresses  unique_ras\n",
      "0          22   566       RA               436           1\n",
      "1        1051   510       RA               367           1\n",
      "2         594   169       RA                 2           1\n",
      "3        1436   151       RA               126           1\n",
      "4        1014   139       RA                11           1\n",
      "5        1358   115       RA                 1           1\n",
      "6        1058   109       RA                59           1\n",
      "7        1341    94       RA                64           1\n",
      "8         525    79       RA                 8           1\n",
      "9        1611    78  Address                 1           1\n"
     ]
    }
   ],
   "source": [
    "top_clusters = analyze_top_clusters(df_clustered, n=10)\n",
    "print(top_clusters[['cluster_id', 'size', 'reason', 'unique_addresses', 'unique_ras']])\n"
   ]
  },
  {
   "cell_type": "code",
   "execution_count": 16,
   "id": "969af363",
   "metadata": {},
   "outputs": [
    {
     "data": {
      "text/plain": [
       "plaintiff_name_normalized\n",
       "1 2020 borrower hpa llc ml                    100 Shockoe Slip Fl 2\n",
       "1 acquisitions hpa                            100 Shockoe Slip Fl 2\n",
       "1 armstrong church hill llc north phase ta    100 Shockoe Slip Fl 2\n",
       "1 block llc pointe summit                     100 Shockoe Slip Fl 2\n",
       "1 cox landing llc tic                         100 Shockoe Slip Fl 2\n",
       "Name: RA-Name, dtype: object"
      ]
     },
     "execution_count": 16,
     "metadata": {},
     "output_type": "execute_result"
    }
   ],
   "source": [
    "cluster_22 = df_clustered.loc[df_clustered['cluster_id']==22]\n",
    "cluster_22['RA-Name'].head()"
   ]
  },
  {
   "cell_type": "code",
   "execution_count": null,
   "id": "f1493bf9",
   "metadata": {},
   "outputs": [],
   "source": []
  },
  {
   "cell_type": "code",
   "execution_count": 44,
   "id": "578687cf",
   "metadata": {},
   "outputs": [],
   "source": [
    "def identify_likely_related_by_name(df):\n",
    "    \"\"\"Identify likely related entities based on name similarity patterns\"\"\"\n",
    "    from difflib import SequenceMatcher\n",
    "    import re\n",
    "    \n",
    "    # Create a dictionary to store likely related pairs\n",
    "    likely_related = {}\n",
    "    \n",
    "    # Get all entity names\n",
    "    entities = df[['EntityID_normalized', 'plaintiff_name_normalized']].values\n",
    "    \n",
    "    # Patterns that strongly suggest relation\n",
    "    sequential_patterns = [\n",
    "        r\"(.*)\\s+[I|V|X]$\",      # Entities with Roman numerals\n",
    "        r\"(.*)\\s+#\\d+$\",         # Entities with sequential numbering\n",
    "        r\"(.*)\\s+\\d+$\",          # Properties with numbers\n",
    "        r\"(.*)\\s+(?:LLC|LP|Inc)$\"  # Same name with different entity types\n",
    "    ]\n",
    "    \n",
    "    # Group by naming patterns\n",
    "    pattern_groups = {}\n",
    "    for pattern in sequential_patterns:\n",
    "        for entity_id, name in entities:\n",
    "            match = re.match(pattern, name)\n",
    "            if match:\n",
    "                base_name = match.group(1).strip()\n",
    "                if base_name not in pattern_groups:\n",
    "                    pattern_groups[base_name] = []\n",
    "                pattern_groups[base_name].append((entity_id, name))\n",
    "    \n",
    "    # Add all pairs that match patterns\n",
    "    for base_name, group in pattern_groups.items():\n",
    "        if len(group) > 1:\n",
    "            likely_related[base_name] = [entity_id for entity_id, _ in group]\n",
    "    \n",
    "    # For entities without obvious patterns, use string similarity\n",
    "    # Group entities by first word to reduce comparison space\n",
    "    first_word_groups = {}\n",
    "    for entity_id, name in entities:\n",
    "        if not any(entity_id in group for group in likely_related.values()):\n",
    "            first_word = name.split()[0].lower() if name and ' ' in name else name.lower()\n",
    "            if first_word not in first_word_groups:\n",
    "                first_word_groups[first_word] = []\n",
    "            first_word_groups[first_word].append((entity_id, name))\n",
    "    \n",
    "    # Check similarity within these groups\n",
    "    for word, group in first_word_groups.items():\n",
    "        if len(group) > 1:\n",
    "            for i in range(len(group)):\n",
    "                for j in range(i+1, len(group)):\n",
    "                    id1, name1 = group[i]\n",
    "                    id2, name2 = group[j]\n",
    "                    similarity = SequenceMatcher(None, name1.lower(), name2.lower()).ratio()\n",
    "                    if similarity > 0.8:  # High similarity threshold\n",
    "                        key = f\"similar_{word}_{i}_{j}\"\n",
    "                        likely_related[key] = [id1, id2]\n",
    "    \n",
    "    return likely_related"
   ]
  },
  {
   "cell_type": "code",
   "execution_count": 46,
   "id": "3e255161",
   "metadata": {},
   "outputs": [
    {
     "data": {
      "text/plain": [
       "(15564, 85)"
      ]
     },
     "execution_count": 46,
     "metadata": {},
     "output_type": "execute_result"
    }
   ],
   "source": [
    "df.shape"
   ]
  },
  {
   "cell_type": "code",
   "execution_count": 47,
   "id": "3f576d5e",
   "metadata": {},
   "outputs": [],
   "source": [
    "a = df.sample(frac=0.1)"
   ]
  },
  {
   "cell_type": "code",
   "execution_count": 48,
   "id": "603fc4d5",
   "metadata": {},
   "outputs": [],
   "source": [
    "x = identify_likely_related_by_name(df)"
   ]
  },
  {
   "cell_type": "code",
   "execution_count": null,
   "id": "ce90a162",
   "metadata": {},
   "outputs": [
    {
     "ename": "AttributeError",
     "evalue": "'dict' object has no attribute 'head'",
     "output_type": "error",
     "traceback": [
      "\u001b[31m---------------------------------------------------------------------------\u001b[39m",
      "\u001b[31mAttributeError\u001b[39m                            Traceback (most recent call last)",
      "\u001b[36mCell\u001b[39m\u001b[36m \u001b[39m\u001b[32mIn[49]\u001b[39m\u001b[32m, line 1\u001b[39m\n\u001b[32m----> \u001b[39m\u001b[32m1\u001b[39m \u001b[43mx\u001b[49m\u001b[43m.\u001b[49m\u001b[43mhead\u001b[49m()\n",
      "\u001b[31mAttributeError\u001b[39m: 'dict' object has no attribute 'head'"
     ]
    }
   ],
   "source": []
  }
 ],
 "metadata": {
  "kernelspec": {
   "display_name": ".venv",
   "language": "python",
   "name": "python3"
  },
  "language_info": {
   "codemirror_mode": {
    "name": "ipython",
    "version": 3
   },
   "file_extension": ".py",
   "mimetype": "text/x-python",
   "name": "python",
   "nbconvert_exporter": "python",
   "pygments_lexer": "ipython3",
   "version": "3.13.3"
  }
 },
 "nbformat": 4,
 "nbformat_minor": 5
}
