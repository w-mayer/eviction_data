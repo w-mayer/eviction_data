{
 "cells": [
  {
   "cell_type": "code",
   "execution_count": 2,
   "id": "7421dda4",
   "metadata": {},
   "outputs": [],
   "source": [
    "import numpy as np\n",
    "import pandas as pd"
   ]
  },
  {
   "cell_type": "code",
   "execution_count": 3,
   "id": "3a6862a2",
   "metadata": {},
   "outputs": [],
   "source": [
    "df = pd.read_parquet('./OUTPUT/evictions_matched.parquet')"
   ]
  },
  {
   "cell_type": "code",
   "execution_count": 4,
   "id": "73d81ec2",
   "metadata": {},
   "outputs": [
    {
     "data": {
      "text/plain": [
       "Index(['plaintiff_name', 'defendant_name', 'defendant_zip', 'c2dp_case_id',\n",
       "       'county', 'fips', 'case_number', 'filed_date', 'case_type', 'debt_type',\n",
       "       'defendant_attorney', 'defendant_dba_ta', 'defendant_address',\n",
       "       'defendant_count', 'all_defendant_names', 'all_defendant_addresses',\n",
       "       'defendant_order_validation', 'hearing_count', 'latest_hearing_date',\n",
       "       'latest_hearing_result', 'judgment', 'homestead_exemption_waived',\n",
       "       'is_judgment_satisfied', 'date_satisfaction_filed',\n",
       "       'further_case_information', 'costs', 'attorney_fees',\n",
       "       'principal_amount', 'interest_award', 'possession',\n",
       "       'writ_of_eviction_issued_date', 'other_amount', 'other_awarded',\n",
       "       'clean_party_name', 'plaintiff_attorney', 'plaintiff_dba_ta',\n",
       "       'plaintiff_address', 'plaintiff_count', 'all_plaintiff_names',\n",
       "       'all_plaintiff_addresses', 'plaintiff_order_validation', 'filed_year',\n",
       "       'filed_quarter', 'plaintiff_zip', 'serial_filing',\n",
       "       'latest_filing_in_serial_window', 'defendant_non_residential',\n",
       "       'plaintiff_name_normalized', 'is_llc', 'EntityID', 'Name', 'Status',\n",
       "       'StatusReason', 'Status Date', 'Duration', 'IncorpDate', 'IncorpState',\n",
       "       'IndustryCode', 'Street1', 'Street2', 'City', 'State', 'Zip',\n",
       "       'PrinOffEffDate', 'RA-Name', 'RA-Street1', 'RA-Street2', 'RA-City',\n",
       "       'RA-State', 'RA-Zip', 'RA-EffDate', 'RA-Status', 'RA-Loc', 'StockInd',\n",
       "       'TotalShares', 'MergerInd', 'AssessInd', 'Is Series LLC',\n",
       "       'Is Protected Series', 'Series LLC ID', 'EntityID_normalized'],\n",
       "      dtype='object')"
      ]
     },
     "execution_count": 4,
     "metadata": {},
     "output_type": "execute_result"
    }
   ],
   "source": [
    "df.columns"
   ]
  },
  {
   "cell_type": "code",
   "execution_count": 7,
   "id": "6aa891c4",
   "metadata": {},
   "outputs": [],
   "source": [
    "plaintiff_col = \"plaintiff_name\"\n",
    "matched_col = \"EntityID\" \n",
    "\n",
    "# Sample 20 random rows where a match was found\n",
    "sample = df[[plaintiff_col, matched_col]].dropna().sample(n=20)\n"
   ]
  },
  {
   "cell_type": "code",
   "execution_count": 8,
   "id": "13d6f81f",
   "metadata": {},
   "outputs": [
    {
     "name": "stdout",
     "output_type": "stream",
     "text": [
      "Filed Plaintiff: KPM LLC\n",
      "Matched LLC:     KPM LLC   \n",
      "------------------------------------------------------------\n",
      "Filed Plaintiff: RBG BEACON 303 ASSOCIATES LLC\n",
      "Matched LLC:     RBG BEACON 303 ASSOCIATES, LLC\n",
      "------------------------------------------------------------\n",
      "Filed Plaintiff: POLIZOS PROPERTIES LLC\n",
      "Matched LLC:     POLIZOS PROPERTIES LLC\n",
      "------------------------------------------------------------\n",
      "Filed Plaintiff: CRS BROOKMONT HOUSING CORP\n",
      "Matched LLC:     J&P HOUSING LLC\n",
      "------------------------------------------------------------\n",
      "Filed Plaintiff: WAVERTON CS DEL OWNER LLC\n",
      "Matched LLC:     Waverton CS Del Owner, LLC\n",
      "------------------------------------------------------------\n",
      "Filed Plaintiff: COMMONS AT PLANT ZERO LLC, THE\n",
      "Matched LLC:     The Commons at Plant Zero, LLC\n",
      "------------------------------------------------------------\n",
      "Filed Plaintiff: WHISPERING OAKS APTS LP\n",
      "Matched LLC:     Salem Colony, LLC - 841 Whispering Woods Court, Protected Series\n",
      "------------------------------------------------------------\n",
      "Filed Plaintiff: RFI SEVEN GABLES LLC\n",
      "Matched LLC:     RFI Seven Gables LLC\n",
      "------------------------------------------------------------\n",
      "Filed Plaintiff: STONERIDGE APTS MARK CENTER OWNERS LLC\n",
      "Matched LLC:     Stoneridge Apartments Mark Center Owner LLC\n",
      "------------------------------------------------------------\n",
      "Filed Plaintiff: ABBITT MGMT LLC\n",
      "Matched LLC:     ABBITT, LLC\n",
      "------------------------------------------------------------\n",
      "Filed Plaintiff: EQUITY RESIDENTIAL MGMT LLC\n",
      "Matched LLC:     MG, L.L.C.\n",
      "------------------------------------------------------------\n",
      "Filed Plaintiff: KRS HOLDINGS INC\n",
      "Matched LLC:     VB StorageMax Holdings, LLC\n",
      "------------------------------------------------------------\n",
      "Filed Plaintiff: GOOSE POND GROVE LLC\n",
      "Matched LLC:     GOOSE POND GROVE, LLC\n",
      "------------------------------------------------------------\n",
      "Filed Plaintiff: AP PRESTON TRAILS LLC\n",
      "Matched LLC:     AP Preston Trails LLC\n",
      "------------------------------------------------------------\n",
      "Filed Plaintiff: INDEPENDENCE ACQUISITION LLC\n",
      "Matched LLC:     Independence Acquisition, LLC\n",
      "------------------------------------------------------------\n",
      "Filed Plaintiff: RFI SEVEN GABLES LLC\n",
      "Matched LLC:     RFI Seven Gables LLC\n",
      "------------------------------------------------------------\n",
      "Filed Plaintiff: COLISEUM INVESTMENT CO LLC\n",
      "Matched LLC:     COLISEUM INVESTMENT CO., LLC\n",
      "------------------------------------------------------------\n",
      "Filed Plaintiff: CEDAR CREEK APTS LP\n",
      "Matched LLC:     Montessori School at Goose Creek Preserve, LLC\n",
      "------------------------------------------------------------\n",
      "Filed Plaintiff: MATTJACK HOLDINGS LLC\n",
      "Matched LLC:     MATTJACK Holdings, LLC\n",
      "------------------------------------------------------------\n",
      "Filed Plaintiff: CAMBRIA ASSOCIATES LP\n",
      "Matched LLC:     Medical Practice Management Associates, LLC\n",
      "------------------------------------------------------------\n"
     ]
    }
   ],
   "source": [
    "for _, row in sample.iterrows():\n",
    "    print(f\"Filed Plaintiff: {row[plaintiff_col]}\\nMatched LLC:     {row[matched_col]}\\n{'-'*60}\")"
   ]
  },
  {
   "cell_type": "code",
   "execution_count": 12,
   "id": "7c1e5fa2",
   "metadata": {},
   "outputs": [
    {
     "name": "stdout",
     "output_type": "stream",
     "text": [
      "EntityID\n",
      "Nora Electronics Inc LLC                      337\n",
      "XXX LIMITED                                   150\n",
      "M and S paving, LLC                           145\n",
      "MG LLC                                        128\n",
      "M&G LLC                                       128\n",
      "MG, L.L.C.                                    128\n",
      "Property Property, LLC                        119\n",
      "Clever Kids Educational Services Inc LLC      110\n",
      "L&C LLC                                        85\n",
      "M, LLC                                         73\n",
      "M+ LLC                                         73\n",
      "SPRINGBUCK BUILDING AND REMODELING, L.L.C.     71\n",
      "Heart + Paw Acquisition Co., LLC               69\n",
      "L&P MAINTENANCE, LLC                           57\n",
      "L., llc                                        49\n",
      "L LLC                                          49\n",
      "111 Sutter Holdings Managing Co., LLC          45\n",
      "OW, LLC                                        43\n",
      "ST LLC                                         40\n",
      "ST, LLC                                        40\n",
      "Name: plaintiff_name, dtype: int64\n"
     ]
    }
   ],
   "source": [
    "grouped_matches = (\n",
    "    df\n",
    "    .groupby(matched_col)[plaintiff_col]\n",
    "    .nunique()\n",
    "    .sort_values(ascending=False)\n",
    ")\n",
    "\n",
    "# Show the top 20 matched names by diversity of inputs\n",
    "print(grouped_matches.head(20))"
   ]
  },
  {
   "cell_type": "code",
   "execution_count": 13,
   "id": "2c3dcfd0",
   "metadata": {},
   "outputs": [
    {
     "name": "stdout",
     "output_type": "stream",
     "text": [
      "All plaintiff names matched to: Nora Electronics Inc LLC \n",
      "plaintiff_name\n",
      "KETTLER MGMT INC    1569\n",
      "UDR INC              930\n",
      "MAAC INC             915\n",
      "GRADY MGMT INC       801\n",
      "G E MATTHEWS INC     619\n",
      "MAISONETTE INC       222\n",
      "JESSCORP INC         199\n",
      "MJRW INC             181\n",
      "TGM MANASSAS INC     180\n",
      "GRADY MGT INC        131\n",
      "NEXUS APTS INC       119\n",
      "IVY ACRES INC        113\n",
      "RPMT INC             106\n",
      "CMG LEASING INC       85\n",
      "REB/BILL INC          72\n",
      "CAMG INC              64\n",
      "RESIDENCE INC         63\n",
      "H2J INC               53\n",
      "BORGER MNGT INC       51\n",
      "SRC VIRGINIA INC      48\n",
      "DPC INC               42\n",
      "HALLMARK INC          41\n",
      "PEOPLE INC            41\n",
      "INDIAN ROCK INC       36\n",
      "LONG MEADOWS INC      34\n",
      "BSV INC 401K          33\n",
      "BARG INC              33\n",
      "VELA INC              31\n",
      "STANCIU MGMT INC      30\n",
      "SUITES INC            30\n",
      "Name: count, dtype: int64\n"
     ]
    }
   ],
   "source": [
    "suspect_match = grouped_matches.index[0]  # or any specific LLC\n",
    "mapped_names = df[df[matched_col] == suspect_match]\n",
    "\n",
    "print(f\"All plaintiff names matched to: {suspect_match}\")\n",
    "print(mapped_names[\"plaintiff_name\"].value_counts().head(30))"
   ]
  }
 ],
 "metadata": {
  "kernelspec": {
   "display_name": ".venv",
   "language": "python",
   "name": "python3"
  },
  "language_info": {
   "codemirror_mode": {
    "name": "ipython",
    "version": 3
   },
   "file_extension": ".py",
   "mimetype": "text/x-python",
   "name": "python",
   "nbconvert_exporter": "python",
   "pygments_lexer": "ipython3",
   "version": "3.11.9"
  }
 },
 "nbformat": 4,
 "nbformat_minor": 5
}
