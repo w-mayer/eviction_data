{
 "cells": [
  {
   "cell_type": "code",
   "execution_count": 1,
   "id": "250fb3fa-a56e-4917-b4d1-3bc7b4f28b85",
   "metadata": {
    "tags": []
   },
   "outputs": [],
   "source": [
    "import pandas as pd"
   ]
  },
  {
   "cell_type": "code",
   "execution_count": 4,
   "id": "01428507-c223-4309-8d56-8480b1f5397d",
   "metadata": {
    "tags": []
   },
   "outputs": [],
   "source": [
    "df = pd.read_parquet('OUTPUT/evictions_matched.parquet')"
   ]
  },
  {
   "cell_type": "code",
   "execution_count": 5,
   "id": "f547dad9-ccec-4694-a855-cd0c7524de8f",
   "metadata": {
    "tags": []
   },
   "outputs": [
    {
     "name": "stdout",
     "output_type": "stream",
     "text": [
      "confidence_bucket\n",
      "<70            0\n",
      "70–80          0\n",
      "80–85          0\n",
      "85–90     218583\n",
      "90–95      63648\n",
      "95–100    233003\n",
      "Name: count, dtype: int64\n"
     ]
    }
   ],
   "source": [
    "df['confidence_bucket'] = pd.cut(\n",
    "    df['match_confidence'],\n",
    "    bins=[0, 70, 80, 85, 90, 95, 100],\n",
    "    labels=['<70', '70–80', '80–85', '85–90', '90–95', '95–100']\n",
    ")\n",
    "\n",
    "# Overview of distribution\n",
    "print(df['confidence_bucket'].value_counts().sort_index())"
   ]
  },
  {
   "cell_type": "code",
   "execution_count": 6,
   "id": "e9d1d669-5571-4916-8527-f79d4ed72bd9",
   "metadata": {
    "tags": []
   },
   "outputs": [
    {
     "name": "stdout",
     "output_type": "stream",
     "text": [
      "\n",
      "--- Sample from Confidence Bucket: 85–90 ---\n"
     ]
    },
    {
     "data": {
      "application/vnd.microsoft.datawrangler.viewer.v0+json": {
       "columns": [
        {
         "name": "index",
         "rawType": "int64",
         "type": "integer"
        },
        {
         "name": "plaintiff_name",
         "rawType": "object",
         "type": "string"
        },
        {
         "name": "EntityID",
         "rawType": "object",
         "type": "string"
        }
       ],
       "conversionMethod": "pd.DataFrame",
       "ref": "1d83b68b-418b-4520-bd89-898737c1e22f",
       "rows": [
        [
         "422845",
         "SLN DEEP CREEK LP",
         "CREEK, LLC"
        ],
        [
         "72053",
         "BOBJACK LTD",
         "C LLC     "
        ],
        [
         "131649",
         "COURTS AT YORKSHIRE LLC",
         "YCO, LLC  "
        ],
        [
         "144659",
         "DEUTSCHE BANK NATIONAL TRUST CO",
         "Savage Candle Co. LLC"
        ],
        [
         "380124",
         "RESIDENCE INC",
         "D.E.N., LLC"
        ]
       ],
       "shape": {
        "columns": 2,
        "rows": 5
       }
      },
      "text/html": [
       "<div>\n",
       "<style scoped>\n",
       "    .dataframe tbody tr th:only-of-type {\n",
       "        vertical-align: middle;\n",
       "    }\n",
       "\n",
       "    .dataframe tbody tr th {\n",
       "        vertical-align: top;\n",
       "    }\n",
       "\n",
       "    .dataframe thead th {\n",
       "        text-align: right;\n",
       "    }\n",
       "</style>\n",
       "<table border=\"1\" class=\"dataframe\">\n",
       "  <thead>\n",
       "    <tr style=\"text-align: right;\">\n",
       "      <th></th>\n",
       "      <th>plaintiff_name</th>\n",
       "      <th>EntityID</th>\n",
       "    </tr>\n",
       "  </thead>\n",
       "  <tbody>\n",
       "    <tr>\n",
       "      <th>422845</th>\n",
       "      <td>SLN DEEP CREEK LP</td>\n",
       "      <td>CREEK, LLC</td>\n",
       "    </tr>\n",
       "    <tr>\n",
       "      <th>72053</th>\n",
       "      <td>BOBJACK LTD</td>\n",
       "      <td>C LLC</td>\n",
       "    </tr>\n",
       "    <tr>\n",
       "      <th>131649</th>\n",
       "      <td>COURTS AT YORKSHIRE LLC</td>\n",
       "      <td>YCO, LLC</td>\n",
       "    </tr>\n",
       "    <tr>\n",
       "      <th>144659</th>\n",
       "      <td>DEUTSCHE BANK NATIONAL TRUST CO</td>\n",
       "      <td>Savage Candle Co. LLC</td>\n",
       "    </tr>\n",
       "    <tr>\n",
       "      <th>380124</th>\n",
       "      <td>RESIDENCE INC</td>\n",
       "      <td>D.E.N., LLC</td>\n",
       "    </tr>\n",
       "  </tbody>\n",
       "</table>\n",
       "</div>"
      ],
      "text/plain": [
       "                         plaintiff_name               EntityID\n",
       "422845                SLN DEEP CREEK LP             CREEK, LLC\n",
       "72053                       BOBJACK LTD             C LLC     \n",
       "131649          COURTS AT YORKSHIRE LLC             YCO, LLC  \n",
       "144659  DEUTSCHE BANK NATIONAL TRUST CO  Savage Candle Co. LLC\n",
       "380124                    RESIDENCE INC            D.E.N., LLC"
      ]
     },
     "metadata": {},
     "output_type": "display_data"
    },
    {
     "name": "stdout",
     "output_type": "stream",
     "text": [
      "\n",
      "--- Sample from Confidence Bucket: 95–100 ---\n"
     ]
    },
    {
     "data": {
      "application/vnd.microsoft.datawrangler.viewer.v0+json": {
       "columns": [
        {
         "name": "index",
         "rawType": "int64",
         "type": "integer"
        },
        {
         "name": "plaintiff_name",
         "rawType": "object",
         "type": "string"
        },
        {
         "name": "EntityID",
         "rawType": "object",
         "type": "string"
        }
       ],
       "conversionMethod": "pd.DataFrame",
       "ref": "d1be7185-f216-492b-afe1-39ba8c1d737f",
       "rows": [
        [
         "11940",
         "5109 GOLDSBORO DRIVE LLC",
         "5109 Goldsboro Drive LLC"
        ],
        [
         "2142",
         "1309 WEST BROAD STREET LLC",
         "1309 West Broad Street, LLC"
        ],
        [
         "511816",
         "WOODSCAPE HC2 LLC",
         "Woodscape HC2, LLC"
        ],
        [
         "381576",
         "RFI SEVEN GABLES LLC",
         "RFI Seven Gables LLC"
        ],
        [
         "489654",
         "WARWICK COMMUNITY LLC",
         "Warwick Community, LLC"
        ]
       ],
       "shape": {
        "columns": 2,
        "rows": 5
       }
      },
      "text/html": [
       "<div>\n",
       "<style scoped>\n",
       "    .dataframe tbody tr th:only-of-type {\n",
       "        vertical-align: middle;\n",
       "    }\n",
       "\n",
       "    .dataframe tbody tr th {\n",
       "        vertical-align: top;\n",
       "    }\n",
       "\n",
       "    .dataframe thead th {\n",
       "        text-align: right;\n",
       "    }\n",
       "</style>\n",
       "<table border=\"1\" class=\"dataframe\">\n",
       "  <thead>\n",
       "    <tr style=\"text-align: right;\">\n",
       "      <th></th>\n",
       "      <th>plaintiff_name</th>\n",
       "      <th>EntityID</th>\n",
       "    </tr>\n",
       "  </thead>\n",
       "  <tbody>\n",
       "    <tr>\n",
       "      <th>11940</th>\n",
       "      <td>5109 GOLDSBORO DRIVE LLC</td>\n",
       "      <td>5109 Goldsboro Drive LLC</td>\n",
       "    </tr>\n",
       "    <tr>\n",
       "      <th>2142</th>\n",
       "      <td>1309 WEST BROAD STREET LLC</td>\n",
       "      <td>1309 West Broad Street, LLC</td>\n",
       "    </tr>\n",
       "    <tr>\n",
       "      <th>511816</th>\n",
       "      <td>WOODSCAPE HC2 LLC</td>\n",
       "      <td>Woodscape HC2, LLC</td>\n",
       "    </tr>\n",
       "    <tr>\n",
       "      <th>381576</th>\n",
       "      <td>RFI SEVEN GABLES LLC</td>\n",
       "      <td>RFI Seven Gables LLC</td>\n",
       "    </tr>\n",
       "    <tr>\n",
       "      <th>489654</th>\n",
       "      <td>WARWICK COMMUNITY LLC</td>\n",
       "      <td>Warwick Community, LLC</td>\n",
       "    </tr>\n",
       "  </tbody>\n",
       "</table>\n",
       "</div>"
      ],
      "text/plain": [
       "                    plaintiff_name                     EntityID\n",
       "11940     5109 GOLDSBORO DRIVE LLC     5109 Goldsboro Drive LLC\n",
       "2142    1309 WEST BROAD STREET LLC  1309 West Broad Street, LLC\n",
       "511816           WOODSCAPE HC2 LLC           Woodscape HC2, LLC\n",
       "381576        RFI SEVEN GABLES LLC         RFI Seven Gables LLC\n",
       "489654       WARWICK COMMUNITY LLC       Warwick Community, LLC"
      ]
     },
     "metadata": {},
     "output_type": "display_data"
    },
    {
     "name": "stdout",
     "output_type": "stream",
     "text": [
      "\n",
      "--- Sample from Confidence Bucket: 90–95 ---\n"
     ]
    },
    {
     "data": {
      "application/vnd.microsoft.datawrangler.viewer.v0+json": {
       "columns": [
        {
         "name": "index",
         "rawType": "int64",
         "type": "integer"
        },
        {
         "name": "plaintiff_name",
         "rawType": "object",
         "type": "string"
        },
        {
         "name": "EntityID",
         "rawType": "object",
         "type": "string"
        }
       ],
       "conversionMethod": "pd.DataFrame",
       "ref": "d2f82fe9-076a-47a2-b3d8-d8e684773bc0",
       "rows": [
        [
         "378966",
         "RENAISSANCE MAYFAIR LLC",
         "RENAISSANCE HAMPTONS MAYFAIR, LLC"
        ],
        [
         "497507",
         "WESTLAKE APTS LLC",
         "Westlake, LLC"
        ],
        [
         "182722",
         "GATES HUDSON AND ASSOCIATES INC",
         "K Hudson and Associates LLC"
        ],
        [
         "484659",
         "VILLAGE AT STONEYBROOK LLC",
         "The Village at StoneyBrook, L.L.C."
        ],
        [
         "87770",
         "BUCKINGHAM MI APTS LP",
         "Buckingham Apts LLC"
        ]
       ],
       "shape": {
        "columns": 2,
        "rows": 5
       }
      },
      "text/html": [
       "<div>\n",
       "<style scoped>\n",
       "    .dataframe tbody tr th:only-of-type {\n",
       "        vertical-align: middle;\n",
       "    }\n",
       "\n",
       "    .dataframe tbody tr th {\n",
       "        vertical-align: top;\n",
       "    }\n",
       "\n",
       "    .dataframe thead th {\n",
       "        text-align: right;\n",
       "    }\n",
       "</style>\n",
       "<table border=\"1\" class=\"dataframe\">\n",
       "  <thead>\n",
       "    <tr style=\"text-align: right;\">\n",
       "      <th></th>\n",
       "      <th>plaintiff_name</th>\n",
       "      <th>EntityID</th>\n",
       "    </tr>\n",
       "  </thead>\n",
       "  <tbody>\n",
       "    <tr>\n",
       "      <th>378966</th>\n",
       "      <td>RENAISSANCE MAYFAIR LLC</td>\n",
       "      <td>RENAISSANCE HAMPTONS MAYFAIR, LLC</td>\n",
       "    </tr>\n",
       "    <tr>\n",
       "      <th>497507</th>\n",
       "      <td>WESTLAKE APTS LLC</td>\n",
       "      <td>Westlake, LLC</td>\n",
       "    </tr>\n",
       "    <tr>\n",
       "      <th>182722</th>\n",
       "      <td>GATES HUDSON AND ASSOCIATES INC</td>\n",
       "      <td>K Hudson and Associates LLC</td>\n",
       "    </tr>\n",
       "    <tr>\n",
       "      <th>484659</th>\n",
       "      <td>VILLAGE AT STONEYBROOK LLC</td>\n",
       "      <td>The Village at StoneyBrook, L.L.C.</td>\n",
       "    </tr>\n",
       "    <tr>\n",
       "      <th>87770</th>\n",
       "      <td>BUCKINGHAM MI APTS LP</td>\n",
       "      <td>Buckingham Apts LLC</td>\n",
       "    </tr>\n",
       "  </tbody>\n",
       "</table>\n",
       "</div>"
      ],
      "text/plain": [
       "                         plaintiff_name                            EntityID\n",
       "378966          RENAISSANCE MAYFAIR LLC   RENAISSANCE HAMPTONS MAYFAIR, LLC\n",
       "497507                WESTLAKE APTS LLC                       Westlake, LLC\n",
       "182722  GATES HUDSON AND ASSOCIATES INC         K Hudson and Associates LLC\n",
       "484659       VILLAGE AT STONEYBROOK LLC  The Village at StoneyBrook, L.L.C.\n",
       "87770             BUCKINGHAM MI APTS LP                 Buckingham Apts LLC"
      ]
     },
     "metadata": {},
     "output_type": "display_data"
    },
    {
     "name": "stdout",
     "output_type": "stream",
     "text": [
      "\n",
      "--- Sample from Confidence Bucket: nan ---\n"
     ]
    },
    {
     "ename": "ValueError",
     "evalue": "a must be greater than 0 unless no samples are taken",
     "output_type": "error",
     "traceback": [
      "\u001b[31m---------------------------------------------------------------------------\u001b[39m",
      "\u001b[31mValueError\u001b[39m                                Traceback (most recent call last)",
      "\u001b[36mCell\u001b[39m\u001b[36m \u001b[39m\u001b[32mIn[6]\u001b[39m\u001b[32m, line 3\u001b[39m\n\u001b[32m      1\u001b[39m \u001b[38;5;28;01mfor\u001b[39;00m bucket \u001b[38;5;129;01min\u001b[39;00m df[\u001b[33m'\u001b[39m\u001b[33mconfidence_bucket\u001b[39m\u001b[33m'\u001b[39m].unique():\n\u001b[32m      2\u001b[39m     \u001b[38;5;28mprint\u001b[39m(\u001b[33mf\u001b[39m\u001b[33m\"\u001b[39m\u001b[38;5;130;01m\\n\u001b[39;00m\u001b[33m--- Sample from Confidence Bucket: \u001b[39m\u001b[38;5;132;01m{\u001b[39;00mbucket\u001b[38;5;132;01m}\u001b[39;00m\u001b[33m ---\u001b[39m\u001b[33m\"\u001b[39m)\n\u001b[32m----> \u001b[39m\u001b[32m3\u001b[39m     display(\u001b[43mdf\u001b[49m\u001b[43m[\u001b[49m\u001b[43mdf\u001b[49m\u001b[43m[\u001b[49m\u001b[33;43m'\u001b[39;49m\u001b[33;43mconfidence_bucket\u001b[39;49m\u001b[33;43m'\u001b[39;49m\u001b[43m]\u001b[49m\u001b[43m \u001b[49m\u001b[43m==\u001b[49m\u001b[43m \u001b[49m\u001b[43mbucket\u001b[49m\u001b[43m]\u001b[49m\u001b[43m[\u001b[49m\u001b[43m[\u001b[49m\u001b[33;43m'\u001b[39;49m\u001b[33;43mplaintiff_name\u001b[39;49m\u001b[33;43m'\u001b[39;49m\u001b[43m,\u001b[49m\u001b[33;43m'\u001b[39;49m\u001b[33;43mEntityID\u001b[39;49m\u001b[33;43m'\u001b[39;49m\u001b[43m]\u001b[49m\u001b[43m]\u001b[49m\u001b[43m.\u001b[49m\u001b[43msample\u001b[49m\u001b[43m(\u001b[49m\u001b[32;43m5\u001b[39;49m\u001b[43m)\u001b[49m)\n",
      "\u001b[36mFile \u001b[39m\u001b[32m~/Desktop/desktop/eviction_data/.venv/lib/python3.11/site-packages/pandas/core/generic.py:6118\u001b[39m, in \u001b[36mNDFrame.sample\u001b[39m\u001b[34m(self, n, frac, replace, weights, random_state, axis, ignore_index)\u001b[39m\n\u001b[32m   6115\u001b[39m \u001b[38;5;28;01mif\u001b[39;00m weights \u001b[38;5;129;01mis\u001b[39;00m \u001b[38;5;129;01mnot\u001b[39;00m \u001b[38;5;28;01mNone\u001b[39;00m:\n\u001b[32m   6116\u001b[39m     weights = sample.preprocess_weights(\u001b[38;5;28mself\u001b[39m, weights, axis)\n\u001b[32m-> \u001b[39m\u001b[32m6118\u001b[39m sampled_indices = \u001b[43msample\u001b[49m\u001b[43m.\u001b[49m\u001b[43msample\u001b[49m\u001b[43m(\u001b[49m\u001b[43mobj_len\u001b[49m\u001b[43m,\u001b[49m\u001b[43m \u001b[49m\u001b[43msize\u001b[49m\u001b[43m,\u001b[49m\u001b[43m \u001b[49m\u001b[43mreplace\u001b[49m\u001b[43m,\u001b[49m\u001b[43m \u001b[49m\u001b[43mweights\u001b[49m\u001b[43m,\u001b[49m\u001b[43m \u001b[49m\u001b[43mrs\u001b[49m\u001b[43m)\u001b[49m\n\u001b[32m   6119\u001b[39m result = \u001b[38;5;28mself\u001b[39m.take(sampled_indices, axis=axis)\n\u001b[32m   6121\u001b[39m \u001b[38;5;28;01mif\u001b[39;00m ignore_index:\n",
      "\u001b[36mFile \u001b[39m\u001b[32m~/Desktop/desktop/eviction_data/.venv/lib/python3.11/site-packages/pandas/core/sample.py:152\u001b[39m, in \u001b[36msample\u001b[39m\u001b[34m(obj_len, size, replace, weights, random_state)\u001b[39m\n\u001b[32m    149\u001b[39m     \u001b[38;5;28;01melse\u001b[39;00m:\n\u001b[32m    150\u001b[39m         \u001b[38;5;28;01mraise\u001b[39;00m \u001b[38;5;167;01mValueError\u001b[39;00m(\u001b[33m\"\u001b[39m\u001b[33mInvalid weights: weights sum to zero\u001b[39m\u001b[33m\"\u001b[39m)\n\u001b[32m--> \u001b[39m\u001b[32m152\u001b[39m \u001b[38;5;28;01mreturn\u001b[39;00m \u001b[43mrandom_state\u001b[49m\u001b[43m.\u001b[49m\u001b[43mchoice\u001b[49m\u001b[43m(\u001b[49m\u001b[43mobj_len\u001b[49m\u001b[43m,\u001b[49m\u001b[43m \u001b[49m\u001b[43msize\u001b[49m\u001b[43m=\u001b[49m\u001b[43msize\u001b[49m\u001b[43m,\u001b[49m\u001b[43m \u001b[49m\u001b[43mreplace\u001b[49m\u001b[43m=\u001b[49m\u001b[43mreplace\u001b[49m\u001b[43m,\u001b[49m\u001b[43m \u001b[49m\u001b[43mp\u001b[49m\u001b[43m=\u001b[49m\u001b[43mweights\u001b[49m\u001b[43m)\u001b[49m.astype(\n\u001b[32m    153\u001b[39m     np.intp, copy=\u001b[38;5;28;01mFalse\u001b[39;00m\n\u001b[32m    154\u001b[39m )\n",
      "\u001b[36mFile \u001b[39m\u001b[32mnumpy/random/mtrand.pyx:964\u001b[39m, in \u001b[36mnumpy.random.mtrand.RandomState.choice\u001b[39m\u001b[34m()\u001b[39m\n",
      "\u001b[31mValueError\u001b[39m: a must be greater than 0 unless no samples are taken"
     ]
    }
   ],
   "source": [
    "for bucket in df['confidence_bucket'].unique():\n",
    "    print(f\"\\n--- Sample from Confidence Bucket: {bucket} ---\")\n",
    "    display(df[df['confidence_bucket'] == bucket][['plaintiff_name','EntityID']].sample(5))"
   ]
  }
 ],
 "metadata": {
  "kernelspec": {
   "display_name": ".venv",
   "language": "python",
   "name": "python3"
  },
  "language_info": {
   "codemirror_mode": {
    "name": "ipython",
    "version": 3
   },
   "file_extension": ".py",
   "mimetype": "text/x-python",
   "name": "python",
   "nbconvert_exporter": "python",
   "pygments_lexer": "ipython3",
   "version": "3.11.9"
  }
 },
 "nbformat": 4,
 "nbformat_minor": 5
}
