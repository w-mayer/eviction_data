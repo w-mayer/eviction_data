{
 "cells": [
  {
   "cell_type": "code",
   "execution_count": 1,
   "id": "250fb3fa-a56e-4917-b4d1-3bc7b4f28b85",
   "metadata": {
    "tags": []
   },
   "outputs": [],
   "source": [
    "import pandas as pd"
   ]
  },
  {
   "cell_type": "code",
   "execution_count": 2,
   "id": "01428507-c223-4309-8d56-8480b1f5397d",
   "metadata": {
    "tags": []
   },
   "outputs": [],
   "source": [
    "df = pd.read_parquet('OUTPUT/evictions_matched.parquet')"
   ]
  },
  {
   "cell_type": "code",
   "execution_count": 3,
   "id": "f547dad9-ccec-4694-a855-cd0c7524de8f",
   "metadata": {
    "tags": []
   },
   "outputs": [
    {
     "name": "stdout",
     "output_type": "stream",
     "text": [
      "confidence_bucket\n",
      "<70            0\n",
      "70–80          0\n",
      "80–85          0\n",
      "85–90     218583\n",
      "90–95      63648\n",
      "95–100    233003\n",
      "Name: count, dtype: int64\n"
     ]
    }
   ],
   "source": [
    "df['confidence_bucket'] = pd.cut(\n",
    "    df['match_confidence'],\n",
    "    bins=[0, 70, 80, 85, 90, 95, 100],\n",
    "    labels=['<70', '70–80', '80–85', '85–90', '90–95', '95–100']\n",
    ")\n",
    "\n",
    "# Overview of distribution\n",
    "print(df['confidence_bucket'].value_counts().sort_index())"
   ]
  },
  {
   "cell_type": "code",
   "execution_count": 5,
   "id": "e9d1d669-5571-4916-8527-f79d4ed72bd9",
   "metadata": {
    "tags": []
   },
   "outputs": [
    {
     "name": "stdout",
     "output_type": "stream",
     "text": [
      "\n",
      "--- Sample from Confidence Bucket: 85–90 ---\n"
     ]
    },
    {
     "data": {
      "application/vnd.microsoft.datawrangler.viewer.v0+json": {
       "columns": [
        {
         "name": "index",
         "rawType": "int64",
         "type": "integer"
        },
        {
         "name": "plaintiff_name",
         "rawType": "object",
         "type": "string"
        },
        {
         "name": "EntityID",
         "rawType": "object",
         "type": "string"
        }
       ],
       "conversionMethod": "pd.DataFrame",
       "ref": "02d478df-fea2-49a7-83fc-babf2668bb94",
       "rows": [
        [
         "338972",
         "ORCHARD MILLS APTS LP",
         "Char, LLC "
        ],
        [
         "487790",
         "VISTAS APTS LP",
         "A.P., LLC "
        ],
        [
         "261110",
         "LAKE VILLAGE LIMITED PARTNERSHIP LLP",
         "E LIM LLC "
        ],
        [
         "244876",
         "KETTLER MGMT INC",
         "KET LLC   "
        ],
        [
         "180549",
         "G AND VII CREEKWOOD LLC",
         "CREEK, LLC"
        ]
       ],
       "shape": {
        "columns": 2,
        "rows": 5
       }
      },
      "text/html": [
       "<div>\n",
       "<style scoped>\n",
       "    .dataframe tbody tr th:only-of-type {\n",
       "        vertical-align: middle;\n",
       "    }\n",
       "\n",
       "    .dataframe tbody tr th {\n",
       "        vertical-align: top;\n",
       "    }\n",
       "\n",
       "    .dataframe thead th {\n",
       "        text-align: right;\n",
       "    }\n",
       "</style>\n",
       "<table border=\"1\" class=\"dataframe\">\n",
       "  <thead>\n",
       "    <tr style=\"text-align: right;\">\n",
       "      <th></th>\n",
       "      <th>plaintiff_name</th>\n",
       "      <th>EntityID</th>\n",
       "    </tr>\n",
       "  </thead>\n",
       "  <tbody>\n",
       "    <tr>\n",
       "      <th>338972</th>\n",
       "      <td>ORCHARD MILLS APTS LP</td>\n",
       "      <td>Char, LLC</td>\n",
       "    </tr>\n",
       "    <tr>\n",
       "      <th>487790</th>\n",
       "      <td>VISTAS APTS LP</td>\n",
       "      <td>A.P., LLC</td>\n",
       "    </tr>\n",
       "    <tr>\n",
       "      <th>261110</th>\n",
       "      <td>LAKE VILLAGE LIMITED PARTNERSHIP LLP</td>\n",
       "      <td>E LIM LLC</td>\n",
       "    </tr>\n",
       "    <tr>\n",
       "      <th>244876</th>\n",
       "      <td>KETTLER MGMT INC</td>\n",
       "      <td>KET LLC</td>\n",
       "    </tr>\n",
       "    <tr>\n",
       "      <th>180549</th>\n",
       "      <td>G AND VII CREEKWOOD LLC</td>\n",
       "      <td>CREEK, LLC</td>\n",
       "    </tr>\n",
       "  </tbody>\n",
       "</table>\n",
       "</div>"
      ],
      "text/plain": [
       "                              plaintiff_name    EntityID\n",
       "338972                 ORCHARD MILLS APTS LP  Char, LLC \n",
       "487790                        VISTAS APTS LP  A.P., LLC \n",
       "261110  LAKE VILLAGE LIMITED PARTNERSHIP LLP  E LIM LLC \n",
       "244876                      KETTLER MGMT INC  KET LLC   \n",
       "180549               G AND VII CREEKWOOD LLC  CREEK, LLC"
      ]
     },
     "metadata": {},
     "output_type": "display_data"
    },
    {
     "name": "stdout",
     "output_type": "stream",
     "text": [
      "\n",
      "--- Sample from Confidence Bucket: 95–100 ---\n"
     ]
    },
    {
     "data": {
      "application/vnd.microsoft.datawrangler.viewer.v0+json": {
       "columns": [
        {
         "name": "index",
         "rawType": "int64",
         "type": "integer"
        },
        {
         "name": "plaintiff_name",
         "rawType": "object",
         "type": "string"
        },
        {
         "name": "EntityID",
         "rawType": "object",
         "type": "string"
        }
       ],
       "conversionMethod": "pd.DataFrame",
       "ref": "144848f7-5227-480c-904e-3d93dd7c0473",
       "rows": [
        [
         "80417",
         "BRIARWOOD COURT ASSOCIATES LLC",
         "BRIARWOOD COURT ASSOCIATES, L.L.C."
        ],
        [
         "223796",
         "INDEPENDENCE ACQUISITION LLC",
         "Independence Acquisition, LLC"
        ],
        [
         "285848",
         "MASTERS PROPERTIES LLC",
         "Master's Properties, LLC"
        ],
        [
         "263615",
         "LANDLORD PRO LLC",
         "Landlord Pro, LLC"
        ],
        [
         "385240",
         "RFI SEVEN GABLES LLC",
         "RFI Seven Gables LLC"
        ]
       ],
       "shape": {
        "columns": 2,
        "rows": 5
       }
      },
      "text/html": [
       "<div>\n",
       "<style scoped>\n",
       "    .dataframe tbody tr th:only-of-type {\n",
       "        vertical-align: middle;\n",
       "    }\n",
       "\n",
       "    .dataframe tbody tr th {\n",
       "        vertical-align: top;\n",
       "    }\n",
       "\n",
       "    .dataframe thead th {\n",
       "        text-align: right;\n",
       "    }\n",
       "</style>\n",
       "<table border=\"1\" class=\"dataframe\">\n",
       "  <thead>\n",
       "    <tr style=\"text-align: right;\">\n",
       "      <th></th>\n",
       "      <th>plaintiff_name</th>\n",
       "      <th>EntityID</th>\n",
       "    </tr>\n",
       "  </thead>\n",
       "  <tbody>\n",
       "    <tr>\n",
       "      <th>80417</th>\n",
       "      <td>BRIARWOOD COURT ASSOCIATES LLC</td>\n",
       "      <td>BRIARWOOD COURT ASSOCIATES, L.L.C.</td>\n",
       "    </tr>\n",
       "    <tr>\n",
       "      <th>223796</th>\n",
       "      <td>INDEPENDENCE ACQUISITION LLC</td>\n",
       "      <td>Independence Acquisition, LLC</td>\n",
       "    </tr>\n",
       "    <tr>\n",
       "      <th>285848</th>\n",
       "      <td>MASTERS PROPERTIES LLC</td>\n",
       "      <td>Master's Properties, LLC</td>\n",
       "    </tr>\n",
       "    <tr>\n",
       "      <th>263615</th>\n",
       "      <td>LANDLORD PRO LLC</td>\n",
       "      <td>Landlord Pro, LLC</td>\n",
       "    </tr>\n",
       "    <tr>\n",
       "      <th>385240</th>\n",
       "      <td>RFI SEVEN GABLES LLC</td>\n",
       "      <td>RFI Seven Gables LLC</td>\n",
       "    </tr>\n",
       "  </tbody>\n",
       "</table>\n",
       "</div>"
      ],
      "text/plain": [
       "                        plaintiff_name                            EntityID\n",
       "80417   BRIARWOOD COURT ASSOCIATES LLC  BRIARWOOD COURT ASSOCIATES, L.L.C.\n",
       "223796    INDEPENDENCE ACQUISITION LLC       Independence Acquisition, LLC\n",
       "285848          MASTERS PROPERTIES LLC            Master's Properties, LLC\n",
       "263615                LANDLORD PRO LLC                   Landlord Pro, LLC\n",
       "385240            RFI SEVEN GABLES LLC                RFI Seven Gables LLC"
      ]
     },
     "metadata": {},
     "output_type": "display_data"
    },
    {
     "name": "stdout",
     "output_type": "stream",
     "text": [
      "\n",
      "--- Sample from Confidence Bucket: 90–95 ---\n"
     ]
    },
    {
     "data": {
      "application/vnd.microsoft.datawrangler.viewer.v0+json": {
       "columns": [
        {
         "name": "index",
         "rawType": "int64",
         "type": "integer"
        },
        {
         "name": "plaintiff_name",
         "rawType": "object",
         "type": "string"
        },
        {
         "name": "EntityID",
         "rawType": "object",
         "type": "string"
        }
       ],
       "conversionMethod": "pd.DataFrame",
       "ref": "2eef60f3-2b58-4bae-8d8c-2f2a08f322cf",
       "rows": [
        [
         "317563",
         "NORTHVIEW APTS LLC",
         "NORTHVIEW, L.L.C."
        ],
        [
         "89881",
         "C G P ASSOCIATES LLC",
         "C. P. ASSOCIATES, LLC"
        ],
        [
         "70719",
         "BLUE WATER DEV LLC",
         "Blue Water LLC"
        ],
        [
         "378943",
         "RENAISSANCE MAYFAIR LLC",
         "RENAISSANCE HAMPTONS MAYFAIR, LLC"
        ],
        [
         "10066",
         "425 CAMPBELL AVE LLC",
         "425 CAMPBELL AVENUE, LLC"
        ]
       ],
       "shape": {
        "columns": 2,
        "rows": 5
       }
      },
      "text/html": [
       "<div>\n",
       "<style scoped>\n",
       "    .dataframe tbody tr th:only-of-type {\n",
       "        vertical-align: middle;\n",
       "    }\n",
       "\n",
       "    .dataframe tbody tr th {\n",
       "        vertical-align: top;\n",
       "    }\n",
       "\n",
       "    .dataframe thead th {\n",
       "        text-align: right;\n",
       "    }\n",
       "</style>\n",
       "<table border=\"1\" class=\"dataframe\">\n",
       "  <thead>\n",
       "    <tr style=\"text-align: right;\">\n",
       "      <th></th>\n",
       "      <th>plaintiff_name</th>\n",
       "      <th>EntityID</th>\n",
       "    </tr>\n",
       "  </thead>\n",
       "  <tbody>\n",
       "    <tr>\n",
       "      <th>317563</th>\n",
       "      <td>NORTHVIEW APTS LLC</td>\n",
       "      <td>NORTHVIEW, L.L.C.</td>\n",
       "    </tr>\n",
       "    <tr>\n",
       "      <th>89881</th>\n",
       "      <td>C G P ASSOCIATES LLC</td>\n",
       "      <td>C. P. ASSOCIATES, LLC</td>\n",
       "    </tr>\n",
       "    <tr>\n",
       "      <th>70719</th>\n",
       "      <td>BLUE WATER DEV LLC</td>\n",
       "      <td>Blue Water LLC</td>\n",
       "    </tr>\n",
       "    <tr>\n",
       "      <th>378943</th>\n",
       "      <td>RENAISSANCE MAYFAIR LLC</td>\n",
       "      <td>RENAISSANCE HAMPTONS MAYFAIR, LLC</td>\n",
       "    </tr>\n",
       "    <tr>\n",
       "      <th>10066</th>\n",
       "      <td>425 CAMPBELL AVE LLC</td>\n",
       "      <td>425 CAMPBELL AVENUE, LLC</td>\n",
       "    </tr>\n",
       "  </tbody>\n",
       "</table>\n",
       "</div>"
      ],
      "text/plain": [
       "                 plaintiff_name                           EntityID\n",
       "317563       NORTHVIEW APTS LLC                  NORTHVIEW, L.L.C.\n",
       "89881      C G P ASSOCIATES LLC              C. P. ASSOCIATES, LLC\n",
       "70719        BLUE WATER DEV LLC                     Blue Water LLC\n",
       "378943  RENAISSANCE MAYFAIR LLC  RENAISSANCE HAMPTONS MAYFAIR, LLC\n",
       "10066      425 CAMPBELL AVE LLC           425 CAMPBELL AVENUE, LLC"
      ]
     },
     "metadata": {},
     "output_type": "display_data"
    },
    {
     "name": "stdout",
     "output_type": "stream",
     "text": [
      "\n",
      "--- Sample from Confidence Bucket: nan ---\n"
     ]
    },
    {
     "ename": "ValueError",
     "evalue": "a must be greater than 0 unless no samples are taken",
     "output_type": "error",
     "traceback": [
      "\u001b[31m---------------------------------------------------------------------------\u001b[39m",
      "\u001b[31mValueError\u001b[39m                                Traceback (most recent call last)",
      "\u001b[36mCell\u001b[39m\u001b[36m \u001b[39m\u001b[32mIn[5]\u001b[39m\u001b[32m, line 3\u001b[39m\n\u001b[32m      1\u001b[39m \u001b[38;5;28;01mfor\u001b[39;00m bucket \u001b[38;5;129;01min\u001b[39;00m df[\u001b[33m'\u001b[39m\u001b[33mconfidence_bucket\u001b[39m\u001b[33m'\u001b[39m].unique():\n\u001b[32m      2\u001b[39m     \u001b[38;5;28mprint\u001b[39m(\u001b[33mf\u001b[39m\u001b[33m\"\u001b[39m\u001b[38;5;130;01m\\n\u001b[39;00m\u001b[33m--- Sample from Confidence Bucket: \u001b[39m\u001b[38;5;132;01m{\u001b[39;00mbucket\u001b[38;5;132;01m}\u001b[39;00m\u001b[33m ---\u001b[39m\u001b[33m\"\u001b[39m)\n\u001b[32m----> \u001b[39m\u001b[32m3\u001b[39m     display(\u001b[43mdf\u001b[49m\u001b[43m[\u001b[49m\u001b[43mdf\u001b[49m\u001b[43m[\u001b[49m\u001b[33;43m'\u001b[39;49m\u001b[33;43mconfidence_bucket\u001b[39;49m\u001b[33;43m'\u001b[39;49m\u001b[43m]\u001b[49m\u001b[43m \u001b[49m\u001b[43m==\u001b[49m\u001b[43m \u001b[49m\u001b[43mbucket\u001b[49m\u001b[43m]\u001b[49m\u001b[43m[\u001b[49m\u001b[43m[\u001b[49m\u001b[33;43m'\u001b[39;49m\u001b[33;43mplaintiff_name\u001b[39;49m\u001b[33;43m'\u001b[39;49m\u001b[43m,\u001b[49m\u001b[33;43m'\u001b[39;49m\u001b[33;43mEntityID\u001b[39;49m\u001b[33;43m'\u001b[39;49m\u001b[43m]\u001b[49m\u001b[43m]\u001b[49m\u001b[43m.\u001b[49m\u001b[43msample\u001b[49m\u001b[43m(\u001b[49m\u001b[32;43m5\u001b[39;49m\u001b[43m)\u001b[49m)\n",
      "\u001b[36mFile \u001b[39m\u001b[32m~/Desktop/desktop/eviction_data/.venv/lib/python3.11/site-packages/pandas/core/generic.py:6118\u001b[39m, in \u001b[36mNDFrame.sample\u001b[39m\u001b[34m(self, n, frac, replace, weights, random_state, axis, ignore_index)\u001b[39m\n\u001b[32m   6115\u001b[39m \u001b[38;5;28;01mif\u001b[39;00m weights \u001b[38;5;129;01mis\u001b[39;00m \u001b[38;5;129;01mnot\u001b[39;00m \u001b[38;5;28;01mNone\u001b[39;00m:\n\u001b[32m   6116\u001b[39m     weights = sample.preprocess_weights(\u001b[38;5;28mself\u001b[39m, weights, axis)\n\u001b[32m-> \u001b[39m\u001b[32m6118\u001b[39m sampled_indices = \u001b[43msample\u001b[49m\u001b[43m.\u001b[49m\u001b[43msample\u001b[49m\u001b[43m(\u001b[49m\u001b[43mobj_len\u001b[49m\u001b[43m,\u001b[49m\u001b[43m \u001b[49m\u001b[43msize\u001b[49m\u001b[43m,\u001b[49m\u001b[43m \u001b[49m\u001b[43mreplace\u001b[49m\u001b[43m,\u001b[49m\u001b[43m \u001b[49m\u001b[43mweights\u001b[49m\u001b[43m,\u001b[49m\u001b[43m \u001b[49m\u001b[43mrs\u001b[49m\u001b[43m)\u001b[49m\n\u001b[32m   6119\u001b[39m result = \u001b[38;5;28mself\u001b[39m.take(sampled_indices, axis=axis)\n\u001b[32m   6121\u001b[39m \u001b[38;5;28;01mif\u001b[39;00m ignore_index:\n",
      "\u001b[36mFile \u001b[39m\u001b[32m~/Desktop/desktop/eviction_data/.venv/lib/python3.11/site-packages/pandas/core/sample.py:152\u001b[39m, in \u001b[36msample\u001b[39m\u001b[34m(obj_len, size, replace, weights, random_state)\u001b[39m\n\u001b[32m    149\u001b[39m     \u001b[38;5;28;01melse\u001b[39;00m:\n\u001b[32m    150\u001b[39m         \u001b[38;5;28;01mraise\u001b[39;00m \u001b[38;5;167;01mValueError\u001b[39;00m(\u001b[33m\"\u001b[39m\u001b[33mInvalid weights: weights sum to zero\u001b[39m\u001b[33m\"\u001b[39m)\n\u001b[32m--> \u001b[39m\u001b[32m152\u001b[39m \u001b[38;5;28;01mreturn\u001b[39;00m \u001b[43mrandom_state\u001b[49m\u001b[43m.\u001b[49m\u001b[43mchoice\u001b[49m\u001b[43m(\u001b[49m\u001b[43mobj_len\u001b[49m\u001b[43m,\u001b[49m\u001b[43m \u001b[49m\u001b[43msize\u001b[49m\u001b[43m=\u001b[49m\u001b[43msize\u001b[49m\u001b[43m,\u001b[49m\u001b[43m \u001b[49m\u001b[43mreplace\u001b[49m\u001b[43m=\u001b[49m\u001b[43mreplace\u001b[49m\u001b[43m,\u001b[49m\u001b[43m \u001b[49m\u001b[43mp\u001b[49m\u001b[43m=\u001b[49m\u001b[43mweights\u001b[49m\u001b[43m)\u001b[49m.astype(\n\u001b[32m    153\u001b[39m     np.intp, copy=\u001b[38;5;28;01mFalse\u001b[39;00m\n\u001b[32m    154\u001b[39m )\n",
      "\u001b[36mFile \u001b[39m\u001b[32mnumpy/random/mtrand.pyx:964\u001b[39m, in \u001b[36mnumpy.random.mtrand.RandomState.choice\u001b[39m\u001b[34m()\u001b[39m\n",
      "\u001b[31mValueError\u001b[39m: a must be greater than 0 unless no samples are taken"
     ]
    }
   ],
   "source": [
    "for bucket in df['confidence_bucket'].unique():\n",
    "    print(f\"\\n--- Sample from Confidence Bucket: {bucket} ---\")\n",
    "    display(df[df['confidence_bucket'] == bucket][['plaintiff_name','EntityID']].sample(5))"
   ]
  }
 ],
 "metadata": {
  "kernelspec": {
   "display_name": ".venv",
   "language": "python",
   "name": "python3"
  },
  "language_info": {
   "codemirror_mode": {
    "name": "ipython",
    "version": 3
   },
   "file_extension": ".py",
   "mimetype": "text/x-python",
   "name": "python",
   "nbconvert_exporter": "python",
   "pygments_lexer": "ipython3",
   "version": "3.11.9"
  }
 },
 "nbformat": 4,
 "nbformat_minor": 5
}
